{
 "cells": [
  {
   "cell_type": "markdown",
   "metadata": {},
   "source": [
    "# Clustering Crypto"
   ]
  },
  {
   "cell_type": "code",
   "execution_count": null,
   "metadata": {},
   "outputs": [],
   "source": [
    "# Initial imports\n",
    "import pandas as pd\n",
    "import hvplot.pandas\n",
    "from path import Path\n",
    "import plotly.express as px\n",
    "from sklearn.preprocessing import StandardScaler, MinMaxScaler\n",
    "from sklearn.decomposition import PCA\n",
    "from sklearn.cluster import KMeans\n"
   ]
  },
  {
   "cell_type": "markdown",
   "metadata": {},
   "source": [
    "### Deliverable 1: Preprocessing the Data for PCA"
   ]
  },
  {
   "cell_type": "code",
   "execution_count": null,
   "metadata": {},
   "outputs": [],
   "source": [
    "# Load the crypto_data.csv dataset.\n",
    "file_path = 'Resources/crypto_data.csv'\n",
    "crypto_df = pd.read_csv(file_path, index_col=0)\n",
    "crypto_df.head(10)"
   ]
  },
  {
   "cell_type": "code",
   "execution_count": null,
   "metadata": {},
   "outputs": [],
   "source": [
    "# Keep all the cryptocurrencies that are being traded.\n",
    "crypto_df = crypto_df.loc[crypto_df['IsTrading'] == True]\n",
    "crypto_df.shape"
   ]
  },
  {
   "cell_type": "code",
   "execution_count": 4,
   "metadata": {},
   "outputs": [
    {
     "data": {
      "text/html": [
       "<div>\n",
       "<style scoped>\n",
       "    .dataframe tbody tr th:only-of-type {\n",
       "        vertical-align: middle;\n",
       "    }\n",
       "\n",
       "    .dataframe tbody tr th {\n",
       "        vertical-align: top;\n",
       "    }\n",
       "\n",
       "    .dataframe thead th {\n",
       "        text-align: right;\n",
       "    }\n",
       "</style>\n",
       "<table border=\"1\" class=\"dataframe\">\n",
       "  <thead>\n",
       "    <tr style=\"text-align: right;\">\n",
       "      <th></th>\n",
       "      <th>CoinName</th>\n",
       "      <th>Algorithm</th>\n",
       "      <th>IsTrading</th>\n",
       "      <th>ProofType</th>\n",
       "      <th>TotalCoinsMined</th>\n",
       "      <th>TotalCoinSupply</th>\n",
       "    </tr>\n",
       "  </thead>\n",
       "  <tbody>\n",
       "    <tr>\n",
       "      <th>42</th>\n",
       "      <td>42 Coin</td>\n",
       "      <td>Scrypt</td>\n",
       "      <td>True</td>\n",
       "      <td>PoW/PoS</td>\n",
       "      <td>4.199995e+01</td>\n",
       "      <td>42</td>\n",
       "    </tr>\n",
       "    <tr>\n",
       "      <th>365</th>\n",
       "      <td>365Coin</td>\n",
       "      <td>X11</td>\n",
       "      <td>True</td>\n",
       "      <td>PoW/PoS</td>\n",
       "      <td>NaN</td>\n",
       "      <td>2300000000</td>\n",
       "    </tr>\n",
       "    <tr>\n",
       "      <th>404</th>\n",
       "      <td>404Coin</td>\n",
       "      <td>Scrypt</td>\n",
       "      <td>True</td>\n",
       "      <td>PoW/PoS</td>\n",
       "      <td>1.055185e+09</td>\n",
       "      <td>532000000</td>\n",
       "    </tr>\n",
       "    <tr>\n",
       "      <th>611</th>\n",
       "      <td>SixEleven</td>\n",
       "      <td>SHA-256</td>\n",
       "      <td>True</td>\n",
       "      <td>PoW</td>\n",
       "      <td>NaN</td>\n",
       "      <td>611000</td>\n",
       "    </tr>\n",
       "    <tr>\n",
       "      <th>808</th>\n",
       "      <td>808</td>\n",
       "      <td>SHA-256</td>\n",
       "      <td>True</td>\n",
       "      <td>PoW/PoS</td>\n",
       "      <td>0.000000e+00</td>\n",
       "      <td>0</td>\n",
       "    </tr>\n",
       "    <tr>\n",
       "      <th>...</th>\n",
       "      <td>...</td>\n",
       "      <td>...</td>\n",
       "      <td>...</td>\n",
       "      <td>...</td>\n",
       "      <td>...</td>\n",
       "      <td>...</td>\n",
       "    </tr>\n",
       "    <tr>\n",
       "      <th>SERO</th>\n",
       "      <td>Super Zero</td>\n",
       "      <td>Ethash</td>\n",
       "      <td>True</td>\n",
       "      <td>PoW</td>\n",
       "      <td>NaN</td>\n",
       "      <td>1000000000</td>\n",
       "    </tr>\n",
       "    <tr>\n",
       "      <th>UOS</th>\n",
       "      <td>UOS</td>\n",
       "      <td>SHA-256</td>\n",
       "      <td>True</td>\n",
       "      <td>DPoI</td>\n",
       "      <td>NaN</td>\n",
       "      <td>1000000000</td>\n",
       "    </tr>\n",
       "    <tr>\n",
       "      <th>BDX</th>\n",
       "      <td>Beldex</td>\n",
       "      <td>CryptoNight</td>\n",
       "      <td>True</td>\n",
       "      <td>PoW</td>\n",
       "      <td>9.802226e+08</td>\n",
       "      <td>1400222610</td>\n",
       "    </tr>\n",
       "    <tr>\n",
       "      <th>ZEN</th>\n",
       "      <td>Horizen</td>\n",
       "      <td>Equihash</td>\n",
       "      <td>True</td>\n",
       "      <td>PoW</td>\n",
       "      <td>7.296538e+06</td>\n",
       "      <td>21000000</td>\n",
       "    </tr>\n",
       "    <tr>\n",
       "      <th>XBC</th>\n",
       "      <td>BitcoinPlus</td>\n",
       "      <td>Scrypt</td>\n",
       "      <td>True</td>\n",
       "      <td>PoS</td>\n",
       "      <td>1.283270e+05</td>\n",
       "      <td>1000000</td>\n",
       "    </tr>\n",
       "  </tbody>\n",
       "</table>\n",
       "<p>1144 rows × 6 columns</p>\n",
       "</div>"
      ],
      "text/plain": [
       "         CoinName    Algorithm  IsTrading ProofType  TotalCoinsMined  \\\n",
       "42        42 Coin       Scrypt       True   PoW/PoS     4.199995e+01   \n",
       "365       365Coin          X11       True   PoW/PoS              NaN   \n",
       "404       404Coin       Scrypt       True   PoW/PoS     1.055185e+09   \n",
       "611     SixEleven      SHA-256       True       PoW              NaN   \n",
       "808           808      SHA-256       True   PoW/PoS     0.000000e+00   \n",
       "...           ...          ...        ...       ...              ...   \n",
       "SERO   Super Zero       Ethash       True       PoW              NaN   \n",
       "UOS           UOS      SHA-256       True      DPoI              NaN   \n",
       "BDX        Beldex  CryptoNight       True       PoW     9.802226e+08   \n",
       "ZEN       Horizen     Equihash       True       PoW     7.296538e+06   \n",
       "XBC   BitcoinPlus       Scrypt       True       PoS     1.283270e+05   \n",
       "\n",
       "     TotalCoinSupply  \n",
       "42                42  \n",
       "365       2300000000  \n",
       "404        532000000  \n",
       "611           611000  \n",
       "808                0  \n",
       "...              ...  \n",
       "SERO      1000000000  \n",
       "UOS       1000000000  \n",
       "BDX       1400222610  \n",
       "ZEN         21000000  \n",
       "XBC          1000000  \n",
       "\n",
       "[1144 rows x 6 columns]"
      ]
     },
     "execution_count": 4,
     "metadata": {},
     "output_type": "execute_result"
    }
   ],
   "source": [
    "# Keep all the cryptocurrencies that have a working algorithm.\n",
    "crypto_df"
   ]
  },
  {
   "cell_type": "code",
   "execution_count": 5,
   "metadata": {},
   "outputs": [
    {
     "data": {
      "text/plain": [
       "(1144, 5)"
      ]
     },
     "execution_count": 5,
     "metadata": {},
     "output_type": "execute_result"
    }
   ],
   "source": [
    "# Remove the \"IsTrading\" column. \n",
    "crypto_df = crypto_df.drop('IsTrading', axis=1)\n",
    "crypto_df.shape"
   ]
  },
  {
   "cell_type": "code",
   "execution_count": 6,
   "metadata": {},
   "outputs": [
    {
     "data": {
      "text/html": [
       "<div>\n",
       "<style scoped>\n",
       "    .dataframe tbody tr th:only-of-type {\n",
       "        vertical-align: middle;\n",
       "    }\n",
       "\n",
       "    .dataframe tbody tr th {\n",
       "        vertical-align: top;\n",
       "    }\n",
       "\n",
       "    .dataframe thead th {\n",
       "        text-align: right;\n",
       "    }\n",
       "</style>\n",
       "<table border=\"1\" class=\"dataframe\">\n",
       "  <thead>\n",
       "    <tr style=\"text-align: right;\">\n",
       "      <th></th>\n",
       "      <th>CoinName</th>\n",
       "      <th>Algorithm</th>\n",
       "      <th>ProofType</th>\n",
       "      <th>TotalCoinsMined</th>\n",
       "      <th>TotalCoinSupply</th>\n",
       "    </tr>\n",
       "  </thead>\n",
       "  <tbody>\n",
       "    <tr>\n",
       "      <th>42</th>\n",
       "      <td>42 Coin</td>\n",
       "      <td>Scrypt</td>\n",
       "      <td>PoW/PoS</td>\n",
       "      <td>4.199995e+01</td>\n",
       "      <td>42</td>\n",
       "    </tr>\n",
       "    <tr>\n",
       "      <th>365</th>\n",
       "      <td>365Coin</td>\n",
       "      <td>X11</td>\n",
       "      <td>PoW/PoS</td>\n",
       "      <td>NaN</td>\n",
       "      <td>2300000000</td>\n",
       "    </tr>\n",
       "    <tr>\n",
       "      <th>404</th>\n",
       "      <td>404Coin</td>\n",
       "      <td>Scrypt</td>\n",
       "      <td>PoW/PoS</td>\n",
       "      <td>1.055185e+09</td>\n",
       "      <td>532000000</td>\n",
       "    </tr>\n",
       "    <tr>\n",
       "      <th>611</th>\n",
       "      <td>SixEleven</td>\n",
       "      <td>SHA-256</td>\n",
       "      <td>PoW</td>\n",
       "      <td>NaN</td>\n",
       "      <td>611000</td>\n",
       "    </tr>\n",
       "    <tr>\n",
       "      <th>808</th>\n",
       "      <td>808</td>\n",
       "      <td>SHA-256</td>\n",
       "      <td>PoW/PoS</td>\n",
       "      <td>0.000000e+00</td>\n",
       "      <td>0</td>\n",
       "    </tr>\n",
       "  </tbody>\n",
       "</table>\n",
       "</div>"
      ],
      "text/plain": [
       "      CoinName Algorithm ProofType  TotalCoinsMined TotalCoinSupply\n",
       "42     42 Coin    Scrypt   PoW/PoS     4.199995e+01              42\n",
       "365    365Coin       X11   PoW/PoS              NaN      2300000000\n",
       "404    404Coin    Scrypt   PoW/PoS     1.055185e+09       532000000\n",
       "611  SixEleven   SHA-256       PoW              NaN          611000\n",
       "808        808   SHA-256   PoW/PoS     0.000000e+00               0"
      ]
     },
     "execution_count": 6,
     "metadata": {},
     "output_type": "execute_result"
    }
   ],
   "source": [
    "crypto_df.head()"
   ]
  },
  {
   "cell_type": "code",
   "execution_count": 7,
   "metadata": {},
   "outputs": [
    {
     "data": {
      "text/plain": [
       "(685, 5)"
      ]
     },
     "execution_count": 7,
     "metadata": {},
     "output_type": "execute_result"
    }
   ],
   "source": [
    "# Remove rows that have at least 1 null value.\n",
    "crypto_df = crypto_df.dropna()\n",
    "crypto_df.shape"
   ]
  },
  {
   "cell_type": "code",
   "execution_count": 8,
   "metadata": {},
   "outputs": [
    {
     "data": {
      "text/plain": [
       "(532, 5)"
      ]
     },
     "execution_count": 8,
     "metadata": {},
     "output_type": "execute_result"
    }
   ],
   "source": [
    "# Keep the rows where coins are mined.\n",
    "crypto_df = crypto_df.loc[crypto_df['TotalCoinsMined'] > 0]\n",
    "crypto_df.shape"
   ]
  },
  {
   "cell_type": "code",
   "execution_count": 9,
   "metadata": {},
   "outputs": [
    {
     "data": {
      "text/html": [
       "<div>\n",
       "<style scoped>\n",
       "    .dataframe tbody tr th:only-of-type {\n",
       "        vertical-align: middle;\n",
       "    }\n",
       "\n",
       "    .dataframe tbody tr th {\n",
       "        vertical-align: top;\n",
       "    }\n",
       "\n",
       "    .dataframe thead th {\n",
       "        text-align: right;\n",
       "    }\n",
       "</style>\n",
       "<table border=\"1\" class=\"dataframe\">\n",
       "  <thead>\n",
       "    <tr style=\"text-align: right;\">\n",
       "      <th></th>\n",
       "      <th>CoinName</th>\n",
       "    </tr>\n",
       "  </thead>\n",
       "  <tbody>\n",
       "    <tr>\n",
       "      <th>42</th>\n",
       "      <td>42 Coin</td>\n",
       "    </tr>\n",
       "    <tr>\n",
       "      <th>404</th>\n",
       "      <td>404Coin</td>\n",
       "    </tr>\n",
       "    <tr>\n",
       "      <th>1337</th>\n",
       "      <td>EliteCoin</td>\n",
       "    </tr>\n",
       "    <tr>\n",
       "      <th>BTC</th>\n",
       "      <td>Bitcoin</td>\n",
       "    </tr>\n",
       "    <tr>\n",
       "      <th>ETH</th>\n",
       "      <td>Ethereum</td>\n",
       "    </tr>\n",
       "  </tbody>\n",
       "</table>\n",
       "</div>"
      ],
      "text/plain": [
       "       CoinName\n",
       "42      42 Coin\n",
       "404     404Coin\n",
       "1337  EliteCoin\n",
       "BTC     Bitcoin\n",
       "ETH    Ethereum"
      ]
     },
     "execution_count": 9,
     "metadata": {},
     "output_type": "execute_result"
    }
   ],
   "source": [
    "# Create a new DataFrame that holds only the cryptocurrencies names.\n",
    "crypto_names_df = crypto_df.drop(columns=[\"Algorithm\",\"ProofType\",\"TotalCoinsMined\",\n",
    "                                 \"TotalCoinSupply\"])\n",
    "crypto_names_df.head()"
   ]
  },
  {
   "cell_type": "code",
   "execution_count": 10,
   "metadata": {},
   "outputs": [
    {
     "data": {
      "text/html": [
       "<div>\n",
       "<style scoped>\n",
       "    .dataframe tbody tr th:only-of-type {\n",
       "        vertical-align: middle;\n",
       "    }\n",
       "\n",
       "    .dataframe tbody tr th {\n",
       "        vertical-align: top;\n",
       "    }\n",
       "\n",
       "    .dataframe thead th {\n",
       "        text-align: right;\n",
       "    }\n",
       "</style>\n",
       "<table border=\"1\" class=\"dataframe\">\n",
       "  <thead>\n",
       "    <tr style=\"text-align: right;\">\n",
       "      <th></th>\n",
       "      <th>Algorithm</th>\n",
       "      <th>ProofType</th>\n",
       "      <th>TotalCoinsMined</th>\n",
       "      <th>TotalCoinSupply</th>\n",
       "    </tr>\n",
       "  </thead>\n",
       "  <tbody>\n",
       "    <tr>\n",
       "      <th>42</th>\n",
       "      <td>Scrypt</td>\n",
       "      <td>PoW/PoS</td>\n",
       "      <td>4.199995e+01</td>\n",
       "      <td>42</td>\n",
       "    </tr>\n",
       "    <tr>\n",
       "      <th>404</th>\n",
       "      <td>Scrypt</td>\n",
       "      <td>PoW/PoS</td>\n",
       "      <td>1.055185e+09</td>\n",
       "      <td>532000000</td>\n",
       "    </tr>\n",
       "    <tr>\n",
       "      <th>1337</th>\n",
       "      <td>X13</td>\n",
       "      <td>PoW/PoS</td>\n",
       "      <td>2.927942e+10</td>\n",
       "      <td>314159265359</td>\n",
       "    </tr>\n",
       "    <tr>\n",
       "      <th>BTC</th>\n",
       "      <td>SHA-256</td>\n",
       "      <td>PoW</td>\n",
       "      <td>1.792718e+07</td>\n",
       "      <td>21000000</td>\n",
       "    </tr>\n",
       "    <tr>\n",
       "      <th>ETH</th>\n",
       "      <td>Ethash</td>\n",
       "      <td>PoW</td>\n",
       "      <td>1.076842e+08</td>\n",
       "      <td>0</td>\n",
       "    </tr>\n",
       "    <tr>\n",
       "      <th>LTC</th>\n",
       "      <td>Scrypt</td>\n",
       "      <td>PoW</td>\n",
       "      <td>6.303924e+07</td>\n",
       "      <td>84000000</td>\n",
       "    </tr>\n",
       "    <tr>\n",
       "      <th>DASH</th>\n",
       "      <td>X11</td>\n",
       "      <td>PoW/PoS</td>\n",
       "      <td>9.031294e+06</td>\n",
       "      <td>22000000</td>\n",
       "    </tr>\n",
       "    <tr>\n",
       "      <th>XMR</th>\n",
       "      <td>CryptoNight-V7</td>\n",
       "      <td>PoW</td>\n",
       "      <td>1.720114e+07</td>\n",
       "      <td>0</td>\n",
       "    </tr>\n",
       "    <tr>\n",
       "      <th>ETC</th>\n",
       "      <td>Ethash</td>\n",
       "      <td>PoW</td>\n",
       "      <td>1.133597e+08</td>\n",
       "      <td>210000000</td>\n",
       "    </tr>\n",
       "    <tr>\n",
       "      <th>ZEC</th>\n",
       "      <td>Equihash</td>\n",
       "      <td>PoW</td>\n",
       "      <td>7.383056e+06</td>\n",
       "      <td>21000000</td>\n",
       "    </tr>\n",
       "  </tbody>\n",
       "</table>\n",
       "</div>"
      ],
      "text/plain": [
       "           Algorithm ProofType  TotalCoinsMined TotalCoinSupply\n",
       "42            Scrypt   PoW/PoS     4.199995e+01              42\n",
       "404           Scrypt   PoW/PoS     1.055185e+09       532000000\n",
       "1337             X13   PoW/PoS     2.927942e+10    314159265359\n",
       "BTC          SHA-256       PoW     1.792718e+07        21000000\n",
       "ETH           Ethash       PoW     1.076842e+08               0\n",
       "LTC           Scrypt       PoW     6.303924e+07        84000000\n",
       "DASH             X11   PoW/PoS     9.031294e+06        22000000\n",
       "XMR   CryptoNight-V7       PoW     1.720114e+07               0\n",
       "ETC           Ethash       PoW     1.133597e+08       210000000\n",
       "ZEC         Equihash       PoW     7.383056e+06        21000000"
      ]
     },
     "execution_count": 10,
     "metadata": {},
     "output_type": "execute_result"
    }
   ],
   "source": [
    "# Drop the 'CoinName' column since it's not going to be used on the clustering algorithm.\n",
    "crypto_df = crypto_df.drop(columns='CoinName', axis=1)\n",
    "crypto_df.head(10)"
   ]
  },
  {
   "cell_type": "code",
   "execution_count": 11,
   "metadata": {},
   "outputs": [
    {
     "data": {
      "text/plain": [
       "(532, 4)"
      ]
     },
     "execution_count": 11,
     "metadata": {},
     "output_type": "execute_result"
    }
   ],
   "source": [
    "# Use get_dummies() to create variables for text features.\n",
    "X = pd.get_dummies(crypto_df, columns=['Algorithm', 'ProofType'])\n",
    "crypto_df.shape"
   ]
  },
  {
   "cell_type": "code",
   "execution_count": 12,
   "metadata": {},
   "outputs": [
    {
     "data": {
      "text/html": [
       "<div>\n",
       "<style scoped>\n",
       "    .dataframe tbody tr th:only-of-type {\n",
       "        vertical-align: middle;\n",
       "    }\n",
       "\n",
       "    .dataframe tbody tr th {\n",
       "        vertical-align: top;\n",
       "    }\n",
       "\n",
       "    .dataframe thead th {\n",
       "        text-align: right;\n",
       "    }\n",
       "</style>\n",
       "<table border=\"1\" class=\"dataframe\">\n",
       "  <thead>\n",
       "    <tr style=\"text-align: right;\">\n",
       "      <th></th>\n",
       "      <th>TotalCoinsMined</th>\n",
       "      <th>TotalCoinSupply</th>\n",
       "      <th>Algorithm_1GB AES Pattern Search</th>\n",
       "      <th>Algorithm_536</th>\n",
       "      <th>Algorithm_Argon2d</th>\n",
       "      <th>Algorithm_BLAKE256</th>\n",
       "      <th>Algorithm_Blake</th>\n",
       "      <th>Algorithm_Blake2S</th>\n",
       "      <th>Algorithm_Blake2b</th>\n",
       "      <th>Algorithm_C11</th>\n",
       "      <th>...</th>\n",
       "      <th>ProofType_PoW/PoS</th>\n",
       "      <th>ProofType_PoW/PoS</th>\n",
       "      <th>ProofType_PoW/PoW</th>\n",
       "      <th>ProofType_PoW/nPoS</th>\n",
       "      <th>ProofType_Pos</th>\n",
       "      <th>ProofType_Proof of Authority</th>\n",
       "      <th>ProofType_Proof of Trust</th>\n",
       "      <th>ProofType_TPoS</th>\n",
       "      <th>ProofType_Zero-Knowledge Proof</th>\n",
       "      <th>ProofType_dPoW/PoW</th>\n",
       "    </tr>\n",
       "  </thead>\n",
       "  <tbody>\n",
       "    <tr>\n",
       "      <th>42</th>\n",
       "      <td>4.199995e+01</td>\n",
       "      <td>42</td>\n",
       "      <td>0</td>\n",
       "      <td>0</td>\n",
       "      <td>0</td>\n",
       "      <td>0</td>\n",
       "      <td>0</td>\n",
       "      <td>0</td>\n",
       "      <td>0</td>\n",
       "      <td>0</td>\n",
       "      <td>...</td>\n",
       "      <td>1</td>\n",
       "      <td>0</td>\n",
       "      <td>0</td>\n",
       "      <td>0</td>\n",
       "      <td>0</td>\n",
       "      <td>0</td>\n",
       "      <td>0</td>\n",
       "      <td>0</td>\n",
       "      <td>0</td>\n",
       "      <td>0</td>\n",
       "    </tr>\n",
       "    <tr>\n",
       "      <th>404</th>\n",
       "      <td>1.055185e+09</td>\n",
       "      <td>532000000</td>\n",
       "      <td>0</td>\n",
       "      <td>0</td>\n",
       "      <td>0</td>\n",
       "      <td>0</td>\n",
       "      <td>0</td>\n",
       "      <td>0</td>\n",
       "      <td>0</td>\n",
       "      <td>0</td>\n",
       "      <td>...</td>\n",
       "      <td>1</td>\n",
       "      <td>0</td>\n",
       "      <td>0</td>\n",
       "      <td>0</td>\n",
       "      <td>0</td>\n",
       "      <td>0</td>\n",
       "      <td>0</td>\n",
       "      <td>0</td>\n",
       "      <td>0</td>\n",
       "      <td>0</td>\n",
       "    </tr>\n",
       "    <tr>\n",
       "      <th>1337</th>\n",
       "      <td>2.927942e+10</td>\n",
       "      <td>314159265359</td>\n",
       "      <td>0</td>\n",
       "      <td>0</td>\n",
       "      <td>0</td>\n",
       "      <td>0</td>\n",
       "      <td>0</td>\n",
       "      <td>0</td>\n",
       "      <td>0</td>\n",
       "      <td>0</td>\n",
       "      <td>...</td>\n",
       "      <td>1</td>\n",
       "      <td>0</td>\n",
       "      <td>0</td>\n",
       "      <td>0</td>\n",
       "      <td>0</td>\n",
       "      <td>0</td>\n",
       "      <td>0</td>\n",
       "      <td>0</td>\n",
       "      <td>0</td>\n",
       "      <td>0</td>\n",
       "    </tr>\n",
       "    <tr>\n",
       "      <th>BTC</th>\n",
       "      <td>1.792718e+07</td>\n",
       "      <td>21000000</td>\n",
       "      <td>0</td>\n",
       "      <td>0</td>\n",
       "      <td>0</td>\n",
       "      <td>0</td>\n",
       "      <td>0</td>\n",
       "      <td>0</td>\n",
       "      <td>0</td>\n",
       "      <td>0</td>\n",
       "      <td>...</td>\n",
       "      <td>0</td>\n",
       "      <td>0</td>\n",
       "      <td>0</td>\n",
       "      <td>0</td>\n",
       "      <td>0</td>\n",
       "      <td>0</td>\n",
       "      <td>0</td>\n",
       "      <td>0</td>\n",
       "      <td>0</td>\n",
       "      <td>0</td>\n",
       "    </tr>\n",
       "    <tr>\n",
       "      <th>ETH</th>\n",
       "      <td>1.076842e+08</td>\n",
       "      <td>0</td>\n",
       "      <td>0</td>\n",
       "      <td>0</td>\n",
       "      <td>0</td>\n",
       "      <td>0</td>\n",
       "      <td>0</td>\n",
       "      <td>0</td>\n",
       "      <td>0</td>\n",
       "      <td>0</td>\n",
       "      <td>...</td>\n",
       "      <td>0</td>\n",
       "      <td>0</td>\n",
       "      <td>0</td>\n",
       "      <td>0</td>\n",
       "      <td>0</td>\n",
       "      <td>0</td>\n",
       "      <td>0</td>\n",
       "      <td>0</td>\n",
       "      <td>0</td>\n",
       "      <td>0</td>\n",
       "    </tr>\n",
       "  </tbody>\n",
       "</table>\n",
       "<p>5 rows × 98 columns</p>\n",
       "</div>"
      ],
      "text/plain": [
       "      TotalCoinsMined TotalCoinSupply  Algorithm_1GB AES Pattern Search  \\\n",
       "42       4.199995e+01              42                                 0   \n",
       "404      1.055185e+09       532000000                                 0   \n",
       "1337     2.927942e+10    314159265359                                 0   \n",
       "BTC      1.792718e+07        21000000                                 0   \n",
       "ETH      1.076842e+08               0                                 0   \n",
       "\n",
       "      Algorithm_536  Algorithm_Argon2d  Algorithm_BLAKE256  Algorithm_Blake  \\\n",
       "42                0                  0                   0                0   \n",
       "404               0                  0                   0                0   \n",
       "1337              0                  0                   0                0   \n",
       "BTC               0                  0                   0                0   \n",
       "ETH               0                  0                   0                0   \n",
       "\n",
       "      Algorithm_Blake2S  Algorithm_Blake2b  Algorithm_C11  ...  \\\n",
       "42                    0                  0              0  ...   \n",
       "404                   0                  0              0  ...   \n",
       "1337                  0                  0              0  ...   \n",
       "BTC                   0                  0              0  ...   \n",
       "ETH                   0                  0              0  ...   \n",
       "\n",
       "      ProofType_PoW/PoS  ProofType_PoW/PoS   ProofType_PoW/PoW  \\\n",
       "42                    1                   0                  0   \n",
       "404                   1                   0                  0   \n",
       "1337                  1                   0                  0   \n",
       "BTC                   0                   0                  0   \n",
       "ETH                   0                   0                  0   \n",
       "\n",
       "      ProofType_PoW/nPoS  ProofType_Pos  ProofType_Proof of Authority  \\\n",
       "42                     0              0                             0   \n",
       "404                    0              0                             0   \n",
       "1337                   0              0                             0   \n",
       "BTC                    0              0                             0   \n",
       "ETH                    0              0                             0   \n",
       "\n",
       "      ProofType_Proof of Trust  ProofType_TPoS  \\\n",
       "42                           0               0   \n",
       "404                          0               0   \n",
       "1337                         0               0   \n",
       "BTC                          0               0   \n",
       "ETH                          0               0   \n",
       "\n",
       "      ProofType_Zero-Knowledge Proof  ProofType_dPoW/PoW  \n",
       "42                                 0                   0  \n",
       "404                                0                   0  \n",
       "1337                               0                   0  \n",
       "BTC                                0                   0  \n",
       "ETH                                0                   0  \n",
       "\n",
       "[5 rows x 98 columns]"
      ]
     },
     "execution_count": 12,
     "metadata": {},
     "output_type": "execute_result"
    }
   ],
   "source": [
    "X.head()"
   ]
  },
  {
   "cell_type": "code",
   "execution_count": 13,
   "metadata": {},
   "outputs": [
    {
     "name": "stdout",
     "output_type": "stream",
     "text": [
      "[[-0.11710817 -0.1528703  -0.0433963  ... -0.0433963  -0.0433963\n",
      "  -0.0433963 ]\n",
      " [-0.09396955 -0.145009   -0.0433963  ... -0.0433963  -0.0433963\n",
      "  -0.0433963 ]\n",
      " [ 0.52494561  4.48942416 -0.0433963  ... -0.0433963  -0.0433963\n",
      "  -0.0433963 ]\n",
      " ...\n",
      " [-0.09561336 -0.13217937 -0.0433963  ... -0.0433963  -0.0433963\n",
      "  -0.0433963 ]\n",
      " [-0.11694817 -0.15255998 -0.0433963  ... -0.0433963  -0.0433963\n",
      "  -0.0433963 ]\n",
      " [-0.11710536 -0.15285552 -0.0433963  ... -0.0433963  -0.0433963\n",
      "  -0.0433963 ]]\n"
     ]
    }
   ],
   "source": [
    "# Standardize the data with StandardScaler().\n",
    "X_scaled= StandardScaler().fit_transform(X)\n",
    "print(X_scaled)"
   ]
  },
  {
   "cell_type": "markdown",
   "metadata": {},
   "source": [
    "### Deliverable 2: Reducing Data Dimensions Using PCA"
   ]
  },
  {
   "cell_type": "code",
   "execution_count": 14,
   "metadata": {},
   "outputs": [],
   "source": [
    "# Using PCA to reduce dimension to three principal components.\n",
    "pca = PCA(n_components=3)\n",
    "X_pca = pca.fit_transform(X_scaled)"
   ]
  },
  {
   "cell_type": "code",
   "execution_count": 15,
   "metadata": {},
   "outputs": [
    {
     "data": {
      "text/html": [
       "<div>\n",
       "<style scoped>\n",
       "    .dataframe tbody tr th:only-of-type {\n",
       "        vertical-align: middle;\n",
       "    }\n",
       "\n",
       "    .dataframe tbody tr th {\n",
       "        vertical-align: top;\n",
       "    }\n",
       "\n",
       "    .dataframe thead th {\n",
       "        text-align: right;\n",
       "    }\n",
       "</style>\n",
       "<table border=\"1\" class=\"dataframe\">\n",
       "  <thead>\n",
       "    <tr style=\"text-align: right;\">\n",
       "      <th></th>\n",
       "      <th>PC 1</th>\n",
       "      <th>PC 2</th>\n",
       "      <th>PC 3</th>\n",
       "    </tr>\n",
       "  </thead>\n",
       "  <tbody>\n",
       "    <tr>\n",
       "      <th>42</th>\n",
       "      <td>-0.326572</td>\n",
       "      <td>1.033848</td>\n",
       "      <td>-0.577905</td>\n",
       "    </tr>\n",
       "    <tr>\n",
       "      <th>404</th>\n",
       "      <td>-0.309855</td>\n",
       "      <td>1.033937</td>\n",
       "      <td>-0.578281</td>\n",
       "    </tr>\n",
       "    <tr>\n",
       "      <th>1337</th>\n",
       "      <td>2.305654</td>\n",
       "      <td>1.603002</td>\n",
       "      <td>-0.602095</td>\n",
       "    </tr>\n",
       "    <tr>\n",
       "      <th>BTC</th>\n",
       "      <td>-0.148616</td>\n",
       "      <td>-1.322204</td>\n",
       "      <td>0.207000</td>\n",
       "    </tr>\n",
       "    <tr>\n",
       "      <th>ETH</th>\n",
       "      <td>-0.164898</td>\n",
       "      <td>-2.015383</td>\n",
       "      <td>0.354178</td>\n",
       "    </tr>\n",
       "    <tr>\n",
       "      <th>LTC</th>\n",
       "      <td>-0.154316</td>\n",
       "      <td>-1.104791</td>\n",
       "      <td>-0.028332</td>\n",
       "    </tr>\n",
       "    <tr>\n",
       "      <th>DASH</th>\n",
       "      <td>-0.406436</td>\n",
       "      <td>1.207651</td>\n",
       "      <td>-0.482427</td>\n",
       "    </tr>\n",
       "    <tr>\n",
       "      <th>XMR</th>\n",
       "      <td>-0.149027</td>\n",
       "      <td>-2.227275</td>\n",
       "      <td>0.448656</td>\n",
       "    </tr>\n",
       "    <tr>\n",
       "      <th>ETC</th>\n",
       "      <td>-0.163335</td>\n",
       "      <td>-2.015489</td>\n",
       "      <td>0.354162</td>\n",
       "    </tr>\n",
       "    <tr>\n",
       "      <th>ZEC</th>\n",
       "      <td>-0.169721</td>\n",
       "      <td>-2.109770</td>\n",
       "      <td>0.529297</td>\n",
       "    </tr>\n",
       "  </tbody>\n",
       "</table>\n",
       "</div>"
      ],
      "text/plain": [
       "          PC 1      PC 2      PC 3\n",
       "42   -0.326572  1.033848 -0.577905\n",
       "404  -0.309855  1.033937 -0.578281\n",
       "1337  2.305654  1.603002 -0.602095\n",
       "BTC  -0.148616 -1.322204  0.207000\n",
       "ETH  -0.164898 -2.015383  0.354178\n",
       "LTC  -0.154316 -1.104791 -0.028332\n",
       "DASH -0.406436  1.207651 -0.482427\n",
       "XMR  -0.149027 -2.227275  0.448656\n",
       "ETC  -0.163335 -2.015489  0.354162\n",
       "ZEC  -0.169721 -2.109770  0.529297"
      ]
     },
     "execution_count": 15,
     "metadata": {},
     "output_type": "execute_result"
    }
   ],
   "source": [
    "# Create a DataFrame with the three principal components.\n",
    "# used this site to figure out how to use another df's index for pcs index http://www.jamesloach.com/python/sklearn_pca_to_dataframe.html\n",
    "pcs_df = pd.DataFrame(X_pca, columns=['PC 1', 'PC 2', 'PC 3'], index=crypto_df.index)\n",
    "\n",
    "pcs_df.head(10)"
   ]
  },
  {
   "cell_type": "markdown",
   "metadata": {},
   "source": [
    "### Deliverable 3: Clustering Crytocurrencies Using K-Means\n",
    "\n",
    "#### Finding the Best Value for `k` Using the Elbow Curve"
   ]
  },
  {
   "cell_type": "code",
   "execution_count": 16,
   "metadata": {},
   "outputs": [
    {
     "data": {},
     "metadata": {},
     "output_type": "display_data"
    },
    {
     "data": {
      "application/vnd.holoviews_exec.v0+json": "",
      "text/html": [
       "<div id='1001'>\n",
       "\n",
       "\n",
       "\n",
       "\n",
       "\n",
       "  <div class=\"bk-root\" id=\"810d88d6-d2f2-4e35-9f9f-3ebd23912154\" data-root-id=\"1001\"></div>\n",
       "</div>\n",
       "<script type=\"application/javascript\">(function(root) {\n",
       "  function embed_document(root) {\n",
       "  var docs_json = {\"ee3b1898-0b2b-4379-bed4-a60c26ca7df9\":{\"roots\":{\"references\":[{\"attributes\":{\"margin\":[5,5,5,5],\"name\":\"HSpacer01537\",\"sizing_mode\":\"stretch_width\"},\"id\":\"1002\",\"type\":\"Spacer\"},{\"attributes\":{},\"id\":\"1011\",\"type\":\"LinearScale\"},{\"attributes\":{\"axis_label\":\"k\",\"bounds\":\"auto\",\"formatter\":{\"id\":\"1045\"},\"major_label_orientation\":\"horizontal\",\"ticker\":{\"id\":\"1044\"}},\"id\":\"1015\",\"type\":\"LinearAxis\"},{\"attributes\":{\"ticks\":[1,2,3,4,5,6,7,8,9,10]},\"id\":\"1044\",\"type\":\"FixedTicker\"},{\"attributes\":{\"line_color\":\"#1f77b3\",\"line_width\":2,\"x\":{\"field\":\"k\"},\"y\":{\"field\":\"inertia\"}},\"id\":\"1039\",\"type\":\"Line\"},{\"attributes\":{},\"id\":\"1027\",\"type\":\"ResetTool\"},{\"attributes\":{\"source\":{\"id\":\"1036\"}},\"id\":\"1043\",\"type\":\"CDSView\"},{\"attributes\":{\"text\":\"Elbow Curve\",\"text_color\":{\"value\":\"black\"},\"text_font_size\":{\"value\":\"12pt\"}},\"id\":\"1007\",\"type\":\"Title\"},{\"attributes\":{},\"id\":\"1049\",\"type\":\"BasicTickFormatter\"},{\"attributes\":{\"axis\":{\"id\":\"1019\"},\"dimension\":1,\"grid_line_color\":null,\"ticker\":null},\"id\":\"1022\",\"type\":\"Grid\"},{\"attributes\":{\"axis\":{\"id\":\"1015\"},\"grid_line_color\":null,\"ticker\":null},\"id\":\"1018\",\"type\":\"Grid\"},{\"attributes\":{},\"id\":\"1020\",\"type\":\"BasicTicker\"},{\"attributes\":{\"callback\":null,\"renderers\":[{\"id\":\"1042\"}],\"tags\":[\"hv_created\"],\"tooltips\":[[\"k\",\"@{k}\"],[\"inertia\",\"@{inertia}\"]]},\"id\":\"1005\",\"type\":\"HoverTool\"},{\"attributes\":{\"axis_label\":\"inertia\",\"bounds\":\"auto\",\"formatter\":{\"id\":\"1049\"},\"major_label_orientation\":\"horizontal\",\"ticker\":{\"id\":\"1020\"}},\"id\":\"1019\",\"type\":\"LinearAxis\"},{\"attributes\":{\"overlay\":{\"id\":\"1028\"}},\"id\":\"1026\",\"type\":\"BoxZoomTool\"},{\"attributes\":{\"data\":{\"inertia\":{\"__ndarray__\":\"2wpkRmxyrEAFbpw/ck6jQLgEXbc/G5dA+cZrNpXbf0DIMZVP0BZ0QBoT1Yno/29AUsc0o/hyZ0AZ0xnEgmZhQM36G0J4dFtAFc0ZI+3iVUA=\",\"dtype\":\"float64\",\"order\":\"little\",\"shape\":[10]},\"k\":[1,2,3,4,5,6,7,8,9,10]},\"selected\":{\"id\":\"1037\"},\"selection_policy\":{\"id\":\"1056\"}},\"id\":\"1036\",\"type\":\"ColumnDataSource\"},{\"attributes\":{\"margin\":[5,5,5,5],\"name\":\"HSpacer01538\",\"sizing_mode\":\"stretch_width\"},\"id\":\"1065\",\"type\":\"Spacer\"},{\"attributes\":{},\"id\":\"1056\",\"type\":\"UnionRenderers\"},{\"attributes\":{\"line_alpha\":0.2,\"line_color\":\"#1f77b3\",\"line_width\":2,\"x\":{\"field\":\"k\"},\"y\":{\"field\":\"inertia\"}},\"id\":\"1041\",\"type\":\"Line\"},{\"attributes\":{\"data_source\":{\"id\":\"1036\"},\"glyph\":{\"id\":\"1039\"},\"hover_glyph\":null,\"muted_glyph\":{\"id\":\"1041\"},\"nonselection_glyph\":{\"id\":\"1040\"},\"selection_glyph\":null,\"view\":{\"id\":\"1043\"}},\"id\":\"1042\",\"type\":\"GlyphRenderer\"},{\"attributes\":{\"bottom_units\":\"screen\",\"fill_alpha\":0.5,\"fill_color\":\"lightgrey\",\"left_units\":\"screen\",\"level\":\"overlay\",\"line_alpha\":1.0,\"line_color\":\"black\",\"line_dash\":[4,4],\"line_width\":2,\"right_units\":\"screen\",\"top_units\":\"screen\"},\"id\":\"1028\",\"type\":\"BoxAnnotation\"},{\"attributes\":{\"line_alpha\":0.1,\"line_color\":\"#1f77b3\",\"line_width\":2,\"x\":{\"field\":\"k\"},\"y\":{\"field\":\"inertia\"}},\"id\":\"1040\",\"type\":\"Line\"},{\"attributes\":{\"children\":[{\"id\":\"1002\"},{\"id\":\"1006\"},{\"id\":\"1065\"}],\"margin\":[0,0,0,0],\"name\":\"Row01533\",\"tags\":[\"embedded\"]},\"id\":\"1001\",\"type\":\"Row\"},{\"attributes\":{\"active_drag\":\"auto\",\"active_inspect\":\"auto\",\"active_multi\":null,\"active_scroll\":\"auto\",\"active_tap\":\"auto\",\"tools\":[{\"id\":\"1005\"},{\"id\":\"1023\"},{\"id\":\"1024\"},{\"id\":\"1025\"},{\"id\":\"1026\"},{\"id\":\"1027\"}]},\"id\":\"1029\",\"type\":\"Toolbar\"},{\"attributes\":{\"end\":3996.5780496229536,\"reset_end\":3996.5780496229536,\"reset_start\":-267.8208513831296,\"start\":-267.8208513831296,\"tags\":[[[\"inertia\",\"inertia\",null]]]},\"id\":\"1004\",\"type\":\"Range1d\"},{\"attributes\":{\"below\":[{\"id\":\"1015\"}],\"center\":[{\"id\":\"1018\"},{\"id\":\"1022\"}],\"left\":[{\"id\":\"1019\"}],\"margin\":null,\"min_border_bottom\":10,\"min_border_left\":10,\"min_border_right\":10,\"min_border_top\":10,\"plot_height\":300,\"plot_width\":700,\"renderers\":[{\"id\":\"1042\"}],\"sizing_mode\":\"fixed\",\"title\":{\"id\":\"1007\"},\"toolbar\":{\"id\":\"1029\"},\"x_range\":{\"id\":\"1003\"},\"x_scale\":{\"id\":\"1011\"},\"y_range\":{\"id\":\"1004\"},\"y_scale\":{\"id\":\"1013\"}},\"id\":\"1006\",\"subtype\":\"Figure\",\"type\":\"Plot\"},{\"attributes\":{},\"id\":\"1023\",\"type\":\"SaveTool\"},{\"attributes\":{},\"id\":\"1024\",\"type\":\"PanTool\"},{\"attributes\":{},\"id\":\"1037\",\"type\":\"Selection\"},{\"attributes\":{\"end\":10.0,\"reset_end\":10.0,\"reset_start\":1.0,\"start\":1.0,\"tags\":[[[\"k\",\"k\",null]]]},\"id\":\"1003\",\"type\":\"Range1d\"},{\"attributes\":{},\"id\":\"1025\",\"type\":\"WheelZoomTool\"},{\"attributes\":{},\"id\":\"1045\",\"type\":\"BasicTickFormatter\"},{\"attributes\":{},\"id\":\"1013\",\"type\":\"LinearScale\"}],\"root_ids\":[\"1001\"]},\"title\":\"Bokeh Application\",\"version\":\"2.1.1\"}};\n",
       "  var render_items = [{\"docid\":\"ee3b1898-0b2b-4379-bed4-a60c26ca7df9\",\"root_ids\":[\"1001\"],\"roots\":{\"1001\":\"810d88d6-d2f2-4e35-9f9f-3ebd23912154\"}}];\n",
       "  root.Bokeh.embed.embed_items_notebook(docs_json, render_items);\n",
       "  }\n",
       "if (root.Bokeh !== undefined) {\n",
       "    embed_document(root);\n",
       "  } else {\n",
       "    var attempts = 0;\n",
       "    var timer = setInterval(function(root) {\n",
       "      if (root.Bokeh !== undefined) {\n",
       "        clearInterval(timer);\n",
       "        embed_document(root);\n",
       "      } else if (document.readyState == \"complete\") {\n",
       "        attempts++;\n",
       "        if (attempts > 100) {\n",
       "          clearInterval(timer);\n",
       "          console.log(\"Bokeh: ERROR: Unable to run BokehJS code because BokehJS library is missing\");\n",
       "        }\n",
       "      }\n",
       "    }, 10, root)\n",
       "  }\n",
       "})(window);</script>"
      ],
      "text/plain": [
       ":Curve   [k]   (inertia)"
      ]
     },
     "execution_count": 16,
     "metadata": {
      "application/vnd.holoviews_exec.v0+json": {
       "id": "1001"
      }
     },
     "output_type": "execute_result"
    }
   ],
   "source": [
    "# Create an elbow curve to find the best value for K.\n",
    "inertia = []\n",
    "k = list(range(1, 11))\n",
    "\n",
    "for i in k:\n",
    "    km = KMeans(n_clusters=i, random_state=0)\n",
    "    km.fit(pcs_df)\n",
    "    inertia.append(km.inertia_)\n",
    "\n",
    "elbow_data = {'k': k, 'inertia': inertia}\n",
    "df_elbow = pd.DataFrame(elbow_data)\n",
    "df_elbow.hvplot.line(x='k', y='inertia', title='Elbow Curve', xticks=k)\n"
   ]
  },
  {
   "cell_type": "markdown",
   "metadata": {},
   "source": [
    "Running K-Means with `k=4`"
   ]
  },
  {
   "cell_type": "code",
   "execution_count": 17,
   "metadata": {},
   "outputs": [],
   "source": [
    "# Initialize the K-Means model.\n",
    "model = KMeans(n_clusters=4, random_state=0)\n",
    "\n",
    "# Fit the model\n",
    "model.fit(pcs_df)\n",
    "\n",
    "# Predict clusters\n",
    "predictions = model.predict(pcs_df)"
   ]
  },
  {
   "cell_type": "code",
   "execution_count": 21,
   "metadata": {},
   "outputs": [
    {
     "name": "stdout",
     "output_type": "stream",
     "text": [
      "(532, 9)\n"
     ]
    },
    {
     "data": {
      "text/html": [
       "<div>\n",
       "<style scoped>\n",
       "    .dataframe tbody tr th:only-of-type {\n",
       "        vertical-align: middle;\n",
       "    }\n",
       "\n",
       "    .dataframe tbody tr th {\n",
       "        vertical-align: top;\n",
       "    }\n",
       "\n",
       "    .dataframe thead th {\n",
       "        text-align: right;\n",
       "    }\n",
       "</style>\n",
       "<table border=\"1\" class=\"dataframe\">\n",
       "  <thead>\n",
       "    <tr style=\"text-align: right;\">\n",
       "      <th></th>\n",
       "      <th>Algorithm</th>\n",
       "      <th>ProofType</th>\n",
       "      <th>TotalCoinsMined</th>\n",
       "      <th>TotalCoinSupply</th>\n",
       "      <th>PC 1</th>\n",
       "      <th>PC 2</th>\n",
       "      <th>PC 3</th>\n",
       "      <th>CoinName</th>\n",
       "      <th>Class</th>\n",
       "    </tr>\n",
       "  </thead>\n",
       "  <tbody>\n",
       "    <tr>\n",
       "      <th>42</th>\n",
       "      <td>Scrypt</td>\n",
       "      <td>PoW/PoS</td>\n",
       "      <td>4.199995e+01</td>\n",
       "      <td>42</td>\n",
       "      <td>-0.326572</td>\n",
       "      <td>1.033848</td>\n",
       "      <td>-0.577905</td>\n",
       "      <td>42 Coin</td>\n",
       "      <td>0</td>\n",
       "    </tr>\n",
       "    <tr>\n",
       "      <th>404</th>\n",
       "      <td>Scrypt</td>\n",
       "      <td>PoW/PoS</td>\n",
       "      <td>1.055185e+09</td>\n",
       "      <td>532000000</td>\n",
       "      <td>-0.309855</td>\n",
       "      <td>1.033937</td>\n",
       "      <td>-0.578281</td>\n",
       "      <td>404Coin</td>\n",
       "      <td>0</td>\n",
       "    </tr>\n",
       "    <tr>\n",
       "      <th>1337</th>\n",
       "      <td>X13</td>\n",
       "      <td>PoW/PoS</td>\n",
       "      <td>2.927942e+10</td>\n",
       "      <td>314159265359</td>\n",
       "      <td>2.305654</td>\n",
       "      <td>1.603002</td>\n",
       "      <td>-0.602095</td>\n",
       "      <td>EliteCoin</td>\n",
       "      <td>0</td>\n",
       "    </tr>\n",
       "    <tr>\n",
       "      <th>BTC</th>\n",
       "      <td>SHA-256</td>\n",
       "      <td>PoW</td>\n",
       "      <td>1.792718e+07</td>\n",
       "      <td>21000000</td>\n",
       "      <td>-0.148616</td>\n",
       "      <td>-1.322204</td>\n",
       "      <td>0.207000</td>\n",
       "      <td>Bitcoin</td>\n",
       "      <td>1</td>\n",
       "    </tr>\n",
       "    <tr>\n",
       "      <th>ETH</th>\n",
       "      <td>Ethash</td>\n",
       "      <td>PoW</td>\n",
       "      <td>1.076842e+08</td>\n",
       "      <td>0</td>\n",
       "      <td>-0.164898</td>\n",
       "      <td>-2.015383</td>\n",
       "      <td>0.354178</td>\n",
       "      <td>Ethereum</td>\n",
       "      <td>1</td>\n",
       "    </tr>\n",
       "    <tr>\n",
       "      <th>LTC</th>\n",
       "      <td>Scrypt</td>\n",
       "      <td>PoW</td>\n",
       "      <td>6.303924e+07</td>\n",
       "      <td>84000000</td>\n",
       "      <td>-0.154316</td>\n",
       "      <td>-1.104791</td>\n",
       "      <td>-0.028332</td>\n",
       "      <td>Litecoin</td>\n",
       "      <td>1</td>\n",
       "    </tr>\n",
       "    <tr>\n",
       "      <th>DASH</th>\n",
       "      <td>X11</td>\n",
       "      <td>PoW/PoS</td>\n",
       "      <td>9.031294e+06</td>\n",
       "      <td>22000000</td>\n",
       "      <td>-0.406436</td>\n",
       "      <td>1.207651</td>\n",
       "      <td>-0.482427</td>\n",
       "      <td>Dash</td>\n",
       "      <td>0</td>\n",
       "    </tr>\n",
       "    <tr>\n",
       "      <th>XMR</th>\n",
       "      <td>CryptoNight-V7</td>\n",
       "      <td>PoW</td>\n",
       "      <td>1.720114e+07</td>\n",
       "      <td>0</td>\n",
       "      <td>-0.149027</td>\n",
       "      <td>-2.227275</td>\n",
       "      <td>0.448656</td>\n",
       "      <td>Monero</td>\n",
       "      <td>1</td>\n",
       "    </tr>\n",
       "    <tr>\n",
       "      <th>ETC</th>\n",
       "      <td>Ethash</td>\n",
       "      <td>PoW</td>\n",
       "      <td>1.133597e+08</td>\n",
       "      <td>210000000</td>\n",
       "      <td>-0.163335</td>\n",
       "      <td>-2.015489</td>\n",
       "      <td>0.354162</td>\n",
       "      <td>Ethereum Classic</td>\n",
       "      <td>1</td>\n",
       "    </tr>\n",
       "    <tr>\n",
       "      <th>ZEC</th>\n",
       "      <td>Equihash</td>\n",
       "      <td>PoW</td>\n",
       "      <td>7.383056e+06</td>\n",
       "      <td>21000000</td>\n",
       "      <td>-0.169721</td>\n",
       "      <td>-2.109770</td>\n",
       "      <td>0.529297</td>\n",
       "      <td>ZCash</td>\n",
       "      <td>1</td>\n",
       "    </tr>\n",
       "  </tbody>\n",
       "</table>\n",
       "</div>"
      ],
      "text/plain": [
       "           Algorithm ProofType  TotalCoinsMined TotalCoinSupply      PC 1  \\\n",
       "42            Scrypt   PoW/PoS     4.199995e+01              42 -0.326572   \n",
       "404           Scrypt   PoW/PoS     1.055185e+09       532000000 -0.309855   \n",
       "1337             X13   PoW/PoS     2.927942e+10    314159265359  2.305654   \n",
       "BTC          SHA-256       PoW     1.792718e+07        21000000 -0.148616   \n",
       "ETH           Ethash       PoW     1.076842e+08               0 -0.164898   \n",
       "LTC           Scrypt       PoW     6.303924e+07        84000000 -0.154316   \n",
       "DASH             X11   PoW/PoS     9.031294e+06        22000000 -0.406436   \n",
       "XMR   CryptoNight-V7       PoW     1.720114e+07               0 -0.149027   \n",
       "ETC           Ethash       PoW     1.133597e+08       210000000 -0.163335   \n",
       "ZEC         Equihash       PoW     7.383056e+06        21000000 -0.169721   \n",
       "\n",
       "          PC 2      PC 3          CoinName  Class  \n",
       "42    1.033848 -0.577905           42 Coin      0  \n",
       "404   1.033937 -0.578281           404Coin      0  \n",
       "1337  1.603002 -0.602095         EliteCoin      0  \n",
       "BTC  -1.322204  0.207000           Bitcoin      1  \n",
       "ETH  -2.015383  0.354178          Ethereum      1  \n",
       "LTC  -1.104791 -0.028332          Litecoin      1  \n",
       "DASH  1.207651 -0.482427              Dash      0  \n",
       "XMR  -2.227275  0.448656            Monero      1  \n",
       "ETC  -2.015489  0.354162  Ethereum Classic      1  \n",
       "ZEC  -2.109770  0.529297             ZCash      1  "
      ]
     },
     "execution_count": 21,
     "metadata": {},
     "output_type": "execute_result"
    }
   ],
   "source": [
    "# Create a new DataFrame including predicted clusters and cryptocurrencies features.\n",
    "# Concatentate the crypto_df and pcs_df DataFrames on the same columns.\n",
    "clustered_df = pd.concat([crypto_df, pcs_df], axis=1)\n",
    "\n",
    "#  Add a new column, \"CoinName\" to the clustered_df DataFrame that holds the names of the cryptocurrencies. \n",
    "clustered_df['CoinName'] = crypto_names_df\n",
    "#  Add a new column, \"Class\" to the clustered_df DataFrame that holds the predictions.\n",
    "clustered_df['Class'] = model.labels_\n",
    "\n",
    "# Print the shape of the clustered_df\n",
    "print(clustered_df.shape)\n",
    "clustered_df.head(10)"
   ]
  },
  {
   "cell_type": "markdown",
   "metadata": {},
   "source": [
    "### Deliverable 4: Visualizing Cryptocurrencies Results\n",
    "\n",
    "#### 3D-Scatter with Clusters"
   ]
  },
  {
   "cell_type": "code",
   "execution_count": 31,
   "metadata": {},
   "outputs": [
    {
     "data": {
      "application/vnd.plotly.v1+json": {
       "config": {
        "plotlyServerURL": "https://plot.ly"
       },
       "data": [
        {
         "customdata": [
          [
           "Scrypt"
          ],
          [
           "Scrypt"
          ],
          [
           "X13"
          ],
          [
           "SHA-256"
          ],
          [
           "Ethash"
          ],
          [
           "Scrypt"
          ],
          [
           "X11"
          ],
          [
           "CryptoNight-V7"
          ],
          [
           "Ethash"
          ],
          [
           "Equihash"
          ],
          [
           "SHA-512"
          ],
          [
           "Multiple"
          ],
          [
           "SHA-256"
          ],
          [
           "SHA-256"
          ],
          [
           "Scrypt"
          ],
          [
           "X15"
          ],
          [
           "X11"
          ],
          [
           "Scrypt"
          ],
          [
           "Scrypt"
          ],
          [
           "Scrypt"
          ],
          [
           "Multiple"
          ],
          [
           "Scrypt"
          ],
          [
           "SHA-256"
          ],
          [
           "Scrypt"
          ],
          [
           "Scrypt"
          ],
          [
           "Scrypt"
          ],
          [
           "Quark"
          ],
          [
           "Groestl"
          ],
          [
           "Scrypt"
          ],
          [
           "Scrypt"
          ],
          [
           "Scrypt"
          ],
          [
           "Scrypt"
          ],
          [
           "Scrypt"
          ],
          [
           "X11"
          ],
          [
           "Scrypt"
          ],
          [
           "Groestl"
          ],
          [
           "Multiple"
          ],
          [
           "SHA-256"
          ],
          [
           "Scrypt"
          ],
          [
           "Scrypt"
          ],
          [
           "Scrypt"
          ],
          [
           "Scrypt"
          ],
          [
           "PoS"
          ],
          [
           "Scrypt"
          ],
          [
           "Scrypt"
          ],
          [
           "NeoScrypt"
          ],
          [
           "Scrypt"
          ],
          [
           "Scrypt"
          ],
          [
           "Scrypt"
          ],
          [
           "Scrypt"
          ],
          [
           "X11"
          ],
          [
           "Scrypt"
          ],
          [
           "X11"
          ],
          [
           "SHA-256"
          ],
          [
           "Scrypt"
          ],
          [
           "Scrypt"
          ],
          [
           "Scrypt"
          ],
          [
           "SHA3"
          ],
          [
           "Scrypt"
          ],
          [
           "HybridScryptHash256"
          ],
          [
           "Scrypt"
          ],
          [
           "Scrypt"
          ],
          [
           "SHA-256"
          ],
          [
           "Scrypt"
          ],
          [
           "X13"
          ],
          [
           "Scrypt"
          ],
          [
           "SHA-256"
          ],
          [
           "Scrypt"
          ],
          [
           "X13"
          ],
          [
           "NeoScrypt"
          ],
          [
           "Scrypt"
          ],
          [
           "Scrypt"
          ],
          [
           "Scrypt"
          ],
          [
           "Scrypt"
          ],
          [
           "Scrypt"
          ],
          [
           "Scrypt"
          ],
          [
           "X11"
          ],
          [
           "X11"
          ],
          [
           "SHA-256"
          ],
          [
           "Multiple"
          ],
          [
           "SHA-256"
          ],
          [
           "PHI1612"
          ],
          [
           "X11"
          ],
          [
           "SHA-256"
          ],
          [
           "SHA-256"
          ],
          [
           "SHA-256"
          ],
          [
           "X11"
          ],
          [
           "Scrypt"
          ],
          [
           "Scrypt"
          ],
          [
           "Scrypt"
          ],
          [
           "Scrypt"
          ],
          [
           "Lyra2REv2"
          ],
          [
           "Scrypt"
          ],
          [
           "X11"
          ],
          [
           "Multiple"
          ],
          [
           "SHA-256"
          ],
          [
           "X13"
          ],
          [
           "Scrypt"
          ],
          [
           "CryptoNight"
          ],
          [
           "CryptoNight"
          ],
          [
           "Shabal256"
          ],
          [
           "Counterparty"
          ],
          [
           "Scrypt"
          ],
          [
           "SHA-256"
          ],
          [
           "Groestl"
          ],
          [
           "Scrypt"
          ],
          [
           "Scrypt"
          ],
          [
           "Scrypt"
          ],
          [
           "X13"
          ],
          [
           "Scrypt"
          ],
          [
           "Scrypt"
          ],
          [
           "Scrypt"
          ],
          [
           "Scrypt"
          ],
          [
           "X13"
          ],
          [
           "Scrypt"
          ],
          [
           "Stanford Folding"
          ],
          [
           "X11"
          ],
          [
           "Multiple"
          ],
          [
           "QuBit"
          ],
          [
           "Scrypt"
          ],
          [
           "Scrypt"
          ],
          [
           "Scrypt"
          ],
          [
           "M7 POW"
          ],
          [
           "Scrypt"
          ],
          [
           "SHA-256"
          ],
          [
           "Scrypt"
          ],
          [
           "X11"
          ],
          [
           "SHA3"
          ],
          [
           "X11"
          ],
          [
           "Lyra2RE"
          ],
          [
           "SHA-256"
          ],
          [
           "QUAIT"
          ],
          [
           "X11"
          ],
          [
           "X11"
          ],
          [
           "Scrypt"
          ],
          [
           "Scrypt"
          ],
          [
           "Scrypt"
          ],
          [
           "Ethash"
          ],
          [
           "X13"
          ],
          [
           "Blake2b"
          ],
          [
           "SHA-256"
          ],
          [
           "X15"
          ],
          [
           "X11"
          ],
          [
           "SHA-256"
          ],
          [
           "BLAKE256"
          ],
          [
           "Scrypt"
          ],
          [
           "1GB AES Pattern Search"
          ],
          [
           "SHA-256"
          ],
          [
           "X11"
          ],
          [
           "Scrypt"
          ],
          [
           "SHA-256"
          ],
          [
           "SHA-256"
          ],
          [
           "NIST5"
          ],
          [
           "Scrypt"
          ],
          [
           "Scrypt"
          ],
          [
           "X11"
          ],
          [
           "Dagger"
          ],
          [
           "Scrypt"
          ],
          [
           "X11GOST"
          ],
          [
           "X11"
          ],
          [
           "Scrypt"
          ],
          [
           "SHA-256"
          ],
          [
           "Scrypt"
          ],
          [
           "PoS"
          ],
          [
           "Scrypt"
          ],
          [
           "X11"
          ],
          [
           "X11"
          ],
          [
           "SHA-256"
          ],
          [
           "SHA-256"
          ],
          [
           "NIST5"
          ],
          [
           "X11"
          ],
          [
           "Scrypt"
          ],
          [
           "POS 3.0"
          ],
          [
           "Scrypt"
          ],
          [
           "Scrypt"
          ],
          [
           "Scrypt"
          ],
          [
           "X13"
          ],
          [
           "X11"
          ],
          [
           "X11"
          ],
          [
           "Equihash"
          ],
          [
           "X11"
          ],
          [
           "Scrypt"
          ],
          [
           "CryptoNight"
          ],
          [
           "SHA-256"
          ],
          [
           "SHA-256"
          ],
          [
           "X11"
          ],
          [
           "Scrypt"
          ],
          [
           "Multiple"
          ],
          [
           "Scrypt"
          ],
          [
           "Scrypt"
          ],
          [
           "Scrypt"
          ],
          [
           "SHA-256"
          ],
          [
           "Scrypt"
          ],
          [
           "Scrypt"
          ],
          [
           "SHA-256D"
          ],
          [
           "PoS"
          ],
          [
           "Scrypt"
          ],
          [
           "X11"
          ],
          [
           "Lyra2Z"
          ],
          [
           "PoS"
          ],
          [
           "X13"
          ],
          [
           "X14"
          ],
          [
           "PoS"
          ],
          [
           "SHA-256D"
          ],
          [
           "Ethash"
          ],
          [
           "Equihash"
          ],
          [
           "DPoS"
          ],
          [
           "X11"
          ],
          [
           "Scrypt"
          ],
          [
           "X11"
          ],
          [
           "X13"
          ],
          [
           "X11"
          ],
          [
           "PoS"
          ],
          [
           "Scrypt"
          ],
          [
           "Scrypt"
          ],
          [
           "X11"
          ],
          [
           "PoS"
          ],
          [
           "X11"
          ],
          [
           "SHA-256"
          ],
          [
           "Scrypt"
          ],
          [
           "X11"
          ],
          [
           "Scrypt"
          ],
          [
           "Scrypt"
          ],
          [
           "X11"
          ],
          [
           "CryptoNight"
          ],
          [
           "Scrypt"
          ],
          [
           "Scrypt"
          ],
          [
           "Scrypt"
          ],
          [
           "Scrypt"
          ],
          [
           "Quark"
          ],
          [
           "QuBit"
          ],
          [
           "Scrypt"
          ],
          [
           "CryptoNight"
          ],
          [
           "Lyra2RE"
          ],
          [
           "Scrypt"
          ],
          [
           "SHA-256"
          ],
          [
           "X11"
          ],
          [
           "Scrypt"
          ],
          [
           "X11"
          ],
          [
           "Scrypt"
          ],
          [
           "CryptoNight-V7"
          ],
          [
           "Scrypt"
          ],
          [
           "Scrypt"
          ],
          [
           "Scrypt"
          ],
          [
           "X13"
          ],
          [
           "X11"
          ],
          [
           "Equihash"
          ],
          [
           "Scrypt"
          ],
          [
           "Scrypt"
          ],
          [
           "Lyra2RE"
          ],
          [
           "Scrypt"
          ],
          [
           "Dagger-Hashimoto"
          ],
          [
           "X11"
          ],
          [
           "Blake2S"
          ],
          [
           "X11"
          ],
          [
           "Scrypt"
          ],
          [
           "PoS"
          ],
          [
           "X11"
          ],
          [
           "NIST5"
          ],
          [
           "PoS"
          ],
          [
           "X11"
          ],
          [
           "Scrypt"
          ],
          [
           "Scrypt"
          ],
          [
           "Scrypt"
          ],
          [
           "SHA-256"
          ],
          [
           "X11"
          ],
          [
           "Scrypt"
          ],
          [
           "Scrypt"
          ],
          [
           "SHA-256"
          ],
          [
           "PoS"
          ],
          [
           "Scrypt"
          ],
          [
           "X15"
          ],
          [
           "SHA-256"
          ],
          [
           "Scrypt"
          ],
          [
           "POS 3.0"
          ],
          [
           "CryptoNight-V7"
          ],
          [
           "536"
          ],
          [
           "Argon2d"
          ],
          [
           "Blake2b"
          ],
          [
           "Cloverhash"
          ],
          [
           "CryptoNight"
          ],
          [
           "NIST5"
          ],
          [
           "X11"
          ],
          [
           "NIST5"
          ],
          [
           "Skein"
          ],
          [
           "Scrypt"
          ],
          [
           "X13"
          ],
          [
           "Scrypt"
          ],
          [
           "X11"
          ],
          [
           "X11"
          ],
          [
           "Scrypt"
          ],
          [
           "CryptoNight"
          ],
          [
           "X13"
          ],
          [
           "Time Travel"
          ],
          [
           "Scrypt"
          ],
          [
           "Keccak"
          ],
          [
           "SkunkHash v2 Raptor"
          ],
          [
           "X11"
          ],
          [
           "Skein"
          ],
          [
           "SHA-256"
          ],
          [
           "X11"
          ],
          [
           "Scrypt"
          ],
          [
           "VeChainThor Authority"
          ],
          [
           "Scrypt"
          ],
          [
           "PoS"
          ],
          [
           "Scrypt"
          ],
          [
           "Scrypt"
          ],
          [
           "Scrypt"
          ],
          [
           "Scrypt"
          ],
          [
           "Scrypt"
          ],
          [
           "Scrypt"
          ],
          [
           "Scrypt"
          ],
          [
           "CryptoNight"
          ],
          [
           "SHA-512"
          ],
          [
           "Ouroboros"
          ],
          [
           "X11"
          ],
          [
           "Equihash"
          ],
          [
           "NeoScrypt"
          ],
          [
           "X11"
          ],
          [
           "Scrypt"
          ],
          [
           "NeoScrypt"
          ],
          [
           "Lyra2REv2"
          ],
          [
           "Equihash"
          ],
          [
           "Scrypt"
          ],
          [
           "SHA-256"
          ],
          [
           "NIST5"
          ],
          [
           "PHI1612"
          ],
          [
           "Dagger"
          ],
          [
           "Scrypt"
          ],
          [
           "Quark"
          ],
          [
           "Scrypt"
          ],
          [
           "POS 2.0"
          ],
          [
           "Scrypt"
          ],
          [
           "SHA-256"
          ],
          [
           "X11"
          ],
          [
           "NeoScrypt"
          ],
          [
           "Ethash"
          ],
          [
           "NeoScrypt"
          ],
          [
           "X11"
          ],
          [
           "DPoS"
          ],
          [
           "NIST5"
          ],
          [
           "X13"
          ],
          [
           "Multiple"
          ],
          [
           "Scrypt"
          ],
          [
           "CryptoNight"
          ],
          [
           "CryptoNight"
          ],
          [
           "Ethash"
          ],
          [
           "NIST5"
          ],
          [
           "Quark"
          ],
          [
           "X11"
          ],
          [
           "CryptoNight-V7"
          ],
          [
           "Scrypt"
          ],
          [
           "Scrypt"
          ],
          [
           "Scrypt"
          ],
          [
           "X11"
          ],
          [
           "BLAKE256"
          ],
          [
           "X11"
          ],
          [
           "NeoScrypt"
          ],
          [
           "Quark"
          ],
          [
           "NeoScrypt"
          ],
          [
           "Scrypt"
          ],
          [
           "Scrypt"
          ],
          [
           "Scrypt"
          ],
          [
           "X11"
          ],
          [
           "X11"
          ],
          [
           "SHA-256"
          ],
          [
           "C11"
          ],
          [
           "POS 3.0"
          ],
          [
           "Ethash"
          ],
          [
           "Scrypt"
          ],
          [
           "CryptoNight"
          ],
          [
           "SkunkHash"
          ],
          [
           "Scrypt"
          ],
          [
           "CryptoNight"
          ],
          [
           "Scrypt"
          ],
          [
           "Dagger"
          ],
          [
           "Lyra2REv2"
          ],
          [
           "X13"
          ],
          [
           "Proof-of-BibleHash"
          ],
          [
           "SHA-256 + Hive"
          ],
          [
           "Scrypt"
          ],
          [
           "Scrypt"
          ],
          [
           "X11"
          ],
          [
           "C11"
          ],
          [
           "Proof-of-Authority"
          ],
          [
           "X11"
          ],
          [
           "XEVAN"
          ],
          [
           "Scrypt"
          ],
          [
           "VBFT"
          ],
          [
           "Ethash"
          ],
          [
           "CryptoNight"
          ],
          [
           "Scrypt"
          ],
          [
           "IMesh"
          ],
          [
           "NIST5"
          ],
          [
           "Scrypt"
          ],
          [
           "Scrypt"
          ],
          [
           "Equihash"
          ],
          [
           "Scrypt"
          ],
          [
           "Lyra2Z"
          ],
          [
           "Green Protocol"
          ],
          [
           "PoS"
          ],
          [
           "Scrypt"
          ],
          [
           "Semux BFT consensus"
          ],
          [
           "X11"
          ],
          [
           "Quark"
          ],
          [
           "PoS"
          ],
          [
           "CryptoNight"
          ],
          [
           "X16R"
          ],
          [
           "Scrypt"
          ],
          [
           "NIST5"
          ],
          [
           "Lyra2RE"
          ],
          [
           "XEVAN"
          ],
          [
           "Tribus"
          ],
          [
           "Scrypt"
          ],
          [
           "Lyra2Z"
          ],
          [
           "CryptoNight"
          ],
          [
           "CryptoNight Heavy"
          ],
          [
           "CryptoNight"
          ],
          [
           "Scrypt"
          ],
          [
           "Scrypt"
          ],
          [
           "Jump Consistent Hash"
          ],
          [
           "SHA-256D"
          ],
          [
           "CryptoNight"
          ],
          [
           "Scrypt"
          ],
          [
           "X15"
          ],
          [
           "Scrypt"
          ],
          [
           "Quark"
          ],
          [
           "SHA-256"
          ],
          [
           "DPoS"
          ],
          [
           "X16R"
          ],
          [
           "HMQ1725"
          ],
          [
           "X11"
          ],
          [
           "X16R"
          ],
          [
           "Quark"
          ],
          [
           "Quark"
          ],
          [
           "Scrypt"
          ],
          [
           "Lyra2REv2"
          ],
          [
           "Quark"
          ],
          [
           "Scrypt"
          ],
          [
           "Scrypt"
          ],
          [
           "CryptoNight-V7"
          ],
          [
           "Cryptonight-GPU"
          ],
          [
           "XEVAN"
          ],
          [
           "CryptoNight Heavy"
          ],
          [
           "X11"
          ],
          [
           "X11"
          ],
          [
           "Scrypt"
          ],
          [
           "PoS"
          ],
          [
           "SHA-256"
          ],
          [
           "Keccak"
          ],
          [
           "X11"
          ],
          [
           "X11"
          ],
          [
           "Scrypt"
          ],
          [
           "SHA-512"
          ],
          [
           "X16R"
          ],
          [
           "ECC 256K1"
          ],
          [
           "Equihash"
          ],
          [
           "XEVAN"
          ],
          [
           "Lyra2Z"
          ],
          [
           "SHA-256"
          ],
          [
           "XEVAN"
          ],
          [
           "X11"
          ],
          [
           "CryptoNight"
          ],
          [
           "Quark"
          ],
          [
           "Blake"
          ],
          [
           "Blake"
          ],
          [
           "Equihash"
          ],
          [
           "Exosis"
          ],
          [
           "Scrypt"
          ],
          [
           "Scrypt"
          ],
          [
           "Equihash"
          ],
          [
           "Quark"
          ],
          [
           "Equihash"
          ],
          [
           "Quark"
          ],
          [
           "Scrypt"
          ],
          [
           "QuBit"
          ],
          [
           "X11"
          ],
          [
           "Scrypt"
          ],
          [
           "XEVAN"
          ],
          [
           "SHA-256D"
          ],
          [
           "X11"
          ],
          [
           "SHA-256"
          ],
          [
           "X13"
          ],
          [
           "SHA-256"
          ],
          [
           "X11"
          ],
          [
           "DPoS"
          ],
          [
           "Scrypt"
          ],
          [
           "Scrypt"
          ],
          [
           "X11"
          ],
          [
           "NeoScrypt"
          ],
          [
           "Scrypt"
          ],
          [
           "Blake"
          ],
          [
           "Scrypt"
          ],
          [
           "SHA-256"
          ],
          [
           "Scrypt"
          ],
          [
           "X11"
          ],
          [
           "Scrypt"
          ],
          [
           "Scrypt"
          ],
          [
           "SHA-256"
          ],
          [
           "X11"
          ],
          [
           "SHA-256"
          ],
          [
           "Scrypt"
          ],
          [
           "Scrypt"
          ],
          [
           "Scrypt"
          ],
          [
           "Groestl"
          ],
          [
           "X11"
          ],
          [
           "Scrypt"
          ],
          [
           "PoS"
          ],
          [
           "Scrypt"
          ],
          [
           "Scrypt"
          ],
          [
           "X11"
          ],
          [
           "SHA-256"
          ],
          [
           "DPoS"
          ],
          [
           "Scrypt"
          ],
          [
           "Scrypt"
          ],
          [
           "NeoScrypt"
          ],
          [
           "Multiple"
          ],
          [
           "X13"
          ],
          [
           "Equihash+Scrypt"
          ],
          [
           "DPoS"
          ],
          [
           "Ethash"
          ],
          [
           "DPoS"
          ],
          [
           "SHA-256"
          ],
          [
           "Leased POS"
          ],
          [
           "PoS"
          ],
          [
           "TRC10"
          ],
          [
           "PoS"
          ],
          [
           "SHA-256"
          ],
          [
           "Scrypt"
          ],
          [
           "CryptoNight"
          ],
          [
           "Equihash"
          ],
          [
           "Scrypt"
          ]
         ],
         "hovertemplate": "<b>%{hovertext}</b><br><br>PC 1=%{x}<br>PC 2=%{y}<br>PC 3=%{z}<br>Algorithm=%{customdata[0]}<br>Class=%{marker.color}<extra></extra>",
         "hovertext": [
          "42 Coin",
          "404Coin",
          "EliteCoin",
          "Bitcoin",
          "Ethereum",
          "Litecoin",
          "Dash",
          "Monero",
          "Ethereum Classic",
          "ZCash",
          "Bitshares",
          "DigiByte",
          "BitcoinDark",
          "PayCoin",
          "ProsperCoin",
          "KoboCoin",
          "Spreadcoin",
          "Argentum",
          "Aurora Coin",
          "BlueCoin",
          "MyriadCoin",
          "MoonCoin",
          "ZetaCoin",
          "SexCoin",
          "Quatloo",
          "EnergyCoin",
          "QuarkCoin",
          "Riecoin",
          "Digitalcoin ",
          "BitBar",
          "Catcoin",
          "CryptoBullion",
          "CannaCoin",
          "CryptCoin",
          "CasinoCoin",
          "Diamond",
          "Verge",
          "DevCoin",
          "EarthCoin",
          "E-Gulden",
          "Einsteinium",
          "Emerald",
          "Exclusive Coin",
          "FlutterCoin",
          "Franko",
          "FeatherCoin",
          "GrandCoin",
          "GlobalCoin",
          "GoldCoin",
          "HoboNickels",
          "HyperStake",
          "Infinite Coin",
          "IOCoin",
          "IXcoin",
          "KrugerCoin",
          "LuckyCoin",
          "Litebar ",
          "MaxCoin",
          "MegaCoin",
          "MediterraneanCoin",
          "MintCoin",
          "MinCoin",
          "MazaCoin",
          "Nautilus Coin",
          "NavCoin",
          "NobleCoin",
          "Namecoin",
          "NyanCoin",
          "OpalCoin",
          "Orbitcoin",
          "PotCoin",
          "PhoenixCoin",
          "Reddcoin",
          "RonPaulCoin",
          "StableCoin",
          "SmartCoin",
          "SuperCoin",
          "SyncCoin",
          "SysCoin",
          "TeslaCoin",
          "TigerCoin",
          "TittieCoin",
          "TorCoin",
          "TerraCoin",
          "UnbreakableCoin",
          "Unobtanium",
          "UroCoin",
          "UnitaryStatus Dollar",
          "UltraCoin",
          "ViaCoin",
          "VeriCoin",
          "Vertcoin",
          "WorldCoin",
          "X11 Coin",
          "Crypti",
          "JouleCoin",
          "StealthCoin",
          "ZCC Coin",
          "ByteCoin",
          "DigitalNote ",
          "BurstCoin",
          "StorjCoin",
          "MonaCoin",
          "Neutron",
          "FairCoin",
          "Gulden",
          "RubyCoin",
          "PesetaCoin",
          "Kore",
          "Wild Beast Coin",
          "Dnotes",
          "Flo",
          "8BIT Coin",
          "Sativa Coin",
          "ArtByte",
          "Folding Coin",
          "Ucoin",
          "Unitus",
          "CypherPunkCoin",
          "OmniCron",
          "Vtorrent",
          "GreenCoin",
          "Cryptonite",
          "MasterCoin",
          "SoonCoin",
          "1Credit",
          "IslaCoin",
          "Nexus",
          "MarsCoin ",
          "Crypto",
          "Anarchists Prime",
          "Droidz",
          "BowsCoin",
          "Squall Coin",
          "Song Coin",
          "BitZeny",
          "Diggits",
          "Expanse",
          "Paycon",
          "Siacoin",
          "Emercoin",
          "EverGreenCoin",
          "MindCoin",
          "I0coin",
          "Decred",
          "Revolution VR",
          "HOdlcoin",
          "EDRCoin",
          "Hitcoin",
          "Gamecredits",
          "DubaiCoin",
          "CarpeDiemCoin",
          "PWR Coin",
          "BillaryCoin",
          "GPU Coin",
          "Adzcoin",
          "SoilCoin",
          "YoCoin",
          "SibCoin",
          "EuropeCoin",
          "ZeitCoin",
          "SwingCoin",
          "SafeExchangeCoin",
          "Nebuchadnezzar",
          "Francs",
          "BolivarCoin",
          "Ratecoin",
          "Revenu",
          "Clockcoin",
          "VIP Tokens",
          "BitSend",
          "Omni",
          "Let it Ride",
          "PutinCoin",
          "iBankCoin",
          "Frankywillcoin",
          "MudraCoin",
          "PizzaCoin",
          "Lutetium Coin",
          "Komodo",
          "GoldBlocks",
          "CarterCoin",
          "Karbo",
          "BitTokens",
          "ZayedCoin",
          "MustangCoin",
          "ZoneCoin",
          "Circuits of Value",
          "RootCoin",
          "DopeCoin",
          "BitCurrency",
          "DollarCoin",
          "Swiscoin",
          "Shilling",
          "BuzzCoin",
          "Opair",
          "PesoBit",
          "Halloween Coin",
          "ZCoin",
          "CoffeeCoin",
          "RoyalCoin",
          "GanjaCoin V2",
          "TeamUP",
          "LanaCoin",
          "Elementrem",
          "ZClassic",
          "ARK",
          "InsaneCoin",
          "KiloCoin",
          "ArtexCoin",
          "EmberCoin",
          "XenixCoin",
          "FreeCoin",
          "PLNCoin",
          "AquariusCoin",
          "Kurrent",
          "Creatio",
          "Eternity",
          "Eurocoin",
          "BitcoinFast",
          "Stakenet",
          "BitConnect Coin",
          "MoneyCoin",
          "Enigma",
          "Cannabis Industry Coin",
          "Russiacoin",
          "PandaCoin",
          "GameUnits",
          "GAKHcoin",
          "Allsafe",
          "LiteCreed",
          "OsmiumCoin",
          "Bikercoins",
          "HexxCoin",
          "Klingon Empire Darsek",
          "Internet of People",
          "KushCoin",
          "Printerium",
          "PacCoin",
          "Impeach",
          "Citadel",
          "Zilbercoin",
          "FirstCoin",
          "BeaverCoin",
          "FindCoin",
          "VaultCoin",
          "Zero",
          "OpenChat",
          "Canada eCoin",
          "Zoin",
          "RenosCoin",
          "DubaiCoin",
          "VirtacoinPlus",
          "TajCoin",
          "Impact",
          "EB3coin",
          "Atmos",
          "HappyCoin",
          "Coinonat",
          "MacronCoin",
          "Condensate",
          "Independent Money System",
          "ArgusCoin",
          "LomoCoin",
          "ProCurrency",
          "GoldReserve",
          "BenjiRolls",
          "GrowthCoin",
          "ILCoin",
          "Phreak",
          "Degas Coin",
          "HTML5 Coin",
          "Ultimate Secure Cash",
          "EquiTrader",
          "QTUM",
          "Quantum Resistant Ledger",
          "Espers",
          "Dynamic",
          "Nano",
          "ChanCoin",
          "Dinastycoin",
          "Denarius",
          "DigitalPrice",
          "Virta Unique Coin",
          "Bitcoin Planet",
          "Unify",
          "BritCoin",
          "SocialCoin",
          "ArcticCoin",
          "DAS",
          "Linda",
          "LeviarCoin",
          "DeepOnion",
          "Bitcore",
          "gCn Coin",
          "SmartCash",
          "Signatum",
          "Onix",
          "Cream",
          "Bitcoin Cash",
          "Monoeci",
          "Draftcoin",
          "Vechain",
          "Sojourn Coin",
          "Stakecoin",
          "NewYorkCoin",
          "FrazCoin",
          "Kronecoin",
          "AdCoin",
          "Linx",
          "CoinonatX",
          "Ethereum Dark",
          "Sumokoin",
          "Obsidian",
          "Cardano",
          "Regalcoin",
          "BitcoinZ",
          "TrezarCoin",
          "Elements",
          "TerraNovaCoin",
          "VIVO Coin",
          "Rupee",
          "Bitcoin Gold",
          "WomenCoin",
          "Theresa May Coin",
          "NamoCoin",
          "LUXCoin",
          "Pirl",
          "Xios",
          "Bitcloud 2.0",
          "eBoost",
          "KekCoin",
          "BlackholeCoin",
          "Infinity Economics",
          "Pura",
          "Innova",
          "Ellaism",
          "GoByte",
          "Magnet",
          "Lamden Tau",
          "Electra",
          "Bitcoin Diamond",
          "SHIELD",
          "Cash & Back Coin",
          "UltraNote",
          "BitCoal",
          "DaxxCoin",
          "Bulwark",
          "Kalkulus",
          "AC3",
          "Lethean",
          "GermanCoin",
          "LiteCoin Ultra",
          "PopularCoin",
          "PhantomX",
          "Photon",
          "Sucre",
          "SparksPay",
          "Digiwage",
          "GunCoin",
          "IrishCoin",
          "Trollcoin",
          "Litecoin Plus",
          "Monkey Project",
          "Pioneer Coin",
          "UnitedBitcoin",
          "Interzone",
          "TokenPay",
          "1717 Masonic Commemorative Token",
          "My Big Coin",
          "TurtleCoin",
          "MUNcoin",
          "Unified Society USDEX",
          "Niobio Cash",
          "ShareChain",
          "Travelflex",
          "KREDS",
          "Tokyo Coin",
          "BiblePay",
          "LitecoinCash",
          "BitFlip",
          "LottoCoin",
          "Crypto Improvement Fund",
          "Stipend",
          "Poa Network",
          "Pushi",
          "Ellerium",
          "Velox",
          "Ontology",
          "Callisto Network",
          "BitTube",
          "Poseidon",
          "Aidos Kuneen",
          "Bitspace",
          "Briacoin",
          "Ignition",
          "Bitrolium",
          "MedicCoin",
          "Alpenschillling",
          "Bitcoin Green",
          "Deviant Coin",
          "Abjcoin",
          "Semux",
          "FuturoCoin",
          "Carebit",
          "Zealium",
          "Monero Classic",
          "Proton",
          "iDealCash",
          "Jumpcoin",
          "Infinex",
          "Bitcoin Incognito",
          "KEYCO",
          "HollyWoodCoin",
          "GINcoin",
          "PlatinCoin",
          "Loki",
          "Newton Coin",
          "Swisscoin",
          "Xt3ch",
          "MassGrid",
          "TheVig",
          "PluraCoin",
          "EmaratCoin",
          "Dekado",
          "Lynx",
          "Poseidon Quark",
          "BitcoinWSpectrum",
          "Muse",
          "Motion",
          "PlusOneCoin",
          "Axe",
          "Trivechain",
          "Dystem",
          "Giant",
          "Peony Coin",
          "Absolute Coin",
          "Vitae",
          "HexCoin",
          "TPCash",
          "Webchain",
          "Ryo",
          "Urals Coin",
          "Qwertycoin",
          "ARENON",
          "EUNO",
          "MMOCoin",
          "Ketan",
          "Project Pai",
          "XDNA",
          "PAXEX",
          "Azart",
          "ThunderStake",
          "Kcash",
          "Xchange",
          "Acute Angle Cloud",
          "CrypticCoin",
          "Bettex coin",
          "Actinium",
          "Bitcoin SV",
          "BitMoney",
          "Junson Ming Chan Coin",
          "FREDEnergy",
          "HerbCoin",
          "Universal Molecule",
          "Lithium",
          "PirateCash",
          "Exosis",
          "Block-Logic",
          "Oduwa",
          "Beam",
          "Galilel",
          "Bithereum",
          "Crypto Sports",
          "Credit",
          "SLICE",
          "Dash Platinum",
          "Nasdacoin",
          "Beetle Coin",
          "Titan Coin",
          "Award",
          "BLAST",
          "Bitcoin Rhodium",
          "GlobalToken",
          "Insane Coin",
          "ALAX",
          "LiteDoge",
          "SolarCoin",
          "TruckCoin",
          "UFO Coin",
          "OrangeCoin",
          "BlakeCoin",
          "BitstarCoin",
          "NeosCoin",
          "HyperCoin",
          "PinkCoin",
          "Crypto Escudo",
          "AudioCoin",
          "IncaKoin",
          "Piggy Coin",
          "Crown Coin",
          "Genstake",
          "SmileyCoin",
          "XiaoMiCoin",
          "Groestlcoin",
          "CapriCoin",
          " ClubCoin",
          "Radium",
          "Bata",
          "Pakcoin",
          "Creditbit ",
          "OKCash",
          "Lisk",
          "HiCoin",
          "WhiteCoin",
          "FriendshipCoin",
          "JoinCoin",
          "Triangles Coin",
          "Vollar",
          "EOS",
          "Reality Clash",
          "Oxycoin",
          "TigerCash",
          "Waves",
          "Particl",
          "BitTorrent",
          "Nxt",
          "ZEPHYR",
          "Gapcoin",
          "Beldex",
          "Horizen",
          "BitcoinPlus"
         ],
         "legendgroup": "",
         "marker": {
          "color": [
           0,
           0,
           0,
           1,
           1,
           1,
           0,
           1,
           1,
           1,
           0,
           1,
           0,
           0,
           1,
           0,
           1,
           1,
           0,
           0,
           1,
           1,
           1,
           1,
           1,
           0,
           1,
           1,
           1,
           0,
           1,
           0,
           1,
           1,
           0,
           0,
           1,
           1,
           1,
           1,
           1,
           1,
           0,
           0,
           1,
           1,
           1,
           1,
           1,
           0,
           0,
           1,
           0,
           1,
           1,
           1,
           1,
           0,
           1,
           1,
           0,
           1,
           0,
           0,
           0,
           1,
           1,
           1,
           0,
           0,
           0,
           0,
           0,
           1,
           1,
           1,
           0,
           0,
           1,
           0,
           1,
           0,
           0,
           1,
           1,
           1,
           1,
           0,
           0,
           1,
           0,
           1,
           1,
           0,
           0,
           1,
           0,
           0,
           1,
           1,
           0,
           0,
           1,
           0,
           0,
           1,
           0,
           1,
           0,
           1,
           0,
           1,
           0,
           0,
           1,
           1,
           0,
           1,
           1,
           1,
           0,
           1,
           1,
           1,
           1,
           1,
           0,
           0,
           1,
           1,
           1,
           0,
           1,
           0,
           1,
           1,
           0,
           1,
           0,
           1,
           0,
           0,
           1,
           1,
           0,
           1,
           1,
           0,
           0,
           1,
           0,
           1,
           0,
           0,
           0,
           1,
           1,
           1,
           1,
           0,
           0,
           0,
           0,
           0,
           1,
           1,
           0,
           0,
           0,
           0,
           0,
           1,
           0,
           0,
           0,
           0,
           0,
           1,
           0,
           1,
           0,
           0,
           1,
           0,
           1,
           0,
           0,
           1,
           0,
           1,
           0,
           1,
           0,
           1,
           0,
           0,
           0,
           0,
           1,
           0,
           0,
           0,
           0,
           0,
           1,
           1,
           0,
           0,
           1,
           1,
           0,
           0,
           0,
           0,
           0,
           1,
           0,
           0,
           0,
           0,
           0,
           0,
           0,
           0,
           1,
           0,
           0,
           0,
           0,
           0,
           0,
           1,
           1,
           1,
           0,
           0,
           0,
           0,
           1,
           0,
           1,
           0,
           0,
           1,
           0,
           1,
           1,
           0,
           1,
           1,
           0,
           1,
           0,
           0,
           0,
           1,
           0,
           0,
           1,
           0,
           0,
           0,
           0,
           0,
           0,
           0,
           1,
           0,
           1,
           0,
           0,
           0,
           0,
           1,
           0,
           1,
           0,
           1,
           1,
           1,
           1,
           0,
           1,
           0,
           0,
           1,
           0,
           1,
           1,
           1,
           0,
           1,
           0,
           1,
           1,
           1,
           0,
           1,
           0,
           1,
           0,
           0,
           0,
           1,
           0,
           1,
           1,
           1,
           1,
           1,
           0,
           0,
           1,
           0,
           0,
           0,
           1,
           0,
           1,
           0,
           1,
           0,
           1,
           0,
           0,
           0,
           0,
           1,
           0,
           0,
           1,
           0,
           0,
           0,
           1,
           1,
           1,
           1,
           0,
           0,
           0,
           0,
           1,
           0,
           1,
           1,
           1,
           0,
           0,
           1,
           1,
           0,
           0,
           1,
           0,
           1,
           1,
           1,
           0,
           1,
           1,
           0,
           0,
           0,
           1,
           1,
           1,
           0,
           0,
           0,
           1,
           1,
           0,
           1,
           1,
           1,
           1,
           0,
           3,
           3,
           1,
           1,
           1,
           0,
           3,
           0,
           0,
           0,
           0,
           1,
           1,
           1,
           1,
           0,
           0,
           0,
           1,
           0,
           1,
           0,
           0,
           0,
           0,
           1,
           0,
           0,
           1,
           0,
           0,
           1,
           1,
           0,
           1,
           0,
           1,
           1,
           1,
           1,
           0,
           0,
           1,
           0,
           1,
           0,
           0,
           0,
           0,
           0,
           0,
           1,
           1,
           1,
           0,
           0,
           0,
           0,
           0,
           0,
           1,
           0,
           1,
           1,
           1,
           1,
           0,
           0,
           0,
           0,
           1,
           0,
           0,
           1,
           0,
           0,
           1,
           3,
           1,
           0,
           1,
           1,
           0,
           0,
           1,
           0,
           1,
           1,
           1,
           1,
           1,
           0,
           1,
           0,
           1,
           0,
           0,
           1,
           0,
           0,
           0,
           0,
           0,
           1,
           1,
           1,
           0,
           0,
           0,
           1,
           0,
           1,
           0,
           1,
           0,
           0,
           0,
           0,
           1,
           0,
           0,
           0,
           1,
           0,
           1,
           0,
           1,
           0,
           0,
           0,
           1,
           1,
           0,
           0,
           0,
           0,
           0,
           0,
           1,
           0,
           1,
           0,
           1,
           0,
           0,
           0,
           0,
           2,
           0,
           0,
           0,
           1,
           1,
           0
          ],
          "coloraxis": "coloraxis",
          "symbol": "circle"
         },
         "mode": "markers",
         "name": "",
         "scene": "scene",
         "showlegend": false,
         "type": "scatter3d",
         "x": [
          -0.3265720133097724,
          -0.3098549835077333,
          2.305654210061519,
          -0.14861642375654271,
          -0.16489802564893524,
          -0.15431552119799588,
          -0.40643594472326355,
          -0.14902697745462276,
          -0.16333475288637134,
          -0.16972138882776647,
          -0.24589575332744024,
          0.16024789137731882,
          -0.3196996025280685,
          -0.26661536157232013,
          -0.15546558048273149,
          -0.2531421932551416,
          -0.23553784292130525,
          -0.15508082383607083,
          -0.3262304663286853,
          -0.3187838871275415,
          -0.09400642952278077,
          2.575671160877511,
          -0.14569165575910953,
          -0.15232704853026702,
          -0.15488417906675528,
          -0.3250636844497535,
          -0.2355900245596288,
          -0.20616700804548624,
          -0.15493315416867634,
          -0.3265679357901324,
          -0.1554477882523258,
          -0.3265521651934372,
          -0.15553453422505925,
          -0.23562748041388268,
          0.5991914754223991,
          -0.37818649529997234,
          0.18407136560775164,
          0.23048893371242296,
          0.09402411610489607,
          -0.1552799892047608,
          -0.15087063307042836,
          -0.15521907425491457,
          -0.3362003881751698,
          -0.22015127669147222,
          -0.15559172603786636,
          -0.1822615365229742,
          -0.13474462235729592,
          -0.15438282447846788,
          -0.15466118153886965,
          -0.3246243573658226,
          -0.33310960869656514,
          1.599138387293754,
          -0.406330297623603,
          -0.14857766630236752,
          -0.15194150652994146,
          -0.15530651850056637,
          -0.1556625134246212,
          -0.37819573296447206,
          -0.154919295960434,
          -0.15426257942327803,
          -0.012560619655179238,
          -0.15554338252597458,
          -0.2828842164286138,
          -0.2732380269308501,
          -0.286987608043885,
          -0.019992133282326154,
          -0.14865553176131813,
          -0.1491862091977721,
          -0.28761184488459046,
          -0.3580291175551237,
          -0.32085533027889035,
          -0.324968460973111,
          0.03273672460247672,
          -0.1555227470649254,
          -0.15361062881779872,
          -0.1550077786187651,
          -0.35306102998002314,
          -0.40670309999485244,
          -0.13576467598771325,
          -0.2450952418091395,
          -0.1481175164680444,
          -0.3134019164801754,
          -0.4066144428467514,
          -0.14840566899490912,
          -0.14838856576712153,
          -0.1489812800555365,
          -0.23580196125267092,
          -0.30172195496029613,
          -0.32524501115530796,
          -0.15523830357139404,
          -0.2563449264141856,
          -0.1873386203170925,
          -0.15233176488152209,
          -0.4065788070861057,
          -0.24556459334267586,
          -0.1481850339904433,
          -0.28739199409510524,
          -0.31764525084062484,
          3.8697638065404223,
          0.4574133461709642,
          -0.2257100267719137,
          -0.3072903537705057,
          -0.15410210858849024,
          -0.31890870742491917,
          -0.37760617686601194,
          -0.13864908518733696,
          -0.2732182363170739,
          -0.15281666615852216,
          -0.2876874667382122,
          -0.1556647289079123,
          -0.26785440622330353,
          -0.15268126766583798,
          -0.3265540234054106,
          -0.2876394981189461,
          -0.13885894286403438,
          -0.11833495257510661,
          -0.35350730666629804,
          -0.12812641112703355,
          -0.19264930780650438,
          -0.1555373890127166,
          -0.3262875216952806,
          -0.0280495361034265,
          -0.12909096605155732,
          -0.15567365236478312,
          -0.14868340053899612,
          0.49870299918568745,
          -0.406684568692129,
          -0.316232962706536,
          -0.23518710630594997,
          -0.15864891038672949,
          -0.14842238051224818,
          -0.40785317494971485,
          -0.23547295120300574,
          -0.39939924179371505,
          -0.1537910941204875,
          -0.15298064870811062,
          -0.27161447600323857,
          -0.16596897655096587,
          -0.28715954110020214,
          0.38703993041193097,
          -0.31223120916424857,
          -0.2555918817607018,
          -0.23550846846504117,
          -0.14857879234098006,
          -0.07957777014513842,
          -0.15161805774873796,
          -0.16000624732404675,
          -0.31967042168487425,
          -0.08307809783592582,
          -0.15423221494660808,
          -0.3197343338251102,
          0.2712980393673344,
          -0.2397682500322964,
          -0.3261629781112874,
          -0.2714829879147061,
          -0.23466637593054016,
          -0.15603483958427905,
          -0.1544803831127486,
          -0.15028957142757612,
          -0.4038442071365931,
          0.8837675970469631,
          -0.31953371915162504,
          -0.1339925530118914,
          -0.33588261209605874,
          -0.15546285751040884,
          -0.23547158361939913,
          -0.4045204693428595,
          -0.31827300798990493,
          -0.3159333773999019,
          -0.36152232856781763,
          -0.40541551705484324,
          -0.15567371105434777,
          -0.3423018799011924,
          -0.3023804620964007,
          -0.32620119791374375,
          -0.32463506479423626,
          -0.2332931567631052,
          -0.23562204748442758,
          -0.34095677565089033,
          -0.3419523170657286,
          -0.4061567161844082,
          -0.3254027907539601,
          0.30180009033162714,
          -0.3197152145568873,
          -0.14883974134400918,
          -0.4066737224329537,
          -0.3263909969130921,
          -0.10813240287996038,
          -0.3265482377090086,
          -0.15283094620684487,
          -0.2714727254915846,
          -0.14879823432269998,
          -0.18100325571945444,
          -0.15533598066974405,
          0.03438824294184045,
          -0.3348362451025172,
          -0.326161137153774,
          -0.3927897049875758,
          -0.13136750901885025,
          -0.3341627260673395,
          -0.23472859522517067,
          -0.455047312465706,
          -0.3339106203535363,
          -0.28117362813449254,
          -0.165710278457881,
          -0.16974307693140053,
          3.6413378810736843,
          -0.4062649140375347,
          -0.08215062496355316,
          -0.22216087858822833,
          0.8482175234300677,
          -0.40662848454660633,
          -0.33530152729734297,
          -0.326088422501215,
          -0.3262432485184409,
          -0.23344289260147047,
          -0.33588261209605874,
          -0.4062019559094712,
          -0.3195774408427404,
          -0.3260891655522904,
          -0.39111620128585106,
          -0.32623704087426403,
          -0.32181015686494496,
          -0.40665757190764923,
          0.301794444729846,
          -0.3254450712071693,
          0.3721578679134358,
          -0.3264369794034842,
          -0.3265077889705001,
          -0.358158365752898,
          -0.3626824507078499,
          -0.15565538716656352,
          0.30192559358978316,
          -0.15919117703697885,
          -0.3227218263248649,
          -0.3196915513876271,
          -0.40656722618646596,
          -0.3262848619428116,
          0.48205564387870337,
          -0.32641222711349205,
          -0.14778747029532693,
          -0.273124394106097,
          -0.2688618786977854,
          -0.15562356954340004,
          -0.2344956823468742,
          -0.22833142743628151,
          -0.16975549567830708,
          -0.3072025208327657,
          -0.15375062128997127,
          -0.15890862253424767,
          -0.2728646989799342,
          -0.14556652645418033,
          -0.4058305003454687,
          -0.44948812998905335,
          -0.4045647508695768,
          -0.12644841918548722,
          -0.3341233732618048,
          -0.4057280527865459,
          -0.19183165657370377,
          -0.3285047831235867,
          -0.40165546441169203,
          -0.3263553294548995,
          -0.32635451041349434,
          -0.319452977468484,
          0.2678491798706773,
          -0.40620814269745026,
          -0.1551844822583524,
          -0.25570825569882716,
          -0.11505216572156245,
          -0.33591700943899405,
          -0.3255633732403157,
          0.8825577088986063,
          -0.2653013429453475,
          -0.15500593267046137,
          -0.3410761922695534,
          -0.14764480354496548,
          0.541916237489333,
          -0.16911659896325382,
          -0.014578585623662956,
          -0.16980341784187167,
          0.3380367893745875,
          -0.36306305129071453,
          -0.23467478408260978,
          -0.36156030338081446,
          -0.4337529572166838,
          -0.15532628618329175,
          -0.2873235487244831,
          -0.1550888439393949,
          -0.23507079379780493,
          -0.2356501771571564,
          0.13993336826912078,
          0.30219075732974454,
          -0.2873945612813511,
          -0.17608137295104306,
          3.265394671610084,
          -0.13235326169350722,
          -0.3295332468398269,
          -0.22649142648808904,
          -0.43325622920055046,
          -0.14861558522661375,
          -0.4064814409526058,
          -0.2731988705342435,
          4.36280203130025,
          -0.08099416646857502,
          -0.33578282071598786,
          1.597087741645734,
          -0.15542445475758124,
          -0.15487424367542257,
          -0.15457422307161206,
          -0.1545611110391115,
          -0.32598931344920495,
          -0.326490662251468,
          0.3023749988640641,
          -0.3041521110804353,
          0.6657349395030651,
          -0.40642206076055953,
          0.043285669764420075,
          -0.3530117205709137,
          -0.1898857436440941,
          -0.32644612285303676,
          -0.18696593513188225,
          -0.30596422586514965,
          -0.16960103768407164,
          0.4451983346425737,
          -0.3180323642744623,
          -0.3477792265237353,
          -0.40213780197384247,
          -0.15478975469772038,
          -0.32639629521413793,
          -0.40961555974435576,
          -0.15374882455824002,
          -0.32009612380769314,
          -0.32626627754899173,
          -0.09252585527546972,
          -0.23117969276680356,
          -0.1868108244128882,
          -0.16406990263275026,
          -0.18691136954259338,
          -0.4052106784078614,
          3.646210040185106,
          0.19827854001067388,
          -0.2840543990318473,
          -0.11832558672218656,
          -0.32371810461992756,
          1.1425595774604091,
          0.3017771509236784,
          -0.08870442850635088,
          -0.3098052110792484,
          -0.35804389341337467,
          -0.23092025673872843,
          -0.13672036333331433,
          0.08927162417054063,
          -0.3254018847493454,
          -0.07153354025596276,
          -0.40579379452386716,
          1.0999905486704187,
          -0.23562408957054495,
          -0.1869634905804316,
          -0.357205821503253,
          -0.17997809093964665,
          -0.15467295834753172,
          -0.3129264760918324,
          -0.32651286604168744,
          -0.3534791438087166,
          -0.2355492492520172,
          -0.14859491557336627,
          -0.2233198051770424,
          -0.3425847224512207,
          -0.28405229998292186,
          -0.2517718889399808,
          8.065854350644466,
          -0.15868702595553053,
          -0.32204340618159993,
          0.3056645768126333,
          0.03800928156547693,
          -0.15429138239648246,
          -0.172848381246797,
          -0.22626401633721022,
          -0.1069743117152604,
          -0.34299563974321773,
          -0.1552485883235454,
          0.1528518584361166,
          -0.22967051711764497,
          -0.39424035062307644,
          -0.4142641525511412,
          -0.40649872866774184,
          -0.3327687878915929,
          -0.2723560236577593,
          -0.29625190030209725,
          -0.11694907905503393,
          0.30972712168236977,
          -0.15548639336325493,
          -0.14387885619203378,
          -0.3626606698427491,
          -0.32654031076652185,
          -0.3265219604167057,
          -0.16858877291002805,
          -0.2667188144802908,
          -0.12914351285052744,
          -0.3351607630923066,
          -0.33537593378128056,
          -0.32623752565596514,
          3.8176890943280326,
          -0.23471569060411038,
          -0.4082792482392812,
          -0.3355652245004899,
          0.30196027450473856,
          -0.3096858760361811,
          -0.27292986844667505,
          -0.19189133518121707,
          -0.15903589376307312,
          -0.3256178277236608,
          -0.1452547178491476,
          -0.2728920764173444,
          -0.13145217160057737,
          0.3059018668689725,
          0.5697238026813634,
          2.116538015264468,
          -0.12900318255995905,
          -0.27314493962115705,
          -0.15283437797025665,
          -0.3467080590928933,
          0.3156107343420417,
          -0.3257097956797593,
          -0.20191284407029006,
          2.276564450538376,
          -0.35373728878556043,
          -0.26542957344768425,
          0.979992487179818,
          -0.19193754068277102,
          -0.17208423712396037,
          -0.23560619016982004,
          -0.36204082374313296,
          -0.3581577943354813,
          -0.41130536882411445,
          -0.15347276066186863,
          -0.35891284244198324,
          -0.3568730855559779,
          -0.1555110551785202,
          -0.3193928735967218,
          -0.13659925505631942,
          -0.1362507787868964,
          -0.16063989026021624,
          3.1007214679716046,
          -0.3530551443977308,
          -0.40597032719678244,
          -0.27038125215875997,
          -0.33466197242522183,
          -0.1083095848649657,
          -0.36361069172765126,
          -0.3529160304160553,
          -0.2355774584651222,
          -0.18554824639434528,
          -0.2661797653820134,
          -0.19136331992286335,
          -0.42395603898776585,
          -0.06399514357644971,
          -0.27974127666049,
          -0.13084788554025537,
          -0.14861562291561226,
          0.4936431373731312,
          -0.1427476409589916,
          0.3819891011246633,
          -0.41059765628902944,
          -0.127008864202542,
          -0.12740224065148756,
          -0.28691500081586535,
          -0.17750454744727862,
          -0.15439963220355754,
          -0.3262415207585004,
          -0.16765457152195407,
          -0.41105529216610814,
          -0.16943329890864972,
          -0.3582751589329681,
          0.5832914639666438,
          -0.19185760757838513,
          -0.3535336369072902,
          -0.32572269955291566,
          -0.3272059448346217,
          -0.3012758679571636,
          -0.4035267006073393,
          -0.1478893507900241,
          -0.11688196647069314,
          -0.14675348452400308,
          -0.40619832220597046,
          3.658492072786961,
          0.11013701907231041,
          0.5427716970836072,
          -0.40372999141170735,
          -0.11187983407057188,
          -0.3251060790714416,
          -0.07769928446029384,
          -0.32593389730875966,
          -0.26664808960577235,
          -0.3264539685026125,
          -0.39779846209530534,
          -0.1390100242709809,
          -0.23986604478544393,
          -0.0986406673633863,
          -0.39353251047328036,
          -0.14840503737527103,
          -0.32572992540216233,
          0.5625584444280867,
          -0.3187713115579659,
          -0.2057265477507039,
          -0.40275559761377283,
          -0.3241638984596548,
          -0.336159150363646,
          -0.1555881597172004,
          -0.15353700857154323,
          -0.40276996922893965,
          -0.31820975464840967,
          3.641731003407413,
          -0.07979064645197553,
          -0.3213494140146854,
          -0.35765370438091376,
          -0.12886371145185596,
          -0.28779503114771804,
          -0.14019835425355212,
          3.651630970116464,
          -0.16574354740153496,
          3.6528791532744487,
          -0.24748180147708354,
          -0.29423515201063577,
          -0.3360948085514082,
          34.1235098582842,
          -0.3184472085035607,
          2.431369406079971,
          -0.324610783397442,
          0.32360692153291976,
          -0.1697224492521738,
          -0.2735427395731992
         ],
         "y": [
          1.0338475635945925,
          1.0339366955591456,
          1.6030018158875459,
          -1.3222043564897612,
          -2.015383466865305,
          -1.1047909047581839,
          1.2076510390860333,
          -2.2272752893067,
          -2.0154888276294334,
          -2.109769660884899,
          1.6681559950167588,
          -1.8543471300260783,
          0.8164065531252337,
          0.6362595842538868,
          -1.1047783056832,
          1.8485911311580923,
          -0.9309643266165285,
          -1.104798074924082,
          1.0338451992431175,
          1.0340649334560625,
          -1.8479632128537002,
          -1.3009794112342625,
          -1.3222282935977334,
          -1.1048531805707569,
          -1.104818128033633,
          1.0338896617084157,
          -0.4368261877826769,
          -1.2594026416010646,
          -1.1047827193788355,
          1.0338473226859535,
          -1.1047778090946703,
          1.0338474081061442,
          -1.1047746536397336,
          -0.9309654094613095,
          0.3206190263951395,
          0.8792393341305308,
          -1.8505285354604364,
          -1.326507705029238,
          -1.1073781255275823,
          -1.104773125753662,
          -1.104847858533127,
          -1.104779229953615,
          1.5670719867266791,
          0.25167582738558014,
          -1.1047748988902528,
          -1.6479839081861638,
          -1.1051929805428942,
          -1.1047828503969699,
          -1.104792212753835,
          1.0338167850208069,
          1.02807790407558,
          -1.1200712410144686,
          1.2076539877404011,
          -1.3222032747531385,
          -1.1048533607970246,
          -1.1047731567099046,
          -1.1047698607357528,
          1.8827048449924049,
          -1.1047779578911512,
          -2.1406176231656158,
          0.8609764396673208,
          -1.104772672809027,
          0.8157333026098229,
          0.8536893456147948,
          1.7535321497653535,
          -1.1116245974422885,
          -1.3222054480103906,
          -1.1048272438467273,
          1.753514727056243,
          0.4907326803073026,
          1.033709133908108,
          1.0338227896693515,
          1.0438760195135564,
          -1.104779901226217,
          -1.1048890058289131,
          -1.1047869547629763,
          1.0275210516332214,
          1.2076591906850533,
          -1.3224607844606069,
          0.11091917119876023,
          -1.3222088869441286,
          1.6454979705962065,
          1.2076545709782527,
          -1.3222133734724821,
          -1.32223985663573,
          -1.3221998179167034,
          -0.930957508520573,
          1.0334059592092364,
          1.0338136520642627,
          -1.104773381265159,
          0.3467957240120692,
          -1.288617848384299,
          -1.1048642530694666,
          1.2076587582804386,
          0.11097702014340854,
          -1.3222093439202232,
          1.7535208631829546,
          1.033387225861044,
          -2.3338690889667686,
          -2.3053267535403763,
          0.4190348440185088,
          1.5298621469275768,
          -1.1047999326977596,
          0.8163959909148897,
          0.8792586386135329,
          -1.1054859899318623,
          0.8537013774852622,
          -1.1048075229218517,
          1.7535041025700744,
          -1.1047708292957144,
          0.8534963405046866,
          -1.1047992131071929,
          1.033848065730084,
          1.7535068603689434,
          -1.1050093957105676,
          -2.211833227718081,
          1.0274944061177056,
          -1.847496540878645,
          -1.530872548295629,
          -1.104767802574669,
          1.0338413141552178,
          -1.108302045866593,
          -2.2159991061001834,
          -1.1047696533320335,
          -1.3222062258395328,
          -1.1517781314421747,
          1.2076597086108858,
          1.9354250416763241,
          -0.9309637607484132,
          -2.1629580010028593,
          -1.3222221834697563,
          1.7966860405320366,
          -0.9309632249491644,
          0.8440875514510747,
          -1.1048658334710921,
          -1.1048714228227843,
          0.853675190360139,
          -2.01542535242488,
          1.7534918766721472,
          -2.168572960393678,
          0.8159211203982673,
          1.8487524218282556,
          -0.9309606688136481,
          -1.3222033061813427,
          0.8552498334867329,
          -1.1048050128477682,
          -2.098947578293618,
          0.8164073675746691,
          1.1978548087904493,
          -1.1047885796461585,
          0.8164137428654982,
          -1.3258130437385194,
          1.5053418068979014,
          1.0338291814953666,
          0.8535929749293535,
          -0.9309854108053822,
          -2.2309914590368827,
          -1.104855352307627,
          -2.2163127546516357,
          1.2074665411159602,
          0.8157540787298507,
          0.816398412225758,
          0.3270114397304763,
          1.5670666662407162,
          -1.104777520196507,
          -0.9309660247289631,
          1.2076668979657774,
          0.8163039581108666,
          0.8161547978652842,
          1.50187974620507,
          1.2075965096189538,
          -1.104769652820337,
          1.5919069229612897,
          1.0331037850395663,
          1.033826459294451,
          1.0338306759201592,
          1.5732535745056895,
          -0.9309702242378374,
          1.0273927531657283,
          -1.7279103691152942,
          1.2076389668229894,
          1.0338163432442884,
          -2.3025822048614333,
          0.8164068268744407,
          -1.3222025977100986,
          1.2076578828722593,
          1.0338377166315689,
          -1.8477898847036773,
          1.0338482272112697,
          -1.1048317701935886,
          0.8537500954163073,
          -1.3222020794009874,
          0.28359672803118396,
          -1.1047810738853254,
          1.8873005587529346,
          1.5670575584575355,
          1.033859031348306,
          1.2069832889104068,
          -2.255286436657427,
          1.5671004792973044,
          1.573353634497612,
          1.8832489619001371,
          1.5669223393869955,
          1.8873574317106898,
          -2.0154247296779486,
          -2.1097702662088653,
          1.9620029080759478,
          1.2076501367241557,
          -1.109812029693711,
          -0.9309315239491246,
          1.7846131314867417,
          1.207658540055827,
          1.5670615999362583,
          1.0338337171997878,
          1.0338269411150123,
          -0.9310534290647249,
          1.5670666662407162,
          1.20763060928944,
          0.8164113816833464,
          1.0338376270211536,
          0.6499168584406041,
          1.0338370471966196,
          1.0335188340555166,
          1.2076569146653064,
          -2.3025901667939848,
          1.0337768508593805,
          0.8486451681609544,
          1.0338421091404404,
          1.0338470036418,
          1.521668789452904,
          0.6077124451618314,
          -1.1047706297826703,
          -2.3025893443245393,
          -2.1629335542254062,
          1.0336002802369033,
          0.8164074873233084,
          1.2076563471436874,
          1.0338413883900122,
          -0.9818705456490748,
          1.033836461899862,
          -2.227371949317943,
          0.8536649748529589,
          0.3355799549522893,
          -1.1047701998655635,
          1.5733516037999302,
          -0.931458490229553,
          -2.1097677748716186,
          1.0336786867864158,
          -1.1047864899659692,
          -2.1629334723742293,
          0.85368681974541,
          -2.1277228209867127,
          1.2076125972720426,
          1.8734322146529365,
          1.2076408299907921,
          -1.106791475065774,
          1.567051707687006,
          1.2076154566259005,
          -0.6367411186587668,
          1.5670029792928204,
          1.2074453292940406,
          1.0338385616279409,
          1.0338333428806186,
          1.0333367714611523,
          0.5979740244030362,
          1.207644626361742,
          -1.104780762156109,
          0.8527711134941175,
          -1.3230263834075817,
          1.5670586113225495,
          1.0338012190094075,
          1.8166834404809709,
          0.6361631704312553,
          -1.1048016605798388,
          1.591893951498912,
          -2.2273112084372926,
          1.9491774506274664,
          -2.1790216924854704,
          -2.1800237257910275,
          -2.1599323815800195,
          -2.302982703500861,
          1.5018935029873792,
          -0.9309969972788895,
          1.50185740169011,
          1.85164004189681,
          -1.1047731953328357,
          1.7535014888994545,
          -1.1048061031299579,
          -0.9309796705780352,
          -0.930966681475492,
          1.0113935519950115,
          -2.30260251862936,
          1.7535073835056088,
          -2.276647564334659,
          -1.1511832592994815,
          -1.2570585554044569,
          1.5834497252602227,
          -0.9314780837805967,
          1.8516539057817452,
          -1.3222043330860402,
          1.2076586327012973,
          0.8536895687316978,
          2.6870416576653104,
          -1.110134496160508,
          1.5670399368082624,
          -1.055848916400769,
          -1.104776448359749,
          -1.1048064989342443,
          -1.104809477033262,
          -1.1048091110709974,
          1.0338295928328456,
          1.0338468543190622,
          -2.302622129598374,
          1.6690197560309232,
          1.5511266171963456,
          1.2076478791561616,
          -2.118708881831016,
          0.4905915977430861,
          -0.930953045175362,
          1.0338399146776316,
          -1.6478959782939104,
          0.6698651404044537,
          -2.1097663018345663,
          1.03765080895743,
          0.8163977464186671,
          1.5014757908620506,
          1.8262458792027105,
          -2.2310463212374847,
          1.0338375687537895,
          1.7017366548400452,
          -1.1047864398184417,
          1.5728609423334023,
          1.0338456047406992,
          0.6347419765122827,
          -0.9310768196822682,
          -1.6479044198627237,
          -2.015559010082159,
          -1.6478978608852333,
          1.2075986793135125,
          1.961872834280097,
          1.496283252296416,
          1.7534650244900913,
          -1.84769125749283,
          1.0337782250442489,
          -2.3394155935288428,
          -2.3025846188283365,
          -2.020351746029787,
          1.3217320698481658,
          1.5216684369863445,
          -0.9312114761963314,
          -2.2276409261508636,
          1.009979561706568,
          1.033773799286893,
          -1.1059682654256178,
          1.2076490961170465,
          -1.3190535144188877,
          -0.9309665918987963,
          -1.6478916531410297,
          1.5216208791803236,
          -1.6480365322075183,
          -1.1047866912291449,
          1.0335898775618733,
          1.03384637649955,
          1.0274944826673347,
          -0.9309667734341673,
          -1.3222031644749492,
          -1.2841366413625461,
          1.5919050593513677,
          -0.05695895066001293,
          0.4122169952564248,
          -2.7953645416472335,
          -2.1365415997427872,
          1.0338093578492689,
          -2.3027056383354094,
          -1.1064583168692625,
          -2.230992462542138,
          -1.2889342590068966,
          1.5730240682865273,
          3.1247182775069895,
          3.1837773239701552,
          -1.104785729602759,
          -1.1092176592398362,
          -0.9311411210749097,
          0.8544821132058854,
          3.4353866620111946,
          1.2076471582978885,
          1.4640057079671807,
          0.8536374657598194,
          1.628670400284573,
          -2.0186568600193193,
          -2.3030633506608478,
          -1.1047788865793267,
          -2.2172575688732405,
          1.5018763541242297,
          1.033846319993304,
          1.0338454131843653,
          -2.1097728139878065,
          0.8535280353411911,
          -2.255422027193338,
          1.6127500072338845,
          1.5670325626990054,
          1.0338356146913499,
          2.008634080233525,
          -0.9309981389968696,
          1.7017739518483528,
          1.5670329554157771,
          -2.3025836937489395,
          0.6528205290639656,
          1.0317107782494477,
          -0.6367234493626641,
          -2.1629407706605113,
          1.1004574705850312,
          -2.243985684843681,
          0.8536920340707742,
          -2.2552810662124694,
          -2.302886320514227,
          -2.2233384533479064,
          -2.382470704591931,
          1.032125020085931,
          0.8536722057805788,
          -2.144331497498708,
          1.8907828022928097,
          -2.30289913659144,
          1.0338120315339232,
          1.6685701180833565,
          0.43699267978532436,
          1.5213416590417759,
          0.6362304139130497,
          1.7482259460078213,
          -1.3056281109532435,
          -2.1221810497285682,
          -0.9309669437039858,
          0.8329679541284019,
          1.5216645484769644,
          1.7018277344793977,
          0.8450673759587578,
          0.8500024143477483,
          1.5216443557267259,
          -1.1047803590709975,
          1.0333384489851396,
          -2.228170029380998,
          -2.160449333039038,
          -0.6746831477990559,
          -2.283469977518754,
          1.0274821940949337,
          1.2076441690169335,
          0.8535960921641251,
          1.5669659321930178,
          -1.3225544002171596,
          0.8831613400289163,
          1.027454149890586,
          -0.930968979739816,
          1.0250128221368546,
          1.9565942549053994,
          -1.305667370523163,
          3.262035485246218,
          -2.1121960025828233,
          1.2838575104893943,
          -2.255316347662256,
          -1.322204334137956,
          1.13992738279182,
          1.0333909855428534,
          -2.3060696596803476,
          1.7018128292794614,
          -2.2450723858350337,
          -2.2450266833335935,
          -0.15134887074847062,
          -2.1830833729492416,
          -1.1048187938778482,
          1.0338418885730352,
          -2.109883529211507,
          1.701824862990712,
          -2.1097686341682738,
          1.5216666861712826,
          1.0061725726483064,
          -1.5309214003545255,
          1.0274938840759815,
          1.0338116713814718,
          1.4638487947653034,
          1.8885743452998058,
          1.2074498613082532,
          -1.3222145715401863,
          -0.3851082427292119,
          -1.3222566557318556,
          1.2076519953297917,
          1.9618608872006675,
          1.0212042346217582,
          -1.1548760289841276,
          1.2077421720881165,
          -1.648619087537329,
          1.0337465809757405,
          -2.2485879655394547,
          1.0338268796734933,
          0.6362526401579494,
          1.0338508583039157,
          1.2075529798282827,
          -1.105013612455292,
          1.0288179454019022,
          0.8224572057999638,
          1.2073173006042446,
          -1.3222133558437166,
          1.0338604243360374,
          -1.1201974284307876,
          1.0337814894830222,
          -1.2594052474070943,
          1.2076217944426724,
          1.0338012571236008,
          1.567066752304447,
          -1.104770375121974,
          -1.1048387059137001,
          0.7018363851955876,
          0.8163892479427325,
          1.961989106118281,
          0.8519988789056809,
          1.0337804823148544,
          0.4907031444710883,
          -1.847519105801223,
          1.7535095291131788,
          -2.2391850274614113,
          1.9623788783856753,
          -2.015424439615942,
          1.9624137156952661,
          0.6360929910378643,
          3.3759892136849694,
          1.5670688076841728,
          1.6005944087746269,
          1.5692129346430184,
          0.849724917331524,
          1.0337249305131129,
          -2.302959912592124,
          -2.1097696904817833,
          0.8536916109773985
         ],
         "z": [
          -0.5779045303619605,
          -0.5782807777044586,
          -0.6020950328147349,
          0.20699977884779483,
          0.35417849283258096,
          -0.02833157789603822,
          -0.4824266608512665,
          0.4486556443456822,
          0.35416171220681053,
          0.529296587793994,
          -0.24059756115567316,
          0.3886829639693592,
          -0.3425941076857532,
          -0.08785511743092278,
          -0.028308725647222806,
          -0.5982057495970359,
          0.06717195274475517,
          -0.02831385323381832,
          -0.577911540018191,
          -0.5781082800385025,
          0.3931526388315621,
          -0.0556622236729333,
          0.20694035045196071,
          -0.028364535519957445,
          -0.02831486341872727,
          -0.5779439906301251,
          0.03449553883455613,
          0.14869376282241215,
          -0.028319534931442427,
          -0.5779045796195705,
          -0.028309191120048996,
          -0.5779049347817047,
          -0.028307824375486682,
          0.06717406811676692,
          -0.16300747972616728,
          -0.4008848870565311,
          0.38754922658483404,
          0.19949107838529456,
          -0.03328779932511182,
          -0.02831358100794449,
          -0.028396919325218078,
          -0.028313911364762388,
          -0.15959900789049078,
          -0.2502292223610804,
          -0.028306546830197225,
          0.26344739355490804,
          -0.028690083067092316,
          -0.028331424939792207,
          -0.028323884776592888,
          -0.5779417029446614,
          -0.2282186712875407,
          -0.0638095588166189,
          -0.4824294247461212,
          0.20699876489162913,
          -0.028372850934226392,
          -0.028313001802826553,
          -0.028305830238129753,
          -0.43011575228348103,
          -0.028320605606764557,
          0.3629497774784248,
          -0.3299907151976311,
          -0.028307953497391257,
          -0.3432819543408586,
          -0.3231691246748455,
          -0.5703464638585025,
          -0.030132689615749487,
          0.20700080197491827,
          -0.02843671348150118,
          -0.5703301328376134,
          -0.2860622107982172,
          -0.5780058537030732,
          -0.5779352272000544,
          -0.5873046139917258,
          -0.0283072300792155,
          -0.02833095503396028,
          -0.02831723420401096,
          -0.22769671062053706,
          -0.4824221980817152,
          0.20676312583579462,
          0.09894620011392286,
          0.20698971394153792,
          -0.30933161807897686,
          -0.4824233691761914,
          0.2069966768763071,
          0.20700059346772198,
          0.20700694106947723,
          0.06717656563457058,
          -0.5783708981061827,
          -0.5779277625245972,
          -0.028314441883644268,
          -0.44325178275557714,
          0.20388485896439112,
          -0.028362641159864782,
          -0.48242481825800176,
          0.09894699477799397,
          0.20699124924577877,
          -0.5703358844812227,
          -0.5780232254331937,
          0.3573544003149696,
          0.42659048699862134,
          0.3401786990091487,
          -0.038038241363073357,
          -0.028334735619846122,
          -0.3426095159659329,
          -0.4009005721154883,
          -0.028558146954477837,
          -0.32317150059033756,
          -0.02836132884337827,
          -0.5703267763330502,
          -0.028305625508073595,
          -0.32325440528673677,
          -0.028365604469837623,
          -0.5779050010110747,
          -0.5703282609540867,
          -0.028630750073174484,
          0.4405162032931573,
          -0.22768273845558487,
          0.39381558514158077,
          0.20599765630784772,
          -0.028308871553546746,
          -0.5779096762538397,
          -0.030496110879738178,
          0.5212825388350341,
          -0.028305622721307613,
          0.20700153106612332,
          -0.03485965203900256,
          -0.4824226830046826,
          -0.02659245036556666,
          0.06716426988204209,
          0.3448669789220111,
          0.20699846463115348,
          -0.5897375877538203,
          0.06717036991812338,
          -0.24503280985754453,
          -0.028330799939591252,
          -0.02834743630782951,
          -0.3232019731783625,
          0.3542084521817921,
          -0.5703362236620384,
          0.3636950134335639,
          -0.3426771760636534,
          -0.5981788368298278,
          0.06717072489011204,
          0.2069987943505763,
          -0.3729311719884431,
          -0.028387677562792587,
          0.31382680642461835,
          -0.34259487110266257,
          -0.4878396539447811,
          -0.028333757319044136,
          -0.3425945197561779,
          0.19849537173258636,
          -0.5581374149142047,
          -0.5779104079617394,
          -0.3231915110514139,
          0.06715650375313627,
          0.46148468813260224,
          -0.028317577681071272,
          0.41039908385799373,
          -0.48245289158451393,
          -0.3420706062589163,
          -0.34259638028037365,
          -0.14817332983388112,
          -0.15960502455166684,
          -0.028308911727603515,
          0.06717079351248811,
          -0.48247068602435816,
          -0.3426083777634752,
          -0.3426348719856178,
          -0.5549418001926943,
          -0.4824399202035375,
          -0.028305621533870676,
          -0.20062851653968547,
          -0.57830773326928,
          -0.5779091401041315,
          -0.5779437196839863,
          -0.31559937803356214,
          0.067174729884651,
          -0.22793792508127916,
          0.9961665369572605,
          -0.4824307503029366,
          -0.5779247831925725,
          0.4295142925078062,
          -0.3425938140935687,
          0.20700432759532267,
          -0.4824226222305567,
          -0.5779068543357152,
          0.3934303220854094,
          -0.577905152374023,
          -0.028357094917890333,
          -0.32321716590820115,
          0.20700334532886533,
          -0.3612262092837205,
          -0.02831108259471031,
          -0.6489367775116812,
          -0.15962619763464994,
          -0.5779152795354489,
          -0.4826139298760377,
          0.4815448703284254,
          -0.15964772263357094,
          -0.3155845062015072,
          -0.5983998403573325,
          -0.1596243440489097,
          -0.6421160309971259,
          0.35420275217396474,
          0.5292971551890123,
          -0.16568623827970913,
          -0.48243021653889745,
          -0.02908074101581445,
          0.0668771149482208,
          -0.5999476049573629,
          -0.48242370772633986,
          -0.15961678135321214,
          -0.5779127558113795,
          -0.5779083079612095,
          0.0671410329087752,
          -0.15960502455166684,
          -0.48242841832905925,
          -0.34259753331448506,
          -0.5779133726029175,
          -0.17719291311951144,
          -0.5779100781667635,
          -0.577954384236116,
          -0.4824228150675318,
          0.4295157034800611,
          -0.5779174755403064,
          -0.3363214432266409,
          -0.5779065701062195,
          -0.5779058297812775,
          -0.260265482079625,
          -0.34361476198337465,
          -0.028305859993415845,
          0.42951273179142296,
          0.3448747584785171,
          -0.5779478357707094,
          -0.3425944331594204,
          -0.4824246786271994,
          -0.5779097458371615,
          0.059880590551920965,
          -0.5779061917332876,
          0.448644462860864,
          -0.32316763927866043,
          -0.395709279007531,
          -0.028306618236835494,
          -0.31558921861266187,
          0.06709596780785801,
          0.5292970207105202,
          -0.5782964237303376,
          -0.028344519079086236,
          0.3448686296813312,
          -0.3231767960469241,
          0.24615714626106663,
          -0.4824335424677239,
          -0.6189954803952344,
          -0.482465508040274,
          -0.02861089957568513,
          -0.15964067982647606,
          -0.4824362226575423,
          -0.005316163112031889,
          -0.15975439981241477,
          -0.482496830745559,
          -0.5779077630920709,
          -0.5779069360723568,
          -0.5779759324517548,
          -0.09322575427347764,
          -0.48243055333547213,
          -0.02831441205223752,
          -0.32339990306157845,
          0.20640638100143657,
          -0.15960297623161607,
          -0.5779188594543946,
          -0.6176217649550672,
          -0.08786795147571687,
          -0.028314893759879646,
          -0.20065294539446238,
          0.44863154302332525,
          -0.8781433289717547,
          0.3290462817723384,
          0.3742410667164217,
          0.3609875907034688,
          0.42879482109782957,
          -0.5549106799049809,
          0.06715856121370385,
          -0.5549373614178313,
          -0.5516327750304051,
          -0.0283125677036001,
          -0.5703342298263099,
          -0.028312380140856082,
          0.06716432772771355,
          0.06717476525820444,
          -0.5843668909864967,
          0.4295091251402168,
          -0.5703336469926082,
          0.42914752997485817,
          -0.09483761465846349,
          0.18924618721803582,
          -0.2649715372146983,
          0.06705931479201636,
          -0.5516457702192156,
          0.2069997569105289,
          -0.4824269053021778,
          -0.3231700082827962,
          5.785123521426931,
          -0.02905357423134816,
          -0.15960285778157027,
          -0.07416069804239674,
          -0.02830991640422269,
          -0.028316960834284095,
          -0.02832297235671538,
          -0.028323315388178543,
          -0.5779142333041338,
          -0.5779061762977191,
          0.4295083118399326,
          -0.2394764882847781,
          -0.27130264007600935,
          -0.4824264498620051,
          0.5261332809572491,
          -0.28614796952908994,
          0.06618204254901065,
          -0.5779060169946394,
          0.2635349815203388,
          -0.09095955711854481,
          0.5292934392181439,
          -0.5952241824467722,
          -0.342628767505665,
          -0.5551738655592373,
          -0.5633962446645712,
          0.4614666202072554,
          -0.5779067157237985,
          -0.5150268834818794,
          -0.028344566084423546,
          -0.21683688955721558,
          -0.5779108305649177,
          -0.09137742104559773,
          0.06709583489099957,
          0.2635329907554377,
          0.3541889839032742,
          0.2635341052454224,
          -0.48244470489016994,
          -0.16577063547822024,
          -0.566152116417705,
          -0.5703990841785085,
          0.3936349765721864,
          -0.5779550760652162,
          0.41727921489127723,
          0.42951517974673886,
          0.3533335793618786,
          -0.30017310569619077,
          -0.26026790264104366,
          0.06711201626057879,
          0.44844846748183653,
          -0.5830414998093184,
          -0.5779179163074326,
          -0.02993271634471059,
          -0.4824402449063194,
          0.16061273635923534,
          0.06717418612458344,
          0.26353422850824987,
          -0.2602783436120602,
          0.2634064892877519,
          -0.028324523638669125,
          -0.5781581603402822,
          -0.5779056183801518,
          -0.22768336039725692,
          0.06717259568174995,
          0.20699912038061194,
          0.18124855175117485,
          -0.20062209309879406,
          0.05935498396701391,
          -0.4784678385094579,
          0.34123635933332636,
          0.3764265809969012,
          -0.5779963622704742,
          0.4294506303023118,
          -0.03222431380032505,
          0.4614471155600673,
          0.20362245206016624,
          -0.3157143655635993,
          13.586009756577154,
          15.966630447426597,
          -0.02831222048512955,
          -0.03426329299174217,
          0.06707357894344605,
          -0.3683501246275843,
          14.356010123131298,
          -0.48242467379481513,
          -0.5247386370307943,
          -0.32317981688639064,
          -0.16947521706248742,
          0.353670553048101,
          0.4294206035539011,
          -0.028308181149422688,
          0.5377715402834354,
          -0.5549166131135754,
          -0.5779050152259656,
          -0.5779052656138216,
          0.5292725840874024,
          -0.32328411415886205,
          0.4815186823741977,
          -0.15179954298373774,
          -0.15961047072332232,
          -0.5779098357978542,
          -0.12986314383856257,
          0.06715963139286266,
          -0.5150618434997446,
          -0.1596064373243998,
          0.429511066519315,
          -0.036686824590428276,
          -0.5787196726344234,
          -0.005317731530388632,
          0.3448725656692433,
          -0.28734972751990845,
          0.47289139285974724,
          -0.32317704752672693,
          0.4815458334450833,
          0.42947474106511074,
          0.40477611123977725,
          0.40316787150268674,
          -0.5819018428708177,
          -0.32316836504996516,
          0.277049660132912,
          -0.6412520750627614,
          0.42926667896153237,
          -0.5779174405179803,
          -0.34344700064963213,
          -0.5792838467749429,
          -0.26030821904422247,
          -0.08787606063350929,
          -0.1764140363368455,
          0.25817101897930045,
          0.24490037005452087,
          0.06717385565976572,
          -0.29144167335245164,
          -0.26026480797004137,
          -0.5150050524781411,
          -0.32436567921683684,
          -0.3456999135017399,
          -0.26028934537209664,
          -0.02830740902555579,
          -0.5779775048638929,
          0.44853149098813855,
          0.3628806264515367,
          0.02484523315933888,
          0.3597291032975218,
          -0.22769054822464552,
          -0.48243562653300176,
          -0.3232158613599384,
          -0.15961513821757528,
          0.20618404719445754,
          -0.3593057438348061,
          -0.22768901972521005,
          0.06717356336553801,
          -0.5795267583700655,
          -0.2940717823032777,
          0.2581649455283386,
          16.780995360454973,
          0.5274010184302902,
          -0.26999822005840285,
          0.48153846533796624,
          0.20699975789653272,
          -0.38156393814943923,
          -0.23319884078227288,
          0.4283432054745864,
          -0.5150179573829963,
          0.47803490306822694,
          0.47803601946150226,
          0.23443124590999798,
          0.38879944942758093,
          -0.02832524306680343,
          -0.5779107648678145,
          0.5292702856597691,
          -0.5150100002814613,
          0.5292901862462213,
          -0.2602626137800158,
          -0.5931177288909654,
          0.20598842849321317,
          -0.2276820840678661,
          -0.5779171029322946,
          -0.5248336388080321,
          -0.6418779215566557,
          -0.4824570637038002,
          0.2069856957260475,
          -0.02072664739545538,
          0.20696792335722797,
          -0.48243195868630273,
          -0.1660345312701545,
          -0.5853100183811665,
          -0.035312015644997696,
          -0.48249997940908873,
          0.2620268823654333,
          -0.5779199128944151,
          0.4775367162273422,
          -0.5779149935460192,
          -0.08785328504733435,
          -0.577907618605233,
          -0.4825977360130632,
          -0.02862679754514041,
          -0.5789670424991158,
          -0.3483580646472116,
          -0.4826519184760304,
          0.2069966603521405,
          -0.5779248380684725,
          -0.04135362261497097,
          -0.5780626717842456,
          0.14868465139166825,
          -0.48250158371805585,
          -0.5779491555512172,
          -0.15959905314857165,
          -0.028307356271041393,
          -0.02834069038845623,
          -0.27377491167395035,
          -0.34262355247789733,
          -0.16569251284210004,
          -0.3270824256108929,
          -0.5780067088681102,
          -0.2860655552599533,
          0.39383519564240194,
          -0.5703253266147004,
          0.47328457763724846,
          -0.16596987712398878,
          0.35420342528805215,
          -0.16600253156521594,
          -0.08824227397012605,
          5.673330277910133,
          -0.15960077844842696,
          -0.9018199796329911,
          0.014398267001811068,
          -0.07786989131740431,
          -0.57792712845452,
          0.4291034489017103,
          0.5292966155363703,
          -0.3231628962299168
         ]
        }
       ],
       "layout": {
        "coloraxis": {
         "colorbar": {
          "title": {
           "text": "Class"
          }
         },
         "colorscale": [
          [
           0,
           "#0d0887"
          ],
          [
           0.1111111111111111,
           "#46039f"
          ],
          [
           0.2222222222222222,
           "#7201a8"
          ],
          [
           0.3333333333333333,
           "#9c179e"
          ],
          [
           0.4444444444444444,
           "#bd3786"
          ],
          [
           0.5555555555555556,
           "#d8576b"
          ],
          [
           0.6666666666666666,
           "#ed7953"
          ],
          [
           0.7777777777777778,
           "#fb9f3a"
          ],
          [
           0.8888888888888888,
           "#fdca26"
          ],
          [
           1,
           "#f0f921"
          ]
         ]
        },
        "legend": {
         "tracegroupgap": 0
        },
        "margin": {
         "t": 60
        },
        "scene": {
         "domain": {
          "x": [
           0,
           1
          ],
          "y": [
           0,
           1
          ]
         },
         "xaxis": {
          "title": {
           "text": "PC 1"
          }
         },
         "yaxis": {
          "title": {
           "text": "PC 2"
          }
         },
         "zaxis": {
          "title": {
           "text": "PC 3"
          }
         }
        },
        "template": {
         "data": {
          "bar": [
           {
            "error_x": {
             "color": "#2a3f5f"
            },
            "error_y": {
             "color": "#2a3f5f"
            },
            "marker": {
             "line": {
              "color": "#E5ECF6",
              "width": 0.5
             }
            },
            "type": "bar"
           }
          ],
          "barpolar": [
           {
            "marker": {
             "line": {
              "color": "#E5ECF6",
              "width": 0.5
             }
            },
            "type": "barpolar"
           }
          ],
          "carpet": [
           {
            "aaxis": {
             "endlinecolor": "#2a3f5f",
             "gridcolor": "white",
             "linecolor": "white",
             "minorgridcolor": "white",
             "startlinecolor": "#2a3f5f"
            },
            "baxis": {
             "endlinecolor": "#2a3f5f",
             "gridcolor": "white",
             "linecolor": "white",
             "minorgridcolor": "white",
             "startlinecolor": "#2a3f5f"
            },
            "type": "carpet"
           }
          ],
          "choropleth": [
           {
            "colorbar": {
             "outlinewidth": 0,
             "ticks": ""
            },
            "type": "choropleth"
           }
          ],
          "contour": [
           {
            "colorbar": {
             "outlinewidth": 0,
             "ticks": ""
            },
            "colorscale": [
             [
              0,
              "#0d0887"
             ],
             [
              0.1111111111111111,
              "#46039f"
             ],
             [
              0.2222222222222222,
              "#7201a8"
             ],
             [
              0.3333333333333333,
              "#9c179e"
             ],
             [
              0.4444444444444444,
              "#bd3786"
             ],
             [
              0.5555555555555556,
              "#d8576b"
             ],
             [
              0.6666666666666666,
              "#ed7953"
             ],
             [
              0.7777777777777778,
              "#fb9f3a"
             ],
             [
              0.8888888888888888,
              "#fdca26"
             ],
             [
              1,
              "#f0f921"
             ]
            ],
            "type": "contour"
           }
          ],
          "contourcarpet": [
           {
            "colorbar": {
             "outlinewidth": 0,
             "ticks": ""
            },
            "type": "contourcarpet"
           }
          ],
          "heatmap": [
           {
            "colorbar": {
             "outlinewidth": 0,
             "ticks": ""
            },
            "colorscale": [
             [
              0,
              "#0d0887"
             ],
             [
              0.1111111111111111,
              "#46039f"
             ],
             [
              0.2222222222222222,
              "#7201a8"
             ],
             [
              0.3333333333333333,
              "#9c179e"
             ],
             [
              0.4444444444444444,
              "#bd3786"
             ],
             [
              0.5555555555555556,
              "#d8576b"
             ],
             [
              0.6666666666666666,
              "#ed7953"
             ],
             [
              0.7777777777777778,
              "#fb9f3a"
             ],
             [
              0.8888888888888888,
              "#fdca26"
             ],
             [
              1,
              "#f0f921"
             ]
            ],
            "type": "heatmap"
           }
          ],
          "heatmapgl": [
           {
            "colorbar": {
             "outlinewidth": 0,
             "ticks": ""
            },
            "colorscale": [
             [
              0,
              "#0d0887"
             ],
             [
              0.1111111111111111,
              "#46039f"
             ],
             [
              0.2222222222222222,
              "#7201a8"
             ],
             [
              0.3333333333333333,
              "#9c179e"
             ],
             [
              0.4444444444444444,
              "#bd3786"
             ],
             [
              0.5555555555555556,
              "#d8576b"
             ],
             [
              0.6666666666666666,
              "#ed7953"
             ],
             [
              0.7777777777777778,
              "#fb9f3a"
             ],
             [
              0.8888888888888888,
              "#fdca26"
             ],
             [
              1,
              "#f0f921"
             ]
            ],
            "type": "heatmapgl"
           }
          ],
          "histogram": [
           {
            "marker": {
             "colorbar": {
              "outlinewidth": 0,
              "ticks": ""
             }
            },
            "type": "histogram"
           }
          ],
          "histogram2d": [
           {
            "colorbar": {
             "outlinewidth": 0,
             "ticks": ""
            },
            "colorscale": [
             [
              0,
              "#0d0887"
             ],
             [
              0.1111111111111111,
              "#46039f"
             ],
             [
              0.2222222222222222,
              "#7201a8"
             ],
             [
              0.3333333333333333,
              "#9c179e"
             ],
             [
              0.4444444444444444,
              "#bd3786"
             ],
             [
              0.5555555555555556,
              "#d8576b"
             ],
             [
              0.6666666666666666,
              "#ed7953"
             ],
             [
              0.7777777777777778,
              "#fb9f3a"
             ],
             [
              0.8888888888888888,
              "#fdca26"
             ],
             [
              1,
              "#f0f921"
             ]
            ],
            "type": "histogram2d"
           }
          ],
          "histogram2dcontour": [
           {
            "colorbar": {
             "outlinewidth": 0,
             "ticks": ""
            },
            "colorscale": [
             [
              0,
              "#0d0887"
             ],
             [
              0.1111111111111111,
              "#46039f"
             ],
             [
              0.2222222222222222,
              "#7201a8"
             ],
             [
              0.3333333333333333,
              "#9c179e"
             ],
             [
              0.4444444444444444,
              "#bd3786"
             ],
             [
              0.5555555555555556,
              "#d8576b"
             ],
             [
              0.6666666666666666,
              "#ed7953"
             ],
             [
              0.7777777777777778,
              "#fb9f3a"
             ],
             [
              0.8888888888888888,
              "#fdca26"
             ],
             [
              1,
              "#f0f921"
             ]
            ],
            "type": "histogram2dcontour"
           }
          ],
          "mesh3d": [
           {
            "colorbar": {
             "outlinewidth": 0,
             "ticks": ""
            },
            "type": "mesh3d"
           }
          ],
          "parcoords": [
           {
            "line": {
             "colorbar": {
              "outlinewidth": 0,
              "ticks": ""
             }
            },
            "type": "parcoords"
           }
          ],
          "pie": [
           {
            "automargin": true,
            "type": "pie"
           }
          ],
          "scatter": [
           {
            "marker": {
             "colorbar": {
              "outlinewidth": 0,
              "ticks": ""
             }
            },
            "type": "scatter"
           }
          ],
          "scatter3d": [
           {
            "line": {
             "colorbar": {
              "outlinewidth": 0,
              "ticks": ""
             }
            },
            "marker": {
             "colorbar": {
              "outlinewidth": 0,
              "ticks": ""
             }
            },
            "type": "scatter3d"
           }
          ],
          "scattercarpet": [
           {
            "marker": {
             "colorbar": {
              "outlinewidth": 0,
              "ticks": ""
             }
            },
            "type": "scattercarpet"
           }
          ],
          "scattergeo": [
           {
            "marker": {
             "colorbar": {
              "outlinewidth": 0,
              "ticks": ""
             }
            },
            "type": "scattergeo"
           }
          ],
          "scattergl": [
           {
            "marker": {
             "colorbar": {
              "outlinewidth": 0,
              "ticks": ""
             }
            },
            "type": "scattergl"
           }
          ],
          "scattermapbox": [
           {
            "marker": {
             "colorbar": {
              "outlinewidth": 0,
              "ticks": ""
             }
            },
            "type": "scattermapbox"
           }
          ],
          "scatterpolar": [
           {
            "marker": {
             "colorbar": {
              "outlinewidth": 0,
              "ticks": ""
             }
            },
            "type": "scatterpolar"
           }
          ],
          "scatterpolargl": [
           {
            "marker": {
             "colorbar": {
              "outlinewidth": 0,
              "ticks": ""
             }
            },
            "type": "scatterpolargl"
           }
          ],
          "scatterternary": [
           {
            "marker": {
             "colorbar": {
              "outlinewidth": 0,
              "ticks": ""
             }
            },
            "type": "scatterternary"
           }
          ],
          "surface": [
           {
            "colorbar": {
             "outlinewidth": 0,
             "ticks": ""
            },
            "colorscale": [
             [
              0,
              "#0d0887"
             ],
             [
              0.1111111111111111,
              "#46039f"
             ],
             [
              0.2222222222222222,
              "#7201a8"
             ],
             [
              0.3333333333333333,
              "#9c179e"
             ],
             [
              0.4444444444444444,
              "#bd3786"
             ],
             [
              0.5555555555555556,
              "#d8576b"
             ],
             [
              0.6666666666666666,
              "#ed7953"
             ],
             [
              0.7777777777777778,
              "#fb9f3a"
             ],
             [
              0.8888888888888888,
              "#fdca26"
             ],
             [
              1,
              "#f0f921"
             ]
            ],
            "type": "surface"
           }
          ],
          "table": [
           {
            "cells": {
             "fill": {
              "color": "#EBF0F8"
             },
             "line": {
              "color": "white"
             }
            },
            "header": {
             "fill": {
              "color": "#C8D4E3"
             },
             "line": {
              "color": "white"
             }
            },
            "type": "table"
           }
          ]
         },
         "layout": {
          "annotationdefaults": {
           "arrowcolor": "#2a3f5f",
           "arrowhead": 0,
           "arrowwidth": 1
          },
          "autotypenumbers": "strict",
          "coloraxis": {
           "colorbar": {
            "outlinewidth": 0,
            "ticks": ""
           }
          },
          "colorscale": {
           "diverging": [
            [
             0,
             "#8e0152"
            ],
            [
             0.1,
             "#c51b7d"
            ],
            [
             0.2,
             "#de77ae"
            ],
            [
             0.3,
             "#f1b6da"
            ],
            [
             0.4,
             "#fde0ef"
            ],
            [
             0.5,
             "#f7f7f7"
            ],
            [
             0.6,
             "#e6f5d0"
            ],
            [
             0.7,
             "#b8e186"
            ],
            [
             0.8,
             "#7fbc41"
            ],
            [
             0.9,
             "#4d9221"
            ],
            [
             1,
             "#276419"
            ]
           ],
           "sequential": [
            [
             0,
             "#0d0887"
            ],
            [
             0.1111111111111111,
             "#46039f"
            ],
            [
             0.2222222222222222,
             "#7201a8"
            ],
            [
             0.3333333333333333,
             "#9c179e"
            ],
            [
             0.4444444444444444,
             "#bd3786"
            ],
            [
             0.5555555555555556,
             "#d8576b"
            ],
            [
             0.6666666666666666,
             "#ed7953"
            ],
            [
             0.7777777777777778,
             "#fb9f3a"
            ],
            [
             0.8888888888888888,
             "#fdca26"
            ],
            [
             1,
             "#f0f921"
            ]
           ],
           "sequentialminus": [
            [
             0,
             "#0d0887"
            ],
            [
             0.1111111111111111,
             "#46039f"
            ],
            [
             0.2222222222222222,
             "#7201a8"
            ],
            [
             0.3333333333333333,
             "#9c179e"
            ],
            [
             0.4444444444444444,
             "#bd3786"
            ],
            [
             0.5555555555555556,
             "#d8576b"
            ],
            [
             0.6666666666666666,
             "#ed7953"
            ],
            [
             0.7777777777777778,
             "#fb9f3a"
            ],
            [
             0.8888888888888888,
             "#fdca26"
            ],
            [
             1,
             "#f0f921"
            ]
           ]
          },
          "colorway": [
           "#636efa",
           "#EF553B",
           "#00cc96",
           "#ab63fa",
           "#FFA15A",
           "#19d3f3",
           "#FF6692",
           "#B6E880",
           "#FF97FF",
           "#FECB52"
          ],
          "font": {
           "color": "#2a3f5f"
          },
          "geo": {
           "bgcolor": "white",
           "lakecolor": "white",
           "landcolor": "#E5ECF6",
           "showlakes": true,
           "showland": true,
           "subunitcolor": "white"
          },
          "hoverlabel": {
           "align": "left"
          },
          "hovermode": "closest",
          "mapbox": {
           "style": "light"
          },
          "paper_bgcolor": "white",
          "plot_bgcolor": "#E5ECF6",
          "polar": {
           "angularaxis": {
            "gridcolor": "white",
            "linecolor": "white",
            "ticks": ""
           },
           "bgcolor": "#E5ECF6",
           "radialaxis": {
            "gridcolor": "white",
            "linecolor": "white",
            "ticks": ""
           }
          },
          "scene": {
           "xaxis": {
            "backgroundcolor": "#E5ECF6",
            "gridcolor": "white",
            "gridwidth": 2,
            "linecolor": "white",
            "showbackground": true,
            "ticks": "",
            "zerolinecolor": "white"
           },
           "yaxis": {
            "backgroundcolor": "#E5ECF6",
            "gridcolor": "white",
            "gridwidth": 2,
            "linecolor": "white",
            "showbackground": true,
            "ticks": "",
            "zerolinecolor": "white"
           },
           "zaxis": {
            "backgroundcolor": "#E5ECF6",
            "gridcolor": "white",
            "gridwidth": 2,
            "linecolor": "white",
            "showbackground": true,
            "ticks": "",
            "zerolinecolor": "white"
           }
          },
          "shapedefaults": {
           "line": {
            "color": "#2a3f5f"
           }
          },
          "ternary": {
           "aaxis": {
            "gridcolor": "white",
            "linecolor": "white",
            "ticks": ""
           },
           "baxis": {
            "gridcolor": "white",
            "linecolor": "white",
            "ticks": ""
           },
           "bgcolor": "#E5ECF6",
           "caxis": {
            "gridcolor": "white",
            "linecolor": "white",
            "ticks": ""
           }
          },
          "title": {
           "x": 0.05
          },
          "xaxis": {
           "automargin": true,
           "gridcolor": "white",
           "linecolor": "white",
           "ticks": "",
           "title": {
            "standoff": 15
           },
           "zerolinecolor": "white",
           "zerolinewidth": 2
          },
          "yaxis": {
           "automargin": true,
           "gridcolor": "white",
           "linecolor": "white",
           "ticks": "",
           "title": {
            "standoff": 15
           },
           "zerolinecolor": "white",
           "zerolinewidth": 2
          }
         }
        }
       }
      },
      "text/html": [
       "<div>                            <div id=\"447902f5-21d3-4846-9cc8-7c32a3025008\" class=\"plotly-graph-div\" style=\"height:525px; width:100%;\"></div>            <script type=\"text/javascript\">                require([\"plotly\"], function(Plotly) {                    window.PLOTLYENV=window.PLOTLYENV || {};                                    if (document.getElementById(\"447902f5-21d3-4846-9cc8-7c32a3025008\")) {                    Plotly.newPlot(                        \"447902f5-21d3-4846-9cc8-7c32a3025008\",                        [{\"customdata\": [[\"Scrypt\"], [\"Scrypt\"], [\"X13\"], [\"SHA-256\"], [\"Ethash\"], [\"Scrypt\"], [\"X11\"], [\"CryptoNight-V7\"], [\"Ethash\"], [\"Equihash\"], [\"SHA-512\"], [\"Multiple\"], [\"SHA-256\"], [\"SHA-256\"], [\"Scrypt\"], [\"X15\"], [\"X11\"], [\"Scrypt\"], [\"Scrypt\"], [\"Scrypt\"], [\"Multiple\"], [\"Scrypt\"], [\"SHA-256\"], [\"Scrypt\"], [\"Scrypt\"], [\"Scrypt\"], [\"Quark\"], [\"Groestl\"], [\"Scrypt\"], [\"Scrypt\"], [\"Scrypt\"], [\"Scrypt\"], [\"Scrypt\"], [\"X11\"], [\"Scrypt\"], [\"Groestl\"], [\"Multiple\"], [\"SHA-256\"], [\"Scrypt\"], [\"Scrypt\"], [\"Scrypt\"], [\"Scrypt\"], [\"PoS\"], [\"Scrypt\"], [\"Scrypt\"], [\"NeoScrypt\"], [\"Scrypt\"], [\"Scrypt\"], [\"Scrypt\"], [\"Scrypt\"], [\"X11\"], [\"Scrypt\"], [\"X11\"], [\"SHA-256\"], [\"Scrypt\"], [\"Scrypt\"], [\"Scrypt\"], [\"SHA3\"], [\"Scrypt\"], [\"HybridScryptHash256\"], [\"Scrypt\"], [\"Scrypt\"], [\"SHA-256\"], [\"Scrypt\"], [\"X13\"], [\"Scrypt\"], [\"SHA-256\"], [\"Scrypt\"], [\"X13\"], [\"NeoScrypt\"], [\"Scrypt\"], [\"Scrypt\"], [\"Scrypt\"], [\"Scrypt\"], [\"Scrypt\"], [\"Scrypt\"], [\"X11\"], [\"X11\"], [\"SHA-256\"], [\"Multiple\"], [\"SHA-256\"], [\"PHI1612\"], [\"X11\"], [\"SHA-256\"], [\"SHA-256\"], [\"SHA-256\"], [\"X11\"], [\"Scrypt\"], [\"Scrypt\"], [\"Scrypt\"], [\"Scrypt\"], [\"Lyra2REv2\"], [\"Scrypt\"], [\"X11\"], [\"Multiple\"], [\"SHA-256\"], [\"X13\"], [\"Scrypt\"], [\"CryptoNight\"], [\"CryptoNight\"], [\"Shabal256\"], [\"Counterparty\"], [\"Scrypt\"], [\"SHA-256\"], [\"Groestl\"], [\"Scrypt\"], [\"Scrypt\"], [\"Scrypt\"], [\"X13\"], [\"Scrypt\"], [\"Scrypt\"], [\"Scrypt\"], [\"Scrypt\"], [\"X13\"], [\"Scrypt\"], [\"Stanford Folding\"], [\"X11\"], [\"Multiple\"], [\"QuBit\"], [\"Scrypt\"], [\"Scrypt\"], [\"Scrypt\"], [\"M7 POW\"], [\"Scrypt\"], [\"SHA-256\"], [\"Scrypt\"], [\"X11\"], [\"SHA3\"], [\"X11\"], [\"Lyra2RE\"], [\"SHA-256\"], [\"QUAIT\"], [\"X11\"], [\"X11\"], [\"Scrypt\"], [\"Scrypt\"], [\"Scrypt\"], [\"Ethash\"], [\"X13\"], [\"Blake2b\"], [\"SHA-256\"], [\"X15\"], [\"X11\"], [\"SHA-256\"], [\"BLAKE256\"], [\"Scrypt\"], [\"1GB AES Pattern Search\"], [\"SHA-256\"], [\"X11\"], [\"Scrypt\"], [\"SHA-256\"], [\"SHA-256\"], [\"NIST5\"], [\"Scrypt\"], [\"Scrypt\"], [\"X11\"], [\"Dagger\"], [\"Scrypt\"], [\"X11GOST\"], [\"X11\"], [\"Scrypt\"], [\"SHA-256\"], [\"Scrypt\"], [\"PoS\"], [\"Scrypt\"], [\"X11\"], [\"X11\"], [\"SHA-256\"], [\"SHA-256\"], [\"NIST5\"], [\"X11\"], [\"Scrypt\"], [\"POS 3.0\"], [\"Scrypt\"], [\"Scrypt\"], [\"Scrypt\"], [\"X13\"], [\"X11\"], [\"X11\"], [\"Equihash\"], [\"X11\"], [\"Scrypt\"], [\"CryptoNight\"], [\"SHA-256\"], [\"SHA-256\"], [\"X11\"], [\"Scrypt\"], [\"Multiple\"], [\"Scrypt\"], [\"Scrypt\"], [\"Scrypt\"], [\"SHA-256\"], [\"Scrypt\"], [\"Scrypt\"], [\"SHA-256D\"], [\"PoS\"], [\"Scrypt\"], [\"X11\"], [\"Lyra2Z\"], [\"PoS\"], [\"X13\"], [\"X14\"], [\"PoS\"], [\"SHA-256D\"], [\"Ethash\"], [\"Equihash\"], [\"DPoS\"], [\"X11\"], [\"Scrypt\"], [\"X11\"], [\"X13\"], [\"X11\"], [\"PoS\"], [\"Scrypt\"], [\"Scrypt\"], [\"X11\"], [\"PoS\"], [\"X11\"], [\"SHA-256\"], [\"Scrypt\"], [\"X11\"], [\"Scrypt\"], [\"Scrypt\"], [\"X11\"], [\"CryptoNight\"], [\"Scrypt\"], [\"Scrypt\"], [\"Scrypt\"], [\"Scrypt\"], [\"Quark\"], [\"QuBit\"], [\"Scrypt\"], [\"CryptoNight\"], [\"Lyra2RE\"], [\"Scrypt\"], [\"SHA-256\"], [\"X11\"], [\"Scrypt\"], [\"X11\"], [\"Scrypt\"], [\"CryptoNight-V7\"], [\"Scrypt\"], [\"Scrypt\"], [\"Scrypt\"], [\"X13\"], [\"X11\"], [\"Equihash\"], [\"Scrypt\"], [\"Scrypt\"], [\"Lyra2RE\"], [\"Scrypt\"], [\"Dagger-Hashimoto\"], [\"X11\"], [\"Blake2S\"], [\"X11\"], [\"Scrypt\"], [\"PoS\"], [\"X11\"], [\"NIST5\"], [\"PoS\"], [\"X11\"], [\"Scrypt\"], [\"Scrypt\"], [\"Scrypt\"], [\"SHA-256\"], [\"X11\"], [\"Scrypt\"], [\"Scrypt\"], [\"SHA-256\"], [\"PoS\"], [\"Scrypt\"], [\"X15\"], [\"SHA-256\"], [\"Scrypt\"], [\"POS 3.0\"], [\"CryptoNight-V7\"], [\"536\"], [\"Argon2d\"], [\"Blake2b\"], [\"Cloverhash\"], [\"CryptoNight\"], [\"NIST5\"], [\"X11\"], [\"NIST5\"], [\"Skein\"], [\"Scrypt\"], [\"X13\"], [\"Scrypt\"], [\"X11\"], [\"X11\"], [\"Scrypt\"], [\"CryptoNight\"], [\"X13\"], [\"Time Travel\"], [\"Scrypt\"], [\"Keccak\"], [\"SkunkHash v2 Raptor\"], [\"X11\"], [\"Skein\"], [\"SHA-256\"], [\"X11\"], [\"Scrypt\"], [\"VeChainThor Authority\"], [\"Scrypt\"], [\"PoS\"], [\"Scrypt\"], [\"Scrypt\"], [\"Scrypt\"], [\"Scrypt\"], [\"Scrypt\"], [\"Scrypt\"], [\"Scrypt\"], [\"CryptoNight\"], [\"SHA-512\"], [\"Ouroboros\"], [\"X11\"], [\"Equihash\"], [\"NeoScrypt\"], [\"X11\"], [\"Scrypt\"], [\"NeoScrypt\"], [\"Lyra2REv2\"], [\"Equihash\"], [\"Scrypt\"], [\"SHA-256\"], [\"NIST5\"], [\"PHI1612\"], [\"Dagger\"], [\"Scrypt\"], [\"Quark\"], [\"Scrypt\"], [\"POS 2.0\"], [\"Scrypt\"], [\"SHA-256\"], [\"X11\"], [\"NeoScrypt\"], [\"Ethash\"], [\"NeoScrypt\"], [\"X11\"], [\"DPoS\"], [\"NIST5\"], [\"X13\"], [\"Multiple\"], [\"Scrypt\"], [\"CryptoNight\"], [\"CryptoNight\"], [\"Ethash\"], [\"NIST5\"], [\"Quark\"], [\"X11\"], [\"CryptoNight-V7\"], [\"Scrypt\"], [\"Scrypt\"], [\"Scrypt\"], [\"X11\"], [\"BLAKE256\"], [\"X11\"], [\"NeoScrypt\"], [\"Quark\"], [\"NeoScrypt\"], [\"Scrypt\"], [\"Scrypt\"], [\"Scrypt\"], [\"X11\"], [\"X11\"], [\"SHA-256\"], [\"C11\"], [\"POS 3.0\"], [\"Ethash\"], [\"Scrypt\"], [\"CryptoNight\"], [\"SkunkHash\"], [\"Scrypt\"], [\"CryptoNight\"], [\"Scrypt\"], [\"Dagger\"], [\"Lyra2REv2\"], [\"X13\"], [\"Proof-of-BibleHash\"], [\"SHA-256 + Hive\"], [\"Scrypt\"], [\"Scrypt\"], [\"X11\"], [\"C11\"], [\"Proof-of-Authority\"], [\"X11\"], [\"XEVAN\"], [\"Scrypt\"], [\"VBFT\"], [\"Ethash\"], [\"CryptoNight\"], [\"Scrypt\"], [\"IMesh\"], [\"NIST5\"], [\"Scrypt\"], [\"Scrypt\"], [\"Equihash\"], [\"Scrypt\"], [\"Lyra2Z\"], [\"Green Protocol\"], [\"PoS\"], [\"Scrypt\"], [\"Semux BFT consensus\"], [\"X11\"], [\"Quark\"], [\"PoS\"], [\"CryptoNight\"], [\"X16R\"], [\"Scrypt\"], [\"NIST5\"], [\"Lyra2RE\"], [\"XEVAN\"], [\"Tribus\"], [\"Scrypt\"], [\"Lyra2Z\"], [\"CryptoNight\"], [\"CryptoNight Heavy\"], [\"CryptoNight\"], [\"Scrypt\"], [\"Scrypt\"], [\"Jump Consistent Hash\"], [\"SHA-256D\"], [\"CryptoNight\"], [\"Scrypt\"], [\"X15\"], [\"Scrypt\"], [\"Quark\"], [\"SHA-256\"], [\"DPoS\"], [\"X16R\"], [\"HMQ1725\"], [\"X11\"], [\"X16R\"], [\"Quark\"], [\"Quark\"], [\"Scrypt\"], [\"Lyra2REv2\"], [\"Quark\"], [\"Scrypt\"], [\"Scrypt\"], [\"CryptoNight-V7\"], [\"Cryptonight-GPU\"], [\"XEVAN\"], [\"CryptoNight Heavy\"], [\"X11\"], [\"X11\"], [\"Scrypt\"], [\"PoS\"], [\"SHA-256\"], [\"Keccak\"], [\"X11\"], [\"X11\"], [\"Scrypt\"], [\"SHA-512\"], [\"X16R\"], [\"ECC 256K1\"], [\"Equihash\"], [\"XEVAN\"], [\"Lyra2Z\"], [\"SHA-256\"], [\"XEVAN\"], [\"X11\"], [\"CryptoNight\"], [\"Quark\"], [\"Blake\"], [\"Blake\"], [\"Equihash\"], [\"Exosis\"], [\"Scrypt\"], [\"Scrypt\"], [\"Equihash\"], [\"Quark\"], [\"Equihash\"], [\"Quark\"], [\"Scrypt\"], [\"QuBit\"], [\"X11\"], [\"Scrypt\"], [\"XEVAN\"], [\"SHA-256D\"], [\"X11\"], [\"SHA-256\"], [\"X13\"], [\"SHA-256\"], [\"X11\"], [\"DPoS\"], [\"Scrypt\"], [\"Scrypt\"], [\"X11\"], [\"NeoScrypt\"], [\"Scrypt\"], [\"Blake\"], [\"Scrypt\"], [\"SHA-256\"], [\"Scrypt\"], [\"X11\"], [\"Scrypt\"], [\"Scrypt\"], [\"SHA-256\"], [\"X11\"], [\"SHA-256\"], [\"Scrypt\"], [\"Scrypt\"], [\"Scrypt\"], [\"Groestl\"], [\"X11\"], [\"Scrypt\"], [\"PoS\"], [\"Scrypt\"], [\"Scrypt\"], [\"X11\"], [\"SHA-256\"], [\"DPoS\"], [\"Scrypt\"], [\"Scrypt\"], [\"NeoScrypt\"], [\"Multiple\"], [\"X13\"], [\"Equihash+Scrypt\"], [\"DPoS\"], [\"Ethash\"], [\"DPoS\"], [\"SHA-256\"], [\"Leased POS\"], [\"PoS\"], [\"TRC10\"], [\"PoS\"], [\"SHA-256\"], [\"Scrypt\"], [\"CryptoNight\"], [\"Equihash\"], [\"Scrypt\"]], \"hovertemplate\": \"<b>%{hovertext}</b><br><br>PC 1=%{x}<br>PC 2=%{y}<br>PC 3=%{z}<br>Algorithm=%{customdata[0]}<br>Class=%{marker.color}<extra></extra>\", \"hovertext\": [\"42 Coin\", \"404Coin\", \"EliteCoin\", \"Bitcoin\", \"Ethereum\", \"Litecoin\", \"Dash\", \"Monero\", \"Ethereum Classic\", \"ZCash\", \"Bitshares\", \"DigiByte\", \"BitcoinDark\", \"PayCoin\", \"ProsperCoin\", \"KoboCoin\", \"Spreadcoin\", \"Argentum\", \"Aurora Coin\", \"BlueCoin\", \"MyriadCoin\", \"MoonCoin\", \"ZetaCoin\", \"SexCoin\", \"Quatloo\", \"EnergyCoin\", \"QuarkCoin\", \"Riecoin\", \"Digitalcoin \", \"BitBar\", \"Catcoin\", \"CryptoBullion\", \"CannaCoin\", \"CryptCoin\", \"CasinoCoin\", \"Diamond\", \"Verge\", \"DevCoin\", \"EarthCoin\", \"E-Gulden\", \"Einsteinium\", \"Emerald\", \"Exclusive Coin\", \"FlutterCoin\", \"Franko\", \"FeatherCoin\", \"GrandCoin\", \"GlobalCoin\", \"GoldCoin\", \"HoboNickels\", \"HyperStake\", \"Infinite Coin\", \"IOCoin\", \"IXcoin\", \"KrugerCoin\", \"LuckyCoin\", \"Litebar \", \"MaxCoin\", \"MegaCoin\", \"MediterraneanCoin\", \"MintCoin\", \"MinCoin\", \"MazaCoin\", \"Nautilus Coin\", \"NavCoin\", \"NobleCoin\", \"Namecoin\", \"NyanCoin\", \"OpalCoin\", \"Orbitcoin\", \"PotCoin\", \"PhoenixCoin\", \"Reddcoin\", \"RonPaulCoin\", \"StableCoin\", \"SmartCoin\", \"SuperCoin\", \"SyncCoin\", \"SysCoin\", \"TeslaCoin\", \"TigerCoin\", \"TittieCoin\", \"TorCoin\", \"TerraCoin\", \"UnbreakableCoin\", \"Unobtanium\", \"UroCoin\", \"UnitaryStatus Dollar\", \"UltraCoin\", \"ViaCoin\", \"VeriCoin\", \"Vertcoin\", \"WorldCoin\", \"X11 Coin\", \"Crypti\", \"JouleCoin\", \"StealthCoin\", \"ZCC Coin\", \"ByteCoin\", \"DigitalNote \", \"BurstCoin\", \"StorjCoin\", \"MonaCoin\", \"Neutron\", \"FairCoin\", \"Gulden\", \"RubyCoin\", \"PesetaCoin\", \"Kore\", \"Wild Beast Coin\", \"Dnotes\", \"Flo\", \"8BIT Coin\", \"Sativa Coin\", \"ArtByte\", \"Folding Coin\", \"Ucoin\", \"Unitus\", \"CypherPunkCoin\", \"OmniCron\", \"Vtorrent\", \"GreenCoin\", \"Cryptonite\", \"MasterCoin\", \"SoonCoin\", \"1Credit\", \"IslaCoin\", \"Nexus\", \"MarsCoin \", \"Crypto\", \"Anarchists Prime\", \"Droidz\", \"BowsCoin\", \"Squall Coin\", \"Song Coin\", \"BitZeny\", \"Diggits\", \"Expanse\", \"Paycon\", \"Siacoin\", \"Emercoin\", \"EverGreenCoin\", \"MindCoin\", \"I0coin\", \"Decred\", \"Revolution VR\", \"HOdlcoin\", \"EDRCoin\", \"Hitcoin\", \"Gamecredits\", \"DubaiCoin\", \"CarpeDiemCoin\", \"PWR Coin\", \"BillaryCoin\", \"GPU Coin\", \"Adzcoin\", \"SoilCoin\", \"YoCoin\", \"SibCoin\", \"EuropeCoin\", \"ZeitCoin\", \"SwingCoin\", \"SafeExchangeCoin\", \"Nebuchadnezzar\", \"Francs\", \"BolivarCoin\", \"Ratecoin\", \"Revenu\", \"Clockcoin\", \"VIP Tokens\", \"BitSend\", \"Omni\", \"Let it Ride\", \"PutinCoin\", \"iBankCoin\", \"Frankywillcoin\", \"MudraCoin\", \"PizzaCoin\", \"Lutetium Coin\", \"Komodo\", \"GoldBlocks\", \"CarterCoin\", \"Karbo\", \"BitTokens\", \"ZayedCoin\", \"MustangCoin\", \"ZoneCoin\", \"Circuits of Value\", \"RootCoin\", \"DopeCoin\", \"BitCurrency\", \"DollarCoin\", \"Swiscoin\", \"Shilling\", \"BuzzCoin\", \"Opair\", \"PesoBit\", \"Halloween Coin\", \"ZCoin\", \"CoffeeCoin\", \"RoyalCoin\", \"GanjaCoin V2\", \"TeamUP\", \"LanaCoin\", \"Elementrem\", \"ZClassic\", \"ARK\", \"InsaneCoin\", \"KiloCoin\", \"ArtexCoin\", \"EmberCoin\", \"XenixCoin\", \"FreeCoin\", \"PLNCoin\", \"AquariusCoin\", \"Kurrent\", \"Creatio\", \"Eternity\", \"Eurocoin\", \"BitcoinFast\", \"Stakenet\", \"BitConnect Coin\", \"MoneyCoin\", \"Enigma\", \"Cannabis Industry Coin\", \"Russiacoin\", \"PandaCoin\", \"GameUnits\", \"GAKHcoin\", \"Allsafe\", \"LiteCreed\", \"OsmiumCoin\", \"Bikercoins\", \"HexxCoin\", \"Klingon Empire Darsek\", \"Internet of People\", \"KushCoin\", \"Printerium\", \"PacCoin\", \"Impeach\", \"Citadel\", \"Zilbercoin\", \"FirstCoin\", \"BeaverCoin\", \"FindCoin\", \"VaultCoin\", \"Zero\", \"OpenChat\", \"Canada eCoin\", \"Zoin\", \"RenosCoin\", \"DubaiCoin\", \"VirtacoinPlus\", \"TajCoin\", \"Impact\", \"EB3coin\", \"Atmos\", \"HappyCoin\", \"Coinonat\", \"MacronCoin\", \"Condensate\", \"Independent Money System\", \"ArgusCoin\", \"LomoCoin\", \"ProCurrency\", \"GoldReserve\", \"BenjiRolls\", \"GrowthCoin\", \"ILCoin\", \"Phreak\", \"Degas Coin\", \"HTML5 Coin\", \"Ultimate Secure Cash\", \"EquiTrader\", \"QTUM\", \"Quantum Resistant Ledger\", \"Espers\", \"Dynamic\", \"Nano\", \"ChanCoin\", \"Dinastycoin\", \"Denarius\", \"DigitalPrice\", \"Virta Unique Coin\", \"Bitcoin Planet\", \"Unify\", \"BritCoin\", \"SocialCoin\", \"ArcticCoin\", \"DAS\", \"Linda\", \"LeviarCoin\", \"DeepOnion\", \"Bitcore\", \"gCn Coin\", \"SmartCash\", \"Signatum\", \"Onix\", \"Cream\", \"Bitcoin Cash\", \"Monoeci\", \"Draftcoin\", \"Vechain\", \"Sojourn Coin\", \"Stakecoin\", \"NewYorkCoin\", \"FrazCoin\", \"Kronecoin\", \"AdCoin\", \"Linx\", \"CoinonatX\", \"Ethereum Dark\", \"Sumokoin\", \"Obsidian\", \"Cardano\", \"Regalcoin\", \"BitcoinZ\", \"TrezarCoin\", \"Elements\", \"TerraNovaCoin\", \"VIVO Coin\", \"Rupee\", \"Bitcoin Gold\", \"WomenCoin\", \"Theresa May Coin\", \"NamoCoin\", \"LUXCoin\", \"Pirl\", \"Xios\", \"Bitcloud 2.0\", \"eBoost\", \"KekCoin\", \"BlackholeCoin\", \"Infinity Economics\", \"Pura\", \"Innova\", \"Ellaism\", \"GoByte\", \"Magnet\", \"Lamden Tau\", \"Electra\", \"Bitcoin Diamond\", \"SHIELD\", \"Cash & Back Coin\", \"UltraNote\", \"BitCoal\", \"DaxxCoin\", \"Bulwark\", \"Kalkulus\", \"AC3\", \"Lethean\", \"GermanCoin\", \"LiteCoin Ultra\", \"PopularCoin\", \"PhantomX\", \"Photon\", \"Sucre\", \"SparksPay\", \"Digiwage\", \"GunCoin\", \"IrishCoin\", \"Trollcoin\", \"Litecoin Plus\", \"Monkey Project\", \"Pioneer Coin\", \"UnitedBitcoin\", \"Interzone\", \"TokenPay\", \"1717 Masonic Commemorative Token\", \"My Big Coin\", \"TurtleCoin\", \"MUNcoin\", \"Unified Society USDEX\", \"Niobio Cash\", \"ShareChain\", \"Travelflex\", \"KREDS\", \"Tokyo Coin\", \"BiblePay\", \"LitecoinCash\", \"BitFlip\", \"LottoCoin\", \"Crypto Improvement Fund\", \"Stipend\", \"Poa Network\", \"Pushi\", \"Ellerium\", \"Velox\", \"Ontology\", \"Callisto Network\", \"BitTube\", \"Poseidon\", \"Aidos Kuneen\", \"Bitspace\", \"Briacoin\", \"Ignition\", \"Bitrolium\", \"MedicCoin\", \"Alpenschillling\", \"Bitcoin Green\", \"Deviant Coin\", \"Abjcoin\", \"Semux\", \"FuturoCoin\", \"Carebit\", \"Zealium\", \"Monero Classic\", \"Proton\", \"iDealCash\", \"Jumpcoin\", \"Infinex\", \"Bitcoin Incognito\", \"KEYCO\", \"HollyWoodCoin\", \"GINcoin\", \"PlatinCoin\", \"Loki\", \"Newton Coin\", \"Swisscoin\", \"Xt3ch\", \"MassGrid\", \"TheVig\", \"PluraCoin\", \"EmaratCoin\", \"Dekado\", \"Lynx\", \"Poseidon Quark\", \"BitcoinWSpectrum\", \"Muse\", \"Motion\", \"PlusOneCoin\", \"Axe\", \"Trivechain\", \"Dystem\", \"Giant\", \"Peony Coin\", \"Absolute Coin\", \"Vitae\", \"HexCoin\", \"TPCash\", \"Webchain\", \"Ryo\", \"Urals Coin\", \"Qwertycoin\", \"ARENON\", \"EUNO\", \"MMOCoin\", \"Ketan\", \"Project Pai\", \"XDNA\", \"PAXEX\", \"Azart\", \"ThunderStake\", \"Kcash\", \"Xchange\", \"Acute Angle Cloud\", \"CrypticCoin\", \"Bettex coin\", \"Actinium\", \"Bitcoin SV\", \"BitMoney\", \"Junson Ming Chan Coin\", \"FREDEnergy\", \"HerbCoin\", \"Universal Molecule\", \"Lithium\", \"PirateCash\", \"Exosis\", \"Block-Logic\", \"Oduwa\", \"Beam\", \"Galilel\", \"Bithereum\", \"Crypto Sports\", \"Credit\", \"SLICE\", \"Dash Platinum\", \"Nasdacoin\", \"Beetle Coin\", \"Titan Coin\", \"Award\", \"BLAST\", \"Bitcoin Rhodium\", \"GlobalToken\", \"Insane Coin\", \"ALAX\", \"LiteDoge\", \"SolarCoin\", \"TruckCoin\", \"UFO Coin\", \"OrangeCoin\", \"BlakeCoin\", \"BitstarCoin\", \"NeosCoin\", \"HyperCoin\", \"PinkCoin\", \"Crypto Escudo\", \"AudioCoin\", \"IncaKoin\", \"Piggy Coin\", \"Crown Coin\", \"Genstake\", \"SmileyCoin\", \"XiaoMiCoin\", \"Groestlcoin\", \"CapriCoin\", \" ClubCoin\", \"Radium\", \"Bata\", \"Pakcoin\", \"Creditbit \", \"OKCash\", \"Lisk\", \"HiCoin\", \"WhiteCoin\", \"FriendshipCoin\", \"JoinCoin\", \"Triangles Coin\", \"Vollar\", \"EOS\", \"Reality Clash\", \"Oxycoin\", \"TigerCash\", \"Waves\", \"Particl\", \"BitTorrent\", \"Nxt\", \"ZEPHYR\", \"Gapcoin\", \"Beldex\", \"Horizen\", \"BitcoinPlus\"], \"legendgroup\": \"\", \"marker\": {\"color\": [0, 0, 0, 1, 1, 1, 0, 1, 1, 1, 0, 1, 0, 0, 1, 0, 1, 1, 0, 0, 1, 1, 1, 1, 1, 0, 1, 1, 1, 0, 1, 0, 1, 1, 0, 0, 1, 1, 1, 1, 1, 1, 0, 0, 1, 1, 1, 1, 1, 0, 0, 1, 0, 1, 1, 1, 1, 0, 1, 1, 0, 1, 0, 0, 0, 1, 1, 1, 0, 0, 0, 0, 0, 1, 1, 1, 0, 0, 1, 0, 1, 0, 0, 1, 1, 1, 1, 0, 0, 1, 0, 1, 1, 0, 0, 1, 0, 0, 1, 1, 0, 0, 1, 0, 0, 1, 0, 1, 0, 1, 0, 1, 0, 0, 1, 1, 0, 1, 1, 1, 0, 1, 1, 1, 1, 1, 0, 0, 1, 1, 1, 0, 1, 0, 1, 1, 0, 1, 0, 1, 0, 0, 1, 1, 0, 1, 1, 0, 0, 1, 0, 1, 0, 0, 0, 1, 1, 1, 1, 0, 0, 0, 0, 0, 1, 1, 0, 0, 0, 0, 0, 1, 0, 0, 0, 0, 0, 1, 0, 1, 0, 0, 1, 0, 1, 0, 0, 1, 0, 1, 0, 1, 0, 1, 0, 0, 0, 0, 1, 0, 0, 0, 0, 0, 1, 1, 0, 0, 1, 1, 0, 0, 0, 0, 0, 1, 0, 0, 0, 0, 0, 0, 0, 0, 1, 0, 0, 0, 0, 0, 0, 1, 1, 1, 0, 0, 0, 0, 1, 0, 1, 0, 0, 1, 0, 1, 1, 0, 1, 1, 0, 1, 0, 0, 0, 1, 0, 0, 1, 0, 0, 0, 0, 0, 0, 0, 1, 0, 1, 0, 0, 0, 0, 1, 0, 1, 0, 1, 1, 1, 1, 0, 1, 0, 0, 1, 0, 1, 1, 1, 0, 1, 0, 1, 1, 1, 0, 1, 0, 1, 0, 0, 0, 1, 0, 1, 1, 1, 1, 1, 0, 0, 1, 0, 0, 0, 1, 0, 1, 0, 1, 0, 1, 0, 0, 0, 0, 1, 0, 0, 1, 0, 0, 0, 1, 1, 1, 1, 0, 0, 0, 0, 1, 0, 1, 1, 1, 0, 0, 1, 1, 0, 0, 1, 0, 1, 1, 1, 0, 1, 1, 0, 0, 0, 1, 1, 1, 0, 0, 0, 1, 1, 0, 1, 1, 1, 1, 0, 3, 3, 1, 1, 1, 0, 3, 0, 0, 0, 0, 1, 1, 1, 1, 0, 0, 0, 1, 0, 1, 0, 0, 0, 0, 1, 0, 0, 1, 0, 0, 1, 1, 0, 1, 0, 1, 1, 1, 1, 0, 0, 1, 0, 1, 0, 0, 0, 0, 0, 0, 1, 1, 1, 0, 0, 0, 0, 0, 0, 1, 0, 1, 1, 1, 1, 0, 0, 0, 0, 1, 0, 0, 1, 0, 0, 1, 3, 1, 0, 1, 1, 0, 0, 1, 0, 1, 1, 1, 1, 1, 0, 1, 0, 1, 0, 0, 1, 0, 0, 0, 0, 0, 1, 1, 1, 0, 0, 0, 1, 0, 1, 0, 1, 0, 0, 0, 0, 1, 0, 0, 0, 1, 0, 1, 0, 1, 0, 0, 0, 1, 1, 0, 0, 0, 0, 0, 0, 1, 0, 1, 0, 1, 0, 0, 0, 0, 2, 0, 0, 0, 1, 1, 0], \"coloraxis\": \"coloraxis\", \"symbol\": \"circle\"}, \"mode\": \"markers\", \"name\": \"\", \"scene\": \"scene\", \"showlegend\": false, \"type\": \"scatter3d\", \"x\": [-0.3265720133097724, -0.3098549835077333, 2.305654210061519, -0.14861642375654271, -0.16489802564893524, -0.15431552119799588, -0.40643594472326355, -0.14902697745462276, -0.16333475288637134, -0.16972138882776647, -0.24589575332744024, 0.16024789137731882, -0.3196996025280685, -0.26661536157232013, -0.15546558048273149, -0.2531421932551416, -0.23553784292130525, -0.15508082383607083, -0.3262304663286853, -0.3187838871275415, -0.09400642952278077, 2.575671160877511, -0.14569165575910953, -0.15232704853026702, -0.15488417906675528, -0.3250636844497535, -0.2355900245596288, -0.20616700804548624, -0.15493315416867634, -0.3265679357901324, -0.1554477882523258, -0.3265521651934372, -0.15553453422505925, -0.23562748041388268, 0.5991914754223991, -0.37818649529997234, 0.18407136560775164, 0.23048893371242296, 0.09402411610489607, -0.1552799892047608, -0.15087063307042836, -0.15521907425491457, -0.3362003881751698, -0.22015127669147222, -0.15559172603786636, -0.1822615365229742, -0.13474462235729592, -0.15438282447846788, -0.15466118153886965, -0.3246243573658226, -0.33310960869656514, 1.599138387293754, -0.406330297623603, -0.14857766630236752, -0.15194150652994146, -0.15530651850056637, -0.1556625134246212, -0.37819573296447206, -0.154919295960434, -0.15426257942327803, -0.012560619655179238, -0.15554338252597458, -0.2828842164286138, -0.2732380269308501, -0.286987608043885, -0.019992133282326154, -0.14865553176131813, -0.1491862091977721, -0.28761184488459046, -0.3580291175551237, -0.32085533027889035, -0.324968460973111, 0.03273672460247672, -0.1555227470649254, -0.15361062881779872, -0.1550077786187651, -0.35306102998002314, -0.40670309999485244, -0.13576467598771325, -0.2450952418091395, -0.1481175164680444, -0.3134019164801754, -0.4066144428467514, -0.14840566899490912, -0.14838856576712153, -0.1489812800555365, -0.23580196125267092, -0.30172195496029613, -0.32524501115530796, -0.15523830357139404, -0.2563449264141856, -0.1873386203170925, -0.15233176488152209, -0.4065788070861057, -0.24556459334267586, -0.1481850339904433, -0.28739199409510524, -0.31764525084062484, 3.8697638065404223, 0.4574133461709642, -0.2257100267719137, -0.3072903537705057, -0.15410210858849024, -0.31890870742491917, -0.37760617686601194, -0.13864908518733696, -0.2732182363170739, -0.15281666615852216, -0.2876874667382122, -0.1556647289079123, -0.26785440622330353, -0.15268126766583798, -0.3265540234054106, -0.2876394981189461, -0.13885894286403438, -0.11833495257510661, -0.35350730666629804, -0.12812641112703355, -0.19264930780650438, -0.1555373890127166, -0.3262875216952806, -0.0280495361034265, -0.12909096605155732, -0.15567365236478312, -0.14868340053899612, 0.49870299918568745, -0.406684568692129, -0.316232962706536, -0.23518710630594997, -0.15864891038672949, -0.14842238051224818, -0.40785317494971485, -0.23547295120300574, -0.39939924179371505, -0.1537910941204875, -0.15298064870811062, -0.27161447600323857, -0.16596897655096587, -0.28715954110020214, 0.38703993041193097, -0.31223120916424857, -0.2555918817607018, -0.23550846846504117, -0.14857879234098006, -0.07957777014513842, -0.15161805774873796, -0.16000624732404675, -0.31967042168487425, -0.08307809783592582, -0.15423221494660808, -0.3197343338251102, 0.2712980393673344, -0.2397682500322964, -0.3261629781112874, -0.2714829879147061, -0.23466637593054016, -0.15603483958427905, -0.1544803831127486, -0.15028957142757612, -0.4038442071365931, 0.8837675970469631, -0.31953371915162504, -0.1339925530118914, -0.33588261209605874, -0.15546285751040884, -0.23547158361939913, -0.4045204693428595, -0.31827300798990493, -0.3159333773999019, -0.36152232856781763, -0.40541551705484324, -0.15567371105434777, -0.3423018799011924, -0.3023804620964007, -0.32620119791374375, -0.32463506479423626, -0.2332931567631052, -0.23562204748442758, -0.34095677565089033, -0.3419523170657286, -0.4061567161844082, -0.3254027907539601, 0.30180009033162714, -0.3197152145568873, -0.14883974134400918, -0.4066737224329537, -0.3263909969130921, -0.10813240287996038, -0.3265482377090086, -0.15283094620684487, -0.2714727254915846, -0.14879823432269998, -0.18100325571945444, -0.15533598066974405, 0.03438824294184045, -0.3348362451025172, -0.326161137153774, -0.3927897049875758, -0.13136750901885025, -0.3341627260673395, -0.23472859522517067, -0.455047312465706, -0.3339106203535363, -0.28117362813449254, -0.165710278457881, -0.16974307693140053, 3.6413378810736843, -0.4062649140375347, -0.08215062496355316, -0.22216087858822833, 0.8482175234300677, -0.40662848454660633, -0.33530152729734297, -0.326088422501215, -0.3262432485184409, -0.23344289260147047, -0.33588261209605874, -0.4062019559094712, -0.3195774408427404, -0.3260891655522904, -0.39111620128585106, -0.32623704087426403, -0.32181015686494496, -0.40665757190764923, 0.301794444729846, -0.3254450712071693, 0.3721578679134358, -0.3264369794034842, -0.3265077889705001, -0.358158365752898, -0.3626824507078499, -0.15565538716656352, 0.30192559358978316, -0.15919117703697885, -0.3227218263248649, -0.3196915513876271, -0.40656722618646596, -0.3262848619428116, 0.48205564387870337, -0.32641222711349205, -0.14778747029532693, -0.273124394106097, -0.2688618786977854, -0.15562356954340004, -0.2344956823468742, -0.22833142743628151, -0.16975549567830708, -0.3072025208327657, -0.15375062128997127, -0.15890862253424767, -0.2728646989799342, -0.14556652645418033, -0.4058305003454687, -0.44948812998905335, -0.4045647508695768, -0.12644841918548722, -0.3341233732618048, -0.4057280527865459, -0.19183165657370377, -0.3285047831235867, -0.40165546441169203, -0.3263553294548995, -0.32635451041349434, -0.319452977468484, 0.2678491798706773, -0.40620814269745026, -0.1551844822583524, -0.25570825569882716, -0.11505216572156245, -0.33591700943899405, -0.3255633732403157, 0.8825577088986063, -0.2653013429453475, -0.15500593267046137, -0.3410761922695534, -0.14764480354496548, 0.541916237489333, -0.16911659896325382, -0.014578585623662956, -0.16980341784187167, 0.3380367893745875, -0.36306305129071453, -0.23467478408260978, -0.36156030338081446, -0.4337529572166838, -0.15532628618329175, -0.2873235487244831, -0.1550888439393949, -0.23507079379780493, -0.2356501771571564, 0.13993336826912078, 0.30219075732974454, -0.2873945612813511, -0.17608137295104306, 3.265394671610084, -0.13235326169350722, -0.3295332468398269, -0.22649142648808904, -0.43325622920055046, -0.14861558522661375, -0.4064814409526058, -0.2731988705342435, 4.36280203130025, -0.08099416646857502, -0.33578282071598786, 1.597087741645734, -0.15542445475758124, -0.15487424367542257, -0.15457422307161206, -0.1545611110391115, -0.32598931344920495, -0.326490662251468, 0.3023749988640641, -0.3041521110804353, 0.6657349395030651, -0.40642206076055953, 0.043285669764420075, -0.3530117205709137, -0.1898857436440941, -0.32644612285303676, -0.18696593513188225, -0.30596422586514965, -0.16960103768407164, 0.4451983346425737, -0.3180323642744623, -0.3477792265237353, -0.40213780197384247, -0.15478975469772038, -0.32639629521413793, -0.40961555974435576, -0.15374882455824002, -0.32009612380769314, -0.32626627754899173, -0.09252585527546972, -0.23117969276680356, -0.1868108244128882, -0.16406990263275026, -0.18691136954259338, -0.4052106784078614, 3.646210040185106, 0.19827854001067388, -0.2840543990318473, -0.11832558672218656, -0.32371810461992756, 1.1425595774604091, 0.3017771509236784, -0.08870442850635088, -0.3098052110792484, -0.35804389341337467, -0.23092025673872843, -0.13672036333331433, 0.08927162417054063, -0.3254018847493454, -0.07153354025596276, -0.40579379452386716, 1.0999905486704187, -0.23562408957054495, -0.1869634905804316, -0.357205821503253, -0.17997809093964665, -0.15467295834753172, -0.3129264760918324, -0.32651286604168744, -0.3534791438087166, -0.2355492492520172, -0.14859491557336627, -0.2233198051770424, -0.3425847224512207, -0.28405229998292186, -0.2517718889399808, 8.065854350644466, -0.15868702595553053, -0.32204340618159993, 0.3056645768126333, 0.03800928156547693, -0.15429138239648246, -0.172848381246797, -0.22626401633721022, -0.1069743117152604, -0.34299563974321773, -0.1552485883235454, 0.1528518584361166, -0.22967051711764497, -0.39424035062307644, -0.4142641525511412, -0.40649872866774184, -0.3327687878915929, -0.2723560236577593, -0.29625190030209725, -0.11694907905503393, 0.30972712168236977, -0.15548639336325493, -0.14387885619203378, -0.3626606698427491, -0.32654031076652185, -0.3265219604167057, -0.16858877291002805, -0.2667188144802908, -0.12914351285052744, -0.3351607630923066, -0.33537593378128056, -0.32623752565596514, 3.8176890943280326, -0.23471569060411038, -0.4082792482392812, -0.3355652245004899, 0.30196027450473856, -0.3096858760361811, -0.27292986844667505, -0.19189133518121707, -0.15903589376307312, -0.3256178277236608, -0.1452547178491476, -0.2728920764173444, -0.13145217160057737, 0.3059018668689725, 0.5697238026813634, 2.116538015264468, -0.12900318255995905, -0.27314493962115705, -0.15283437797025665, -0.3467080590928933, 0.3156107343420417, -0.3257097956797593, -0.20191284407029006, 2.276564450538376, -0.35373728878556043, -0.26542957344768425, 0.979992487179818, -0.19193754068277102, -0.17208423712396037, -0.23560619016982004, -0.36204082374313296, -0.3581577943354813, -0.41130536882411445, -0.15347276066186863, -0.35891284244198324, -0.3568730855559779, -0.1555110551785202, -0.3193928735967218, -0.13659925505631942, -0.1362507787868964, -0.16063989026021624, 3.1007214679716046, -0.3530551443977308, -0.40597032719678244, -0.27038125215875997, -0.33466197242522183, -0.1083095848649657, -0.36361069172765126, -0.3529160304160553, -0.2355774584651222, -0.18554824639434528, -0.2661797653820134, -0.19136331992286335, -0.42395603898776585, -0.06399514357644971, -0.27974127666049, -0.13084788554025537, -0.14861562291561226, 0.4936431373731312, -0.1427476409589916, 0.3819891011246633, -0.41059765628902944, -0.127008864202542, -0.12740224065148756, -0.28691500081586535, -0.17750454744727862, -0.15439963220355754, -0.3262415207585004, -0.16765457152195407, -0.41105529216610814, -0.16943329890864972, -0.3582751589329681, 0.5832914639666438, -0.19185760757838513, -0.3535336369072902, -0.32572269955291566, -0.3272059448346217, -0.3012758679571636, -0.4035267006073393, -0.1478893507900241, -0.11688196647069314, -0.14675348452400308, -0.40619832220597046, 3.658492072786961, 0.11013701907231041, 0.5427716970836072, -0.40372999141170735, -0.11187983407057188, -0.3251060790714416, -0.07769928446029384, -0.32593389730875966, -0.26664808960577235, -0.3264539685026125, -0.39779846209530534, -0.1390100242709809, -0.23986604478544393, -0.0986406673633863, -0.39353251047328036, -0.14840503737527103, -0.32572992540216233, 0.5625584444280867, -0.3187713115579659, -0.2057265477507039, -0.40275559761377283, -0.3241638984596548, -0.336159150363646, -0.1555881597172004, -0.15353700857154323, -0.40276996922893965, -0.31820975464840967, 3.641731003407413, -0.07979064645197553, -0.3213494140146854, -0.35765370438091376, -0.12886371145185596, -0.28779503114771804, -0.14019835425355212, 3.651630970116464, -0.16574354740153496, 3.6528791532744487, -0.24748180147708354, -0.29423515201063577, -0.3360948085514082, 34.1235098582842, -0.3184472085035607, 2.431369406079971, -0.324610783397442, 0.32360692153291976, -0.1697224492521738, -0.2735427395731992], \"y\": [1.0338475635945925, 1.0339366955591456, 1.6030018158875459, -1.3222043564897612, -2.015383466865305, -1.1047909047581839, 1.2076510390860333, -2.2272752893067, -2.0154888276294334, -2.109769660884899, 1.6681559950167588, -1.8543471300260783, 0.8164065531252337, 0.6362595842538868, -1.1047783056832, 1.8485911311580923, -0.9309643266165285, -1.104798074924082, 1.0338451992431175, 1.0340649334560625, -1.8479632128537002, -1.3009794112342625, -1.3222282935977334, -1.1048531805707569, -1.104818128033633, 1.0338896617084157, -0.4368261877826769, -1.2594026416010646, -1.1047827193788355, 1.0338473226859535, -1.1047778090946703, 1.0338474081061442, -1.1047746536397336, -0.9309654094613095, 0.3206190263951395, 0.8792393341305308, -1.8505285354604364, -1.326507705029238, -1.1073781255275823, -1.104773125753662, -1.104847858533127, -1.104779229953615, 1.5670719867266791, 0.25167582738558014, -1.1047748988902528, -1.6479839081861638, -1.1051929805428942, -1.1047828503969699, -1.104792212753835, 1.0338167850208069, 1.02807790407558, -1.1200712410144686, 1.2076539877404011, -1.3222032747531385, -1.1048533607970246, -1.1047731567099046, -1.1047698607357528, 1.8827048449924049, -1.1047779578911512, -2.1406176231656158, 0.8609764396673208, -1.104772672809027, 0.8157333026098229, 0.8536893456147948, 1.7535321497653535, -1.1116245974422885, -1.3222054480103906, -1.1048272438467273, 1.753514727056243, 0.4907326803073026, 1.033709133908108, 1.0338227896693515, 1.0438760195135564, -1.104779901226217, -1.1048890058289131, -1.1047869547629763, 1.0275210516332214, 1.2076591906850533, -1.3224607844606069, 0.11091917119876023, -1.3222088869441286, 1.6454979705962065, 1.2076545709782527, -1.3222133734724821, -1.32223985663573, -1.3221998179167034, -0.930957508520573, 1.0334059592092364, 1.0338136520642627, -1.104773381265159, 0.3467957240120692, -1.288617848384299, -1.1048642530694666, 1.2076587582804386, 0.11097702014340854, -1.3222093439202232, 1.7535208631829546, 1.033387225861044, -2.3338690889667686, -2.3053267535403763, 0.4190348440185088, 1.5298621469275768, -1.1047999326977596, 0.8163959909148897, 0.8792586386135329, -1.1054859899318623, 0.8537013774852622, -1.1048075229218517, 1.7535041025700744, -1.1047708292957144, 0.8534963405046866, -1.1047992131071929, 1.033848065730084, 1.7535068603689434, -1.1050093957105676, -2.211833227718081, 1.0274944061177056, -1.847496540878645, -1.530872548295629, -1.104767802574669, 1.0338413141552178, -1.108302045866593, -2.2159991061001834, -1.1047696533320335, -1.3222062258395328, -1.1517781314421747, 1.2076597086108858, 1.9354250416763241, -0.9309637607484132, -2.1629580010028593, -1.3222221834697563, 1.7966860405320366, -0.9309632249491644, 0.8440875514510747, -1.1048658334710921, -1.1048714228227843, 0.853675190360139, -2.01542535242488, 1.7534918766721472, -2.168572960393678, 0.8159211203982673, 1.8487524218282556, -0.9309606688136481, -1.3222033061813427, 0.8552498334867329, -1.1048050128477682, -2.098947578293618, 0.8164073675746691, 1.1978548087904493, -1.1047885796461585, 0.8164137428654982, -1.3258130437385194, 1.5053418068979014, 1.0338291814953666, 0.8535929749293535, -0.9309854108053822, -2.2309914590368827, -1.104855352307627, -2.2163127546516357, 1.2074665411159602, 0.8157540787298507, 0.816398412225758, 0.3270114397304763, 1.5670666662407162, -1.104777520196507, -0.9309660247289631, 1.2076668979657774, 0.8163039581108666, 0.8161547978652842, 1.50187974620507, 1.2075965096189538, -1.104769652820337, 1.5919069229612897, 1.0331037850395663, 1.033826459294451, 1.0338306759201592, 1.5732535745056895, -0.9309702242378374, 1.0273927531657283, -1.7279103691152942, 1.2076389668229894, 1.0338163432442884, -2.3025822048614333, 0.8164068268744407, -1.3222025977100986, 1.2076578828722593, 1.0338377166315689, -1.8477898847036773, 1.0338482272112697, -1.1048317701935886, 0.8537500954163073, -1.3222020794009874, 0.28359672803118396, -1.1047810738853254, 1.8873005587529346, 1.5670575584575355, 1.033859031348306, 1.2069832889104068, -2.255286436657427, 1.5671004792973044, 1.573353634497612, 1.8832489619001371, 1.5669223393869955, 1.8873574317106898, -2.0154247296779486, -2.1097702662088653, 1.9620029080759478, 1.2076501367241557, -1.109812029693711, -0.9309315239491246, 1.7846131314867417, 1.207658540055827, 1.5670615999362583, 1.0338337171997878, 1.0338269411150123, -0.9310534290647249, 1.5670666662407162, 1.20763060928944, 0.8164113816833464, 1.0338376270211536, 0.6499168584406041, 1.0338370471966196, 1.0335188340555166, 1.2076569146653064, -2.3025901667939848, 1.0337768508593805, 0.8486451681609544, 1.0338421091404404, 1.0338470036418, 1.521668789452904, 0.6077124451618314, -1.1047706297826703, -2.3025893443245393, -2.1629335542254062, 1.0336002802369033, 0.8164074873233084, 1.2076563471436874, 1.0338413883900122, -0.9818705456490748, 1.033836461899862, -2.227371949317943, 0.8536649748529589, 0.3355799549522893, -1.1047701998655635, 1.5733516037999302, -0.931458490229553, -2.1097677748716186, 1.0336786867864158, -1.1047864899659692, -2.1629334723742293, 0.85368681974541, -2.1277228209867127, 1.2076125972720426, 1.8734322146529365, 1.2076408299907921, -1.106791475065774, 1.567051707687006, 1.2076154566259005, -0.6367411186587668, 1.5670029792928204, 1.2074453292940406, 1.0338385616279409, 1.0338333428806186, 1.0333367714611523, 0.5979740244030362, 1.207644626361742, -1.104780762156109, 0.8527711134941175, -1.3230263834075817, 1.5670586113225495, 1.0338012190094075, 1.8166834404809709, 0.6361631704312553, -1.1048016605798388, 1.591893951498912, -2.2273112084372926, 1.9491774506274664, -2.1790216924854704, -2.1800237257910275, -2.1599323815800195, -2.302982703500861, 1.5018935029873792, -0.9309969972788895, 1.50185740169011, 1.85164004189681, -1.1047731953328357, 1.7535014888994545, -1.1048061031299579, -0.9309796705780352, -0.930966681475492, 1.0113935519950115, -2.30260251862936, 1.7535073835056088, -2.276647564334659, -1.1511832592994815, -1.2570585554044569, 1.5834497252602227, -0.9314780837805967, 1.8516539057817452, -1.3222043330860402, 1.2076586327012973, 0.8536895687316978, 2.6870416576653104, -1.110134496160508, 1.5670399368082624, -1.055848916400769, -1.104776448359749, -1.1048064989342443, -1.104809477033262, -1.1048091110709974, 1.0338295928328456, 1.0338468543190622, -2.302622129598374, 1.6690197560309232, 1.5511266171963456, 1.2076478791561616, -2.118708881831016, 0.4905915977430861, -0.930953045175362, 1.0338399146776316, -1.6478959782939104, 0.6698651404044537, -2.1097663018345663, 1.03765080895743, 0.8163977464186671, 1.5014757908620506, 1.8262458792027105, -2.2310463212374847, 1.0338375687537895, 1.7017366548400452, -1.1047864398184417, 1.5728609423334023, 1.0338456047406992, 0.6347419765122827, -0.9310768196822682, -1.6479044198627237, -2.015559010082159, -1.6478978608852333, 1.2075986793135125, 1.961872834280097, 1.496283252296416, 1.7534650244900913, -1.84769125749283, 1.0337782250442489, -2.3394155935288428, -2.3025846188283365, -2.020351746029787, 1.3217320698481658, 1.5216684369863445, -0.9312114761963314, -2.2276409261508636, 1.009979561706568, 1.033773799286893, -1.1059682654256178, 1.2076490961170465, -1.3190535144188877, -0.9309665918987963, -1.6478916531410297, 1.5216208791803236, -1.6480365322075183, -1.1047866912291449, 1.0335898775618733, 1.03384637649955, 1.0274944826673347, -0.9309667734341673, -1.3222031644749492, -1.2841366413625461, 1.5919050593513677, -0.05695895066001293, 0.4122169952564248, -2.7953645416472335, -2.1365415997427872, 1.0338093578492689, -2.3027056383354094, -1.1064583168692625, -2.230992462542138, -1.2889342590068966, 1.5730240682865273, 3.1247182775069895, 3.1837773239701552, -1.104785729602759, -1.1092176592398362, -0.9311411210749097, 0.8544821132058854, 3.4353866620111946, 1.2076471582978885, 1.4640057079671807, 0.8536374657598194, 1.628670400284573, -2.0186568600193193, -2.3030633506608478, -1.1047788865793267, -2.2172575688732405, 1.5018763541242297, 1.033846319993304, 1.0338454131843653, -2.1097728139878065, 0.8535280353411911, -2.255422027193338, 1.6127500072338845, 1.5670325626990054, 1.0338356146913499, 2.008634080233525, -0.9309981389968696, 1.7017739518483528, 1.5670329554157771, -2.3025836937489395, 0.6528205290639656, 1.0317107782494477, -0.6367234493626641, -2.1629407706605113, 1.1004574705850312, -2.243985684843681, 0.8536920340707742, -2.2552810662124694, -2.302886320514227, -2.2233384533479064, -2.382470704591931, 1.032125020085931, 0.8536722057805788, -2.144331497498708, 1.8907828022928097, -2.30289913659144, 1.0338120315339232, 1.6685701180833565, 0.43699267978532436, 1.5213416590417759, 0.6362304139130497, 1.7482259460078213, -1.3056281109532435, -2.1221810497285682, -0.9309669437039858, 0.8329679541284019, 1.5216645484769644, 1.7018277344793977, 0.8450673759587578, 0.8500024143477483, 1.5216443557267259, -1.1047803590709975, 1.0333384489851396, -2.228170029380998, -2.160449333039038, -0.6746831477990559, -2.283469977518754, 1.0274821940949337, 1.2076441690169335, 0.8535960921641251, 1.5669659321930178, -1.3225544002171596, 0.8831613400289163, 1.027454149890586, -0.930968979739816, 1.0250128221368546, 1.9565942549053994, -1.305667370523163, 3.262035485246218, -2.1121960025828233, 1.2838575104893943, -2.255316347662256, -1.322204334137956, 1.13992738279182, 1.0333909855428534, -2.3060696596803476, 1.7018128292794614, -2.2450723858350337, -2.2450266833335935, -0.15134887074847062, -2.1830833729492416, -1.1048187938778482, 1.0338418885730352, -2.109883529211507, 1.701824862990712, -2.1097686341682738, 1.5216666861712826, 1.0061725726483064, -1.5309214003545255, 1.0274938840759815, 1.0338116713814718, 1.4638487947653034, 1.8885743452998058, 1.2074498613082532, -1.3222145715401863, -0.3851082427292119, -1.3222566557318556, 1.2076519953297917, 1.9618608872006675, 1.0212042346217582, -1.1548760289841276, 1.2077421720881165, -1.648619087537329, 1.0337465809757405, -2.2485879655394547, 1.0338268796734933, 0.6362526401579494, 1.0338508583039157, 1.2075529798282827, -1.105013612455292, 1.0288179454019022, 0.8224572057999638, 1.2073173006042446, -1.3222133558437166, 1.0338604243360374, -1.1201974284307876, 1.0337814894830222, -1.2594052474070943, 1.2076217944426724, 1.0338012571236008, 1.567066752304447, -1.104770375121974, -1.1048387059137001, 0.7018363851955876, 0.8163892479427325, 1.961989106118281, 0.8519988789056809, 1.0337804823148544, 0.4907031444710883, -1.847519105801223, 1.7535095291131788, -2.2391850274614113, 1.9623788783856753, -2.015424439615942, 1.9624137156952661, 0.6360929910378643, 3.3759892136849694, 1.5670688076841728, 1.6005944087746269, 1.5692129346430184, 0.849724917331524, 1.0337249305131129, -2.302959912592124, -2.1097696904817833, 0.8536916109773985], \"z\": [-0.5779045303619605, -0.5782807777044586, -0.6020950328147349, 0.20699977884779483, 0.35417849283258096, -0.02833157789603822, -0.4824266608512665, 0.4486556443456822, 0.35416171220681053, 0.529296587793994, -0.24059756115567316, 0.3886829639693592, -0.3425941076857532, -0.08785511743092278, -0.028308725647222806, -0.5982057495970359, 0.06717195274475517, -0.02831385323381832, -0.577911540018191, -0.5781082800385025, 0.3931526388315621, -0.0556622236729333, 0.20694035045196071, -0.028364535519957445, -0.02831486341872727, -0.5779439906301251, 0.03449553883455613, 0.14869376282241215, -0.028319534931442427, -0.5779045796195705, -0.028309191120048996, -0.5779049347817047, -0.028307824375486682, 0.06717406811676692, -0.16300747972616728, -0.4008848870565311, 0.38754922658483404, 0.19949107838529456, -0.03328779932511182, -0.02831358100794449, -0.028396919325218078, -0.028313911364762388, -0.15959900789049078, -0.2502292223610804, -0.028306546830197225, 0.26344739355490804, -0.028690083067092316, -0.028331424939792207, -0.028323884776592888, -0.5779417029446614, -0.2282186712875407, -0.0638095588166189, -0.4824294247461212, 0.20699876489162913, -0.028372850934226392, -0.028313001802826553, -0.028305830238129753, -0.43011575228348103, -0.028320605606764557, 0.3629497774784248, -0.3299907151976311, -0.028307953497391257, -0.3432819543408586, -0.3231691246748455, -0.5703464638585025, -0.030132689615749487, 0.20700080197491827, -0.02843671348150118, -0.5703301328376134, -0.2860622107982172, -0.5780058537030732, -0.5779352272000544, -0.5873046139917258, -0.0283072300792155, -0.02833095503396028, -0.02831723420401096, -0.22769671062053706, -0.4824221980817152, 0.20676312583579462, 0.09894620011392286, 0.20698971394153792, -0.30933161807897686, -0.4824233691761914, 0.2069966768763071, 0.20700059346772198, 0.20700694106947723, 0.06717656563457058, -0.5783708981061827, -0.5779277625245972, -0.028314441883644268, -0.44325178275557714, 0.20388485896439112, -0.028362641159864782, -0.48242481825800176, 0.09894699477799397, 0.20699124924577877, -0.5703358844812227, -0.5780232254331937, 0.3573544003149696, 0.42659048699862134, 0.3401786990091487, -0.038038241363073357, -0.028334735619846122, -0.3426095159659329, -0.4009005721154883, -0.028558146954477837, -0.32317150059033756, -0.02836132884337827, -0.5703267763330502, -0.028305625508073595, -0.32325440528673677, -0.028365604469837623, -0.5779050010110747, -0.5703282609540867, -0.028630750073174484, 0.4405162032931573, -0.22768273845558487, 0.39381558514158077, 0.20599765630784772, -0.028308871553546746, -0.5779096762538397, -0.030496110879738178, 0.5212825388350341, -0.028305622721307613, 0.20700153106612332, -0.03485965203900256, -0.4824226830046826, -0.02659245036556666, 0.06716426988204209, 0.3448669789220111, 0.20699846463115348, -0.5897375877538203, 0.06717036991812338, -0.24503280985754453, -0.028330799939591252, -0.02834743630782951, -0.3232019731783625, 0.3542084521817921, -0.5703362236620384, 0.3636950134335639, -0.3426771760636534, -0.5981788368298278, 0.06717072489011204, 0.2069987943505763, -0.3729311719884431, -0.028387677562792587, 0.31382680642461835, -0.34259487110266257, -0.4878396539447811, -0.028333757319044136, -0.3425945197561779, 0.19849537173258636, -0.5581374149142047, -0.5779104079617394, -0.3231915110514139, 0.06715650375313627, 0.46148468813260224, -0.028317577681071272, 0.41039908385799373, -0.48245289158451393, -0.3420706062589163, -0.34259638028037365, -0.14817332983388112, -0.15960502455166684, -0.028308911727603515, 0.06717079351248811, -0.48247068602435816, -0.3426083777634752, -0.3426348719856178, -0.5549418001926943, -0.4824399202035375, -0.028305621533870676, -0.20062851653968547, -0.57830773326928, -0.5779091401041315, -0.5779437196839863, -0.31559937803356214, 0.067174729884651, -0.22793792508127916, 0.9961665369572605, -0.4824307503029366, -0.5779247831925725, 0.4295142925078062, -0.3425938140935687, 0.20700432759532267, -0.4824226222305567, -0.5779068543357152, 0.3934303220854094, -0.577905152374023, -0.028357094917890333, -0.32321716590820115, 0.20700334532886533, -0.3612262092837205, -0.02831108259471031, -0.6489367775116812, -0.15962619763464994, -0.5779152795354489, -0.4826139298760377, 0.4815448703284254, -0.15964772263357094, -0.3155845062015072, -0.5983998403573325, -0.1596243440489097, -0.6421160309971259, 0.35420275217396474, 0.5292971551890123, -0.16568623827970913, -0.48243021653889745, -0.02908074101581445, 0.0668771149482208, -0.5999476049573629, -0.48242370772633986, -0.15961678135321214, -0.5779127558113795, -0.5779083079612095, 0.0671410329087752, -0.15960502455166684, -0.48242841832905925, -0.34259753331448506, -0.5779133726029175, -0.17719291311951144, -0.5779100781667635, -0.577954384236116, -0.4824228150675318, 0.4295157034800611, -0.5779174755403064, -0.3363214432266409, -0.5779065701062195, -0.5779058297812775, -0.260265482079625, -0.34361476198337465, -0.028305859993415845, 0.42951273179142296, 0.3448747584785171, -0.5779478357707094, -0.3425944331594204, -0.4824246786271994, -0.5779097458371615, 0.059880590551920965, -0.5779061917332876, 0.448644462860864, -0.32316763927866043, -0.395709279007531, -0.028306618236835494, -0.31558921861266187, 0.06709596780785801, 0.5292970207105202, -0.5782964237303376, -0.028344519079086236, 0.3448686296813312, -0.3231767960469241, 0.24615714626106663, -0.4824335424677239, -0.6189954803952344, -0.482465508040274, -0.02861089957568513, -0.15964067982647606, -0.4824362226575423, -0.005316163112031889, -0.15975439981241477, -0.482496830745559, -0.5779077630920709, -0.5779069360723568, -0.5779759324517548, -0.09322575427347764, -0.48243055333547213, -0.02831441205223752, -0.32339990306157845, 0.20640638100143657, -0.15960297623161607, -0.5779188594543946, -0.6176217649550672, -0.08786795147571687, -0.028314893759879646, -0.20065294539446238, 0.44863154302332525, -0.8781433289717547, 0.3290462817723384, 0.3742410667164217, 0.3609875907034688, 0.42879482109782957, -0.5549106799049809, 0.06715856121370385, -0.5549373614178313, -0.5516327750304051, -0.0283125677036001, -0.5703342298263099, -0.028312380140856082, 0.06716432772771355, 0.06717476525820444, -0.5843668909864967, 0.4295091251402168, -0.5703336469926082, 0.42914752997485817, -0.09483761465846349, 0.18924618721803582, -0.2649715372146983, 0.06705931479201636, -0.5516457702192156, 0.2069997569105289, -0.4824269053021778, -0.3231700082827962, 5.785123521426931, -0.02905357423134816, -0.15960285778157027, -0.07416069804239674, -0.02830991640422269, -0.028316960834284095, -0.02832297235671538, -0.028323315388178543, -0.5779142333041338, -0.5779061762977191, 0.4295083118399326, -0.2394764882847781, -0.27130264007600935, -0.4824264498620051, 0.5261332809572491, -0.28614796952908994, 0.06618204254901065, -0.5779060169946394, 0.2635349815203388, -0.09095955711854481, 0.5292934392181439, -0.5952241824467722, -0.342628767505665, -0.5551738655592373, -0.5633962446645712, 0.4614666202072554, -0.5779067157237985, -0.5150268834818794, -0.028344566084423546, -0.21683688955721558, -0.5779108305649177, -0.09137742104559773, 0.06709583489099957, 0.2635329907554377, 0.3541889839032742, 0.2635341052454224, -0.48244470489016994, -0.16577063547822024, -0.566152116417705, -0.5703990841785085, 0.3936349765721864, -0.5779550760652162, 0.41727921489127723, 0.42951517974673886, 0.3533335793618786, -0.30017310569619077, -0.26026790264104366, 0.06711201626057879, 0.44844846748183653, -0.5830414998093184, -0.5779179163074326, -0.02993271634471059, -0.4824402449063194, 0.16061273635923534, 0.06717418612458344, 0.26353422850824987, -0.2602783436120602, 0.2634064892877519, -0.028324523638669125, -0.5781581603402822, -0.5779056183801518, -0.22768336039725692, 0.06717259568174995, 0.20699912038061194, 0.18124855175117485, -0.20062209309879406, 0.05935498396701391, -0.4784678385094579, 0.34123635933332636, 0.3764265809969012, -0.5779963622704742, 0.4294506303023118, -0.03222431380032505, 0.4614471155600673, 0.20362245206016624, -0.3157143655635993, 13.586009756577154, 15.966630447426597, -0.02831222048512955, -0.03426329299174217, 0.06707357894344605, -0.3683501246275843, 14.356010123131298, -0.48242467379481513, -0.5247386370307943, -0.32317981688639064, -0.16947521706248742, 0.353670553048101, 0.4294206035539011, -0.028308181149422688, 0.5377715402834354, -0.5549166131135754, -0.5779050152259656, -0.5779052656138216, 0.5292725840874024, -0.32328411415886205, 0.4815186823741977, -0.15179954298373774, -0.15961047072332232, -0.5779098357978542, -0.12986314383856257, 0.06715963139286266, -0.5150618434997446, -0.1596064373243998, 0.429511066519315, -0.036686824590428276, -0.5787196726344234, -0.005317731530388632, 0.3448725656692433, -0.28734972751990845, 0.47289139285974724, -0.32317704752672693, 0.4815458334450833, 0.42947474106511074, 0.40477611123977725, 0.40316787150268674, -0.5819018428708177, -0.32316836504996516, 0.277049660132912, -0.6412520750627614, 0.42926667896153237, -0.5779174405179803, -0.34344700064963213, -0.5792838467749429, -0.26030821904422247, -0.08787606063350929, -0.1764140363368455, 0.25817101897930045, 0.24490037005452087, 0.06717385565976572, -0.29144167335245164, -0.26026480797004137, -0.5150050524781411, -0.32436567921683684, -0.3456999135017399, -0.26028934537209664, -0.02830740902555579, -0.5779775048638929, 0.44853149098813855, 0.3628806264515367, 0.02484523315933888, 0.3597291032975218, -0.22769054822464552, -0.48243562653300176, -0.3232158613599384, -0.15961513821757528, 0.20618404719445754, -0.3593057438348061, -0.22768901972521005, 0.06717356336553801, -0.5795267583700655, -0.2940717823032777, 0.2581649455283386, 16.780995360454973, 0.5274010184302902, -0.26999822005840285, 0.48153846533796624, 0.20699975789653272, -0.38156393814943923, -0.23319884078227288, 0.4283432054745864, -0.5150179573829963, 0.47803490306822694, 0.47803601946150226, 0.23443124590999798, 0.38879944942758093, -0.02832524306680343, -0.5779107648678145, 0.5292702856597691, -0.5150100002814613, 0.5292901862462213, -0.2602626137800158, -0.5931177288909654, 0.20598842849321317, -0.2276820840678661, -0.5779171029322946, -0.5248336388080321, -0.6418779215566557, -0.4824570637038002, 0.2069856957260475, -0.02072664739545538, 0.20696792335722797, -0.48243195868630273, -0.1660345312701545, -0.5853100183811665, -0.035312015644997696, -0.48249997940908873, 0.2620268823654333, -0.5779199128944151, 0.4775367162273422, -0.5779149935460192, -0.08785328504733435, -0.577907618605233, -0.4825977360130632, -0.02862679754514041, -0.5789670424991158, -0.3483580646472116, -0.4826519184760304, 0.2069966603521405, -0.5779248380684725, -0.04135362261497097, -0.5780626717842456, 0.14868465139166825, -0.48250158371805585, -0.5779491555512172, -0.15959905314857165, -0.028307356271041393, -0.02834069038845623, -0.27377491167395035, -0.34262355247789733, -0.16569251284210004, -0.3270824256108929, -0.5780067088681102, -0.2860655552599533, 0.39383519564240194, -0.5703253266147004, 0.47328457763724846, -0.16596987712398878, 0.35420342528805215, -0.16600253156521594, -0.08824227397012605, 5.673330277910133, -0.15960077844842696, -0.9018199796329911, 0.014398267001811068, -0.07786989131740431, -0.57792712845452, 0.4291034489017103, 0.5292966155363703, -0.3231628962299168]}],                        {\"coloraxis\": {\"colorbar\": {\"title\": {\"text\": \"Class\"}}, \"colorscale\": [[0.0, \"#0d0887\"], [0.1111111111111111, \"#46039f\"], [0.2222222222222222, \"#7201a8\"], [0.3333333333333333, \"#9c179e\"], [0.4444444444444444, \"#bd3786\"], [0.5555555555555556, \"#d8576b\"], [0.6666666666666666, \"#ed7953\"], [0.7777777777777778, \"#fb9f3a\"], [0.8888888888888888, \"#fdca26\"], [1.0, \"#f0f921\"]]}, \"legend\": {\"tracegroupgap\": 0}, \"margin\": {\"t\": 60}, \"scene\": {\"domain\": {\"x\": [0.0, 1.0], \"y\": [0.0, 1.0]}, \"xaxis\": {\"title\": {\"text\": \"PC 1\"}}, \"yaxis\": {\"title\": {\"text\": \"PC 2\"}}, \"zaxis\": {\"title\": {\"text\": \"PC 3\"}}}, \"template\": {\"data\": {\"bar\": [{\"error_x\": {\"color\": \"#2a3f5f\"}, \"error_y\": {\"color\": \"#2a3f5f\"}, \"marker\": {\"line\": {\"color\": \"#E5ECF6\", \"width\": 0.5}}, \"type\": \"bar\"}], \"barpolar\": [{\"marker\": {\"line\": {\"color\": \"#E5ECF6\", \"width\": 0.5}}, \"type\": \"barpolar\"}], \"carpet\": [{\"aaxis\": {\"endlinecolor\": \"#2a3f5f\", \"gridcolor\": \"white\", \"linecolor\": \"white\", \"minorgridcolor\": \"white\", \"startlinecolor\": \"#2a3f5f\"}, \"baxis\": {\"endlinecolor\": \"#2a3f5f\", \"gridcolor\": \"white\", \"linecolor\": \"white\", \"minorgridcolor\": \"white\", \"startlinecolor\": \"#2a3f5f\"}, \"type\": \"carpet\"}], \"choropleth\": [{\"colorbar\": {\"outlinewidth\": 0, \"ticks\": \"\"}, \"type\": \"choropleth\"}], \"contour\": [{\"colorbar\": {\"outlinewidth\": 0, \"ticks\": \"\"}, \"colorscale\": [[0.0, \"#0d0887\"], [0.1111111111111111, \"#46039f\"], [0.2222222222222222, \"#7201a8\"], [0.3333333333333333, \"#9c179e\"], [0.4444444444444444, \"#bd3786\"], [0.5555555555555556, \"#d8576b\"], [0.6666666666666666, \"#ed7953\"], [0.7777777777777778, \"#fb9f3a\"], [0.8888888888888888, \"#fdca26\"], [1.0, \"#f0f921\"]], \"type\": \"contour\"}], \"contourcarpet\": [{\"colorbar\": {\"outlinewidth\": 0, \"ticks\": \"\"}, \"type\": \"contourcarpet\"}], \"heatmap\": [{\"colorbar\": {\"outlinewidth\": 0, \"ticks\": \"\"}, \"colorscale\": [[0.0, \"#0d0887\"], [0.1111111111111111, \"#46039f\"], [0.2222222222222222, \"#7201a8\"], [0.3333333333333333, \"#9c179e\"], [0.4444444444444444, \"#bd3786\"], [0.5555555555555556, \"#d8576b\"], [0.6666666666666666, \"#ed7953\"], [0.7777777777777778, \"#fb9f3a\"], [0.8888888888888888, \"#fdca26\"], [1.0, \"#f0f921\"]], \"type\": \"heatmap\"}], \"heatmapgl\": [{\"colorbar\": {\"outlinewidth\": 0, \"ticks\": \"\"}, \"colorscale\": [[0.0, \"#0d0887\"], [0.1111111111111111, \"#46039f\"], [0.2222222222222222, \"#7201a8\"], [0.3333333333333333, \"#9c179e\"], [0.4444444444444444, \"#bd3786\"], [0.5555555555555556, \"#d8576b\"], [0.6666666666666666, \"#ed7953\"], [0.7777777777777778, \"#fb9f3a\"], [0.8888888888888888, \"#fdca26\"], [1.0, \"#f0f921\"]], \"type\": \"heatmapgl\"}], \"histogram\": [{\"marker\": {\"colorbar\": {\"outlinewidth\": 0, \"ticks\": \"\"}}, \"type\": \"histogram\"}], \"histogram2d\": [{\"colorbar\": {\"outlinewidth\": 0, \"ticks\": \"\"}, \"colorscale\": [[0.0, \"#0d0887\"], [0.1111111111111111, \"#46039f\"], [0.2222222222222222, \"#7201a8\"], [0.3333333333333333, \"#9c179e\"], [0.4444444444444444, \"#bd3786\"], [0.5555555555555556, \"#d8576b\"], [0.6666666666666666, \"#ed7953\"], [0.7777777777777778, \"#fb9f3a\"], [0.8888888888888888, \"#fdca26\"], [1.0, \"#f0f921\"]], \"type\": \"histogram2d\"}], \"histogram2dcontour\": [{\"colorbar\": {\"outlinewidth\": 0, \"ticks\": \"\"}, \"colorscale\": [[0.0, \"#0d0887\"], [0.1111111111111111, \"#46039f\"], [0.2222222222222222, \"#7201a8\"], [0.3333333333333333, \"#9c179e\"], [0.4444444444444444, \"#bd3786\"], [0.5555555555555556, \"#d8576b\"], [0.6666666666666666, \"#ed7953\"], [0.7777777777777778, \"#fb9f3a\"], [0.8888888888888888, \"#fdca26\"], [1.0, \"#f0f921\"]], \"type\": \"histogram2dcontour\"}], \"mesh3d\": [{\"colorbar\": {\"outlinewidth\": 0, \"ticks\": \"\"}, \"type\": \"mesh3d\"}], \"parcoords\": [{\"line\": {\"colorbar\": {\"outlinewidth\": 0, \"ticks\": \"\"}}, \"type\": \"parcoords\"}], \"pie\": [{\"automargin\": true, \"type\": \"pie\"}], \"scatter\": [{\"marker\": {\"colorbar\": {\"outlinewidth\": 0, \"ticks\": \"\"}}, \"type\": \"scatter\"}], \"scatter3d\": [{\"line\": {\"colorbar\": {\"outlinewidth\": 0, \"ticks\": \"\"}}, \"marker\": {\"colorbar\": {\"outlinewidth\": 0, \"ticks\": \"\"}}, \"type\": \"scatter3d\"}], \"scattercarpet\": [{\"marker\": {\"colorbar\": {\"outlinewidth\": 0, \"ticks\": \"\"}}, \"type\": \"scattercarpet\"}], \"scattergeo\": [{\"marker\": {\"colorbar\": {\"outlinewidth\": 0, \"ticks\": \"\"}}, \"type\": \"scattergeo\"}], \"scattergl\": [{\"marker\": {\"colorbar\": {\"outlinewidth\": 0, \"ticks\": \"\"}}, \"type\": \"scattergl\"}], \"scattermapbox\": [{\"marker\": {\"colorbar\": {\"outlinewidth\": 0, \"ticks\": \"\"}}, \"type\": \"scattermapbox\"}], \"scatterpolar\": [{\"marker\": {\"colorbar\": {\"outlinewidth\": 0, \"ticks\": \"\"}}, \"type\": \"scatterpolar\"}], \"scatterpolargl\": [{\"marker\": {\"colorbar\": {\"outlinewidth\": 0, \"ticks\": \"\"}}, \"type\": \"scatterpolargl\"}], \"scatterternary\": [{\"marker\": {\"colorbar\": {\"outlinewidth\": 0, \"ticks\": \"\"}}, \"type\": \"scatterternary\"}], \"surface\": [{\"colorbar\": {\"outlinewidth\": 0, \"ticks\": \"\"}, \"colorscale\": [[0.0, \"#0d0887\"], [0.1111111111111111, \"#46039f\"], [0.2222222222222222, \"#7201a8\"], [0.3333333333333333, \"#9c179e\"], [0.4444444444444444, \"#bd3786\"], [0.5555555555555556, \"#d8576b\"], [0.6666666666666666, \"#ed7953\"], [0.7777777777777778, \"#fb9f3a\"], [0.8888888888888888, \"#fdca26\"], [1.0, \"#f0f921\"]], \"type\": \"surface\"}], \"table\": [{\"cells\": {\"fill\": {\"color\": \"#EBF0F8\"}, \"line\": {\"color\": \"white\"}}, \"header\": {\"fill\": {\"color\": \"#C8D4E3\"}, \"line\": {\"color\": \"white\"}}, \"type\": \"table\"}]}, \"layout\": {\"annotationdefaults\": {\"arrowcolor\": \"#2a3f5f\", \"arrowhead\": 0, \"arrowwidth\": 1}, \"autotypenumbers\": \"strict\", \"coloraxis\": {\"colorbar\": {\"outlinewidth\": 0, \"ticks\": \"\"}}, \"colorscale\": {\"diverging\": [[0, \"#8e0152\"], [0.1, \"#c51b7d\"], [0.2, \"#de77ae\"], [0.3, \"#f1b6da\"], [0.4, \"#fde0ef\"], [0.5, \"#f7f7f7\"], [0.6, \"#e6f5d0\"], [0.7, \"#b8e186\"], [0.8, \"#7fbc41\"], [0.9, \"#4d9221\"], [1, \"#276419\"]], \"sequential\": [[0.0, \"#0d0887\"], [0.1111111111111111, \"#46039f\"], [0.2222222222222222, \"#7201a8\"], [0.3333333333333333, \"#9c179e\"], [0.4444444444444444, \"#bd3786\"], [0.5555555555555556, \"#d8576b\"], [0.6666666666666666, \"#ed7953\"], [0.7777777777777778, \"#fb9f3a\"], [0.8888888888888888, \"#fdca26\"], [1.0, \"#f0f921\"]], \"sequentialminus\": [[0.0, \"#0d0887\"], [0.1111111111111111, \"#46039f\"], [0.2222222222222222, \"#7201a8\"], [0.3333333333333333, \"#9c179e\"], [0.4444444444444444, \"#bd3786\"], [0.5555555555555556, \"#d8576b\"], [0.6666666666666666, \"#ed7953\"], [0.7777777777777778, \"#fb9f3a\"], [0.8888888888888888, \"#fdca26\"], [1.0, \"#f0f921\"]]}, \"colorway\": [\"#636efa\", \"#EF553B\", \"#00cc96\", \"#ab63fa\", \"#FFA15A\", \"#19d3f3\", \"#FF6692\", \"#B6E880\", \"#FF97FF\", \"#FECB52\"], \"font\": {\"color\": \"#2a3f5f\"}, \"geo\": {\"bgcolor\": \"white\", \"lakecolor\": \"white\", \"landcolor\": \"#E5ECF6\", \"showlakes\": true, \"showland\": true, \"subunitcolor\": \"white\"}, \"hoverlabel\": {\"align\": \"left\"}, \"hovermode\": \"closest\", \"mapbox\": {\"style\": \"light\"}, \"paper_bgcolor\": \"white\", \"plot_bgcolor\": \"#E5ECF6\", \"polar\": {\"angularaxis\": {\"gridcolor\": \"white\", \"linecolor\": \"white\", \"ticks\": \"\"}, \"bgcolor\": \"#E5ECF6\", \"radialaxis\": {\"gridcolor\": \"white\", \"linecolor\": \"white\", \"ticks\": \"\"}}, \"scene\": {\"xaxis\": {\"backgroundcolor\": \"#E5ECF6\", \"gridcolor\": \"white\", \"gridwidth\": 2, \"linecolor\": \"white\", \"showbackground\": true, \"ticks\": \"\", \"zerolinecolor\": \"white\"}, \"yaxis\": {\"backgroundcolor\": \"#E5ECF6\", \"gridcolor\": \"white\", \"gridwidth\": 2, \"linecolor\": \"white\", \"showbackground\": true, \"ticks\": \"\", \"zerolinecolor\": \"white\"}, \"zaxis\": {\"backgroundcolor\": \"#E5ECF6\", \"gridcolor\": \"white\", \"gridwidth\": 2, \"linecolor\": \"white\", \"showbackground\": true, \"ticks\": \"\", \"zerolinecolor\": \"white\"}}, \"shapedefaults\": {\"line\": {\"color\": \"#2a3f5f\"}}, \"ternary\": {\"aaxis\": {\"gridcolor\": \"white\", \"linecolor\": \"white\", \"ticks\": \"\"}, \"baxis\": {\"gridcolor\": \"white\", \"linecolor\": \"white\", \"ticks\": \"\"}, \"bgcolor\": \"#E5ECF6\", \"caxis\": {\"gridcolor\": \"white\", \"linecolor\": \"white\", \"ticks\": \"\"}}, \"title\": {\"x\": 0.05}, \"xaxis\": {\"automargin\": true, \"gridcolor\": \"white\", \"linecolor\": \"white\", \"ticks\": \"\", \"title\": {\"standoff\": 15}, \"zerolinecolor\": \"white\", \"zerolinewidth\": 2}, \"yaxis\": {\"automargin\": true, \"gridcolor\": \"white\", \"linecolor\": \"white\", \"ticks\": \"\", \"title\": {\"standoff\": 15}, \"zerolinecolor\": \"white\", \"zerolinewidth\": 2}}}},                        {\"responsive\": true}                    ).then(function(){\n",
       "                            \n",
       "var gd = document.getElementById('447902f5-21d3-4846-9cc8-7c32a3025008');\n",
       "var x = new MutationObserver(function (mutations, observer) {{\n",
       "        var display = window.getComputedStyle(gd).display;\n",
       "        if (!display || display === 'none') {{\n",
       "            console.log([gd, 'removed!']);\n",
       "            Plotly.purge(gd);\n",
       "            observer.disconnect();\n",
       "        }}\n",
       "}});\n",
       "\n",
       "// Listen for the removal of the full notebook cells\n",
       "var notebookContainer = gd.closest('#notebook-container');\n",
       "if (notebookContainer) {{\n",
       "    x.observe(notebookContainer, {childList: true});\n",
       "}}\n",
       "\n",
       "// Listen for the clearing of the current output cell\n",
       "var outputEl = gd.closest('.output');\n",
       "if (outputEl) {{\n",
       "    x.observe(outputEl, {childList: true});\n",
       "}}\n",
       "\n",
       "                        })                };                });            </script>        </div>"
      ]
     },
     "metadata": {},
     "output_type": "display_data"
    }
   ],
   "source": [
    "# Creating a 3D-Scatter with the PCA data and the clusters\n",
    "# Plot the 3D-scatter with x=\"Annual Income\", y=\"Spending Score (1-100)\" and z=\"Age\"\n",
    "fig = px.scatter_3d(\n",
    "clustered_df,\n",
    "x='PC 1',\n",
    "y='PC 2',\n",
    "z='PC 3',\n",
    "hover_name='CoinName',\n",
    "hover_data=['Algorithm'],\n",
    "color='Class')\n",
    "fig.show()\n"
   ]
  },
  {
   "cell_type": "code",
   "execution_count": 32,
   "metadata": {},
   "outputs": [
    {
     "data": {},
     "metadata": {},
     "output_type": "display_data"
    },
    {
     "data": {
      "application/vnd.holoviews_exec.v0+json": "",
      "text/html": [
       "<div id='1102'>\n",
       "\n",
       "\n",
       "\n",
       "\n",
       "\n",
       "  <div class=\"bk-root\" id=\"c1491bc4-9f8a-4fcb-80b1-7a54dc70dad0\" data-root-id=\"1102\"></div>\n",
       "</div>\n",
       "<script type=\"application/javascript\">(function(root) {\n",
       "  function embed_document(root) {\n",
       "  var docs_json = {\"996495a2-906f-4ee7-bb33-7149a27bb256\":{\"roots\":{\"references\":[{\"attributes\":{\"margin\":[5,5,5,5],\"name\":\"HSpacer01706\",\"sizing_mode\":\"stretch_width\"},\"id\":\"1103\",\"type\":\"Spacer\"},{\"attributes\":{},\"id\":\"1127\",\"type\":\"NumberEditor\"},{\"attributes\":{},\"id\":\"1116\",\"type\":\"StringFormatter\"},{\"attributes\":{\"editor\":{\"id\":\"1132\"},\"field\":\"Class\",\"formatter\":{\"id\":\"1131\"},\"title\":\"Class\"},\"id\":\"1133\",\"type\":\"TableColumn\"},{\"attributes\":{\"source\":{\"id\":\"1104\"}},\"id\":\"1137\",\"type\":\"CDSView\"},{\"attributes\":{},\"id\":\"1105\",\"type\":\"Selection\"},{\"attributes\":{\"columns\":[{\"id\":\"1108\"},{\"id\":\"1113\"},{\"id\":\"1118\"},{\"id\":\"1123\"},{\"id\":\"1128\"},{\"id\":\"1133\"}],\"height\":300,\"reorderable\":false,\"source\":{\"id\":\"1104\"},\"view\":{\"id\":\"1137\"},\"width\":700},\"id\":\"1136\",\"type\":\"DataTable\"},{\"attributes\":{\"children\":[{\"id\":\"1103\"},{\"id\":\"1136\"},{\"id\":\"1142\"}],\"margin\":[0,0,0,0],\"name\":\"Row01702\",\"tags\":[\"embedded\"]},\"id\":\"1102\",\"type\":\"Row\"},{\"attributes\":{},\"id\":\"1117\",\"type\":\"StringEditor\"},{\"attributes\":{\"editor\":{\"id\":\"1117\"},\"field\":\"ProofType\",\"formatter\":{\"id\":\"1116\"},\"title\":\"ProofType\"},\"id\":\"1118\",\"type\":\"TableColumn\"},{\"attributes\":{\"editor\":{\"id\":\"1127\"},\"field\":\"TotalCoinsMined\",\"formatter\":{\"id\":\"1126\"},\"title\":\"TotalCoinsMined\"},\"id\":\"1128\",\"type\":\"TableColumn\"},{\"attributes\":{},\"id\":\"1106\",\"type\":\"StringFormatter\"},{\"attributes\":{},\"id\":\"1121\",\"type\":\"StringFormatter\"},{\"attributes\":{\"margin\":[5,5,5,5],\"name\":\"HSpacer01707\",\"sizing_mode\":\"stretch_width\"},\"id\":\"1142\",\"type\":\"Spacer\"},{\"attributes\":{},\"id\":\"1131\",\"type\":\"NumberFormatter\"},{\"attributes\":{},\"id\":\"1107\",\"type\":\"StringEditor\"},{\"attributes\":{},\"id\":\"1122\",\"type\":\"StringEditor\"},{\"attributes\":{\"editor\":{\"id\":\"1107\"},\"field\":\"CoinName\",\"formatter\":{\"id\":\"1106\"},\"title\":\"CoinName\"},\"id\":\"1108\",\"type\":\"TableColumn\"},{\"attributes\":{},\"id\":\"1132\",\"type\":\"IntEditor\"},{\"attributes\":{\"data\":{\"Algorithm\":[\"Scrypt\",\"Scrypt\",\"X13\",\"SHA-256\",\"Ethash\",\"Scrypt\",\"X11\",\"CryptoNight-V7\",\"Ethash\",\"Equihash\",\"SHA-512\",\"Multiple\",\"SHA-256\",\"SHA-256\",\"Scrypt\",\"X15\",\"X11\",\"Scrypt\",\"Scrypt\",\"Scrypt\",\"Multiple\",\"Scrypt\",\"SHA-256\",\"Scrypt\",\"Scrypt\",\"Scrypt\",\"Quark\",\"Groestl\",\"Scrypt\",\"Scrypt\",\"Scrypt\",\"Scrypt\",\"Scrypt\",\"X11\",\"Scrypt\",\"Groestl\",\"Multiple\",\"SHA-256\",\"Scrypt\",\"Scrypt\",\"Scrypt\",\"Scrypt\",\"PoS\",\"Scrypt\",\"Scrypt\",\"NeoScrypt\",\"Scrypt\",\"Scrypt\",\"Scrypt\",\"Scrypt\",\"X11\",\"Scrypt\",\"X11\",\"SHA-256\",\"Scrypt\",\"Scrypt\",\"Scrypt\",\"SHA3\",\"Scrypt\",\"HybridScryptHash256\",\"Scrypt\",\"Scrypt\",\"SHA-256\",\"Scrypt\",\"X13\",\"Scrypt\",\"SHA-256\",\"Scrypt\",\"X13\",\"NeoScrypt\",\"Scrypt\",\"Scrypt\",\"Scrypt\",\"Scrypt\",\"Scrypt\",\"Scrypt\",\"X11\",\"X11\",\"SHA-256\",\"Multiple\",\"SHA-256\",\"PHI1612\",\"X11\",\"SHA-256\",\"SHA-256\",\"SHA-256\",\"X11\",\"Scrypt\",\"Scrypt\",\"Scrypt\",\"Scrypt\",\"Lyra2REv2\",\"Scrypt\",\"X11\",\"Multiple\",\"SHA-256\",\"X13\",\"Scrypt\",\"CryptoNight\",\"CryptoNight\",\"Shabal256\",\"Counterparty\",\"Scrypt\",\"SHA-256\",\"Groestl\",\"Scrypt\",\"Scrypt\",\"Scrypt\",\"X13\",\"Scrypt\",\"Scrypt\",\"Scrypt\",\"Scrypt\",\"X13\",\"Scrypt\",\"Stanford Folding\",\"X11\",\"Multiple\",\"QuBit\",\"Scrypt\",\"Scrypt\",\"Scrypt\",\"M7 POW\",\"Scrypt\",\"SHA-256\",\"Scrypt\",\"X11\",\"SHA3\",\"X11\",\"Lyra2RE\",\"SHA-256\",\"QUAIT\",\"X11\",\"X11\",\"Scrypt\",\"Scrypt\",\"Scrypt\",\"Ethash\",\"X13\",\"Blake2b\",\"SHA-256\",\"X15\",\"X11\",\"SHA-256\",\"BLAKE256\",\"Scrypt\",\"1GB AES Pattern Search\",\"SHA-256\",\"X11\",\"Scrypt\",\"SHA-256\",\"SHA-256\",\"NIST5\",\"Scrypt\",\"Scrypt\",\"X11\",\"Dagger\",\"Scrypt\",\"X11GOST\",\"X11\",\"Scrypt\",\"SHA-256\",\"Scrypt\",\"PoS\",\"Scrypt\",\"X11\",\"X11\",\"SHA-256\",\"SHA-256\",\"NIST5\",\"X11\",\"Scrypt\",\"POS 3.0\",\"Scrypt\",\"Scrypt\",\"Scrypt\",\"X13\",\"X11\",\"X11\",\"Equihash\",\"X11\",\"Scrypt\",\"CryptoNight\",\"SHA-256\",\"SHA-256\",\"X11\",\"Scrypt\",\"Multiple\",\"Scrypt\",\"Scrypt\",\"Scrypt\",\"SHA-256\",\"Scrypt\",\"Scrypt\",\"SHA-256D\",\"PoS\",\"Scrypt\",\"X11\",\"Lyra2Z\",\"PoS\",\"X13\",\"X14\",\"PoS\",\"SHA-256D\",\"Ethash\",\"Equihash\",\"DPoS\",\"X11\",\"Scrypt\",\"X11\",\"X13\",\"X11\",\"PoS\",\"Scrypt\",\"Scrypt\",\"X11\",\"PoS\",\"X11\",\"SHA-256\",\"Scrypt\",\"X11\",\"Scrypt\",\"Scrypt\",\"X11\",\"CryptoNight\",\"Scrypt\",\"Scrypt\",\"Scrypt\",\"Scrypt\",\"Quark\",\"QuBit\",\"Scrypt\",\"CryptoNight\",\"Lyra2RE\",\"Scrypt\",\"SHA-256\",\"X11\",\"Scrypt\",\"X11\",\"Scrypt\",\"CryptoNight-V7\",\"Scrypt\",\"Scrypt\",\"Scrypt\",\"X13\",\"X11\",\"Equihash\",\"Scrypt\",\"Scrypt\",\"Lyra2RE\",\"Scrypt\",\"Dagger-Hashimoto\",\"X11\",\"Blake2S\",\"X11\",\"Scrypt\",\"PoS\",\"X11\",\"NIST5\",\"PoS\",\"X11\",\"Scrypt\",\"Scrypt\",\"Scrypt\",\"SHA-256\",\"X11\",\"Scrypt\",\"Scrypt\",\"SHA-256\",\"PoS\",\"Scrypt\",\"X15\",\"SHA-256\",\"Scrypt\",\"POS 3.0\",\"CryptoNight-V7\",\"536\",\"Argon2d\",\"Blake2b\",\"Cloverhash\",\"CryptoNight\",\"NIST5\",\"X11\",\"NIST5\",\"Skein\",\"Scrypt\",\"X13\",\"Scrypt\",\"X11\",\"X11\",\"Scrypt\",\"CryptoNight\",\"X13\",\"Time Travel\",\"Scrypt\",\"Keccak\",\"SkunkHash v2 Raptor\",\"X11\",\"Skein\",\"SHA-256\",\"X11\",\"Scrypt\",\"VeChainThor Authority\",\"Scrypt\",\"PoS\",\"Scrypt\",\"Scrypt\",\"Scrypt\",\"Scrypt\",\"Scrypt\",\"Scrypt\",\"Scrypt\",\"CryptoNight\",\"SHA-512\",\"Ouroboros\",\"X11\",\"Equihash\",\"NeoScrypt\",\"X11\",\"Scrypt\",\"NeoScrypt\",\"Lyra2REv2\",\"Equihash\",\"Scrypt\",\"SHA-256\",\"NIST5\",\"PHI1612\",\"Dagger\",\"Scrypt\",\"Quark\",\"Scrypt\",\"POS 2.0\",\"Scrypt\",\"SHA-256\",\"X11\",\"NeoScrypt\",\"Ethash\",\"NeoScrypt\",\"X11\",\"DPoS\",\"NIST5\",\"X13\",\"Multiple\",\"Scrypt\",\"CryptoNight\",\"CryptoNight\",\"Ethash\",\"NIST5\",\"Quark\",\"X11\",\"CryptoNight-V7\",\"Scrypt\",\"Scrypt\",\"Scrypt\",\"X11\",\"BLAKE256\",\"X11\",\"NeoScrypt\",\"Quark\",\"NeoScrypt\",\"Scrypt\",\"Scrypt\",\"Scrypt\",\"X11\",\"X11\",\"SHA-256\",\"C11\",\"POS 3.0\",\"Ethash\",\"Scrypt\",\"CryptoNight\",\"SkunkHash\",\"Scrypt\",\"CryptoNight\",\"Scrypt\",\"Dagger\",\"Lyra2REv2\",\"X13\",\"Proof-of-BibleHash\",\"SHA-256 + Hive\",\"Scrypt\",\"Scrypt\",\"X11\",\"C11\",\"Proof-of-Authority\",\"X11\",\"XEVAN\",\"Scrypt\",\"VBFT\",\"Ethash\",\"CryptoNight\",\"Scrypt\",\"IMesh\",\"NIST5\",\"Scrypt\",\"Scrypt\",\"Equihash\",\"Scrypt\",\"Lyra2Z\",\"Green Protocol\",\"PoS\",\"Scrypt\",\"Semux BFT consensus\",\"X11\",\"Quark\",\"PoS\",\"CryptoNight\",\"X16R\",\"Scrypt\",\"NIST5\",\"Lyra2RE\",\"XEVAN\",\"Tribus\",\"Scrypt\",\"Lyra2Z\",\"CryptoNight\",\"CryptoNight Heavy\",\"CryptoNight\",\"Scrypt\",\"Scrypt\",\"Jump Consistent Hash\",\"SHA-256D\",\"CryptoNight\",\"Scrypt\",\"X15\",\"Scrypt\",\"Quark\",\"SHA-256\",\"DPoS\",\"X16R\",\"HMQ1725\",\"X11\",\"X16R\",\"Quark\",\"Quark\",\"Scrypt\",\"Lyra2REv2\",\"Quark\",\"Scrypt\",\"Scrypt\",\"CryptoNight-V7\",\"Cryptonight-GPU\",\"XEVAN\",\"CryptoNight Heavy\",\"X11\",\"X11\",\"Scrypt\",\"PoS\",\"SHA-256\",\"Keccak\",\"X11\",\"X11\",\"Scrypt\",\"SHA-512\",\"X16R\",\"ECC 256K1\",\"Equihash\",\"XEVAN\",\"Lyra2Z\",\"SHA-256\",\"XEVAN\",\"X11\",\"CryptoNight\",\"Quark\",\"Blake\",\"Blake\",\"Equihash\",\"Exosis\",\"Scrypt\",\"Scrypt\",\"Equihash\",\"Quark\",\"Equihash\",\"Quark\",\"Scrypt\",\"QuBit\",\"X11\",\"Scrypt\",\"XEVAN\",\"SHA-256D\",\"X11\",\"SHA-256\",\"X13\",\"SHA-256\",\"X11\",\"DPoS\",\"Scrypt\",\"Scrypt\",\"X11\",\"NeoScrypt\",\"Scrypt\",\"Blake\",\"Scrypt\",\"SHA-256\",\"Scrypt\",\"X11\",\"Scrypt\",\"Scrypt\",\"SHA-256\",\"X11\",\"SHA-256\",\"Scrypt\",\"Scrypt\",\"Scrypt\",\"Groestl\",\"X11\",\"Scrypt\",\"PoS\",\"Scrypt\",\"Scrypt\",\"X11\",\"SHA-256\",\"DPoS\",\"Scrypt\",\"Scrypt\",\"NeoScrypt\",\"Multiple\",\"X13\",\"Equihash+Scrypt\",\"DPoS\",\"Ethash\",\"DPoS\",\"SHA-256\",\"Leased POS\",\"PoS\",\"TRC10\",\"PoS\",\"SHA-256\",\"Scrypt\",\"CryptoNight\",\"Equihash\",\"Scrypt\"],\"Class\":{\"__ndarray__\":\"AAAAAAAAAAAAAAAAAQAAAAEAAAABAAAAAAAAAAEAAAABAAAAAQAAAAAAAAABAAAAAAAAAAAAAAABAAAAAAAAAAEAAAABAAAAAAAAAAAAAAABAAAAAQAAAAEAAAABAAAAAQAAAAAAAAABAAAAAQAAAAEAAAAAAAAAAQAAAAAAAAABAAAAAQAAAAAAAAAAAAAAAQAAAAEAAAABAAAAAQAAAAEAAAABAAAAAAAAAAAAAAABAAAAAQAAAAEAAAABAAAAAQAAAAAAAAAAAAAAAQAAAAAAAAABAAAAAQAAAAEAAAABAAAAAAAAAAEAAAABAAAAAAAAAAEAAAAAAAAAAAAAAAAAAAABAAAAAQAAAAEAAAAAAAAAAAAAAAAAAAAAAAAAAAAAAAEAAAABAAAAAQAAAAAAAAAAAAAAAQAAAAAAAAABAAAAAAAAAAAAAAABAAAAAQAAAAEAAAABAAAAAAAAAAAAAAABAAAAAAAAAAEAAAABAAAAAAAAAAAAAAABAAAAAAAAAAAAAAABAAAAAQAAAAAAAAAAAAAAAQAAAAAAAAAAAAAAAQAAAAAAAAABAAAAAAAAAAEAAAAAAAAAAQAAAAAAAAAAAAAAAQAAAAEAAAAAAAAAAQAAAAEAAAABAAAAAAAAAAEAAAABAAAAAQAAAAEAAAABAAAAAAAAAAAAAAABAAAAAQAAAAEAAAAAAAAAAQAAAAAAAAABAAAAAQAAAAAAAAABAAAAAAAAAAEAAAAAAAAAAAAAAAEAAAABAAAAAAAAAAEAAAABAAAAAAAAAAAAAAABAAAAAAAAAAEAAAAAAAAAAAAAAAAAAAABAAAAAQAAAAEAAAABAAAAAAAAAAAAAAAAAAAAAAAAAAAAAAABAAAAAQAAAAAAAAAAAAAAAAAAAAAAAAAAAAAAAQAAAAAAAAAAAAAAAAAAAAAAAAAAAAAAAQAAAAAAAAABAAAAAAAAAAAAAAABAAAAAAAAAAEAAAAAAAAAAAAAAAEAAAAAAAAAAQAAAAAAAAABAAAAAAAAAAEAAAAAAAAAAAAAAAAAAAAAAAAAAQAAAAAAAAAAAAAAAAAAAAAAAAAAAAAAAQAAAAEAAAAAAAAAAAAAAAEAAAABAAAAAAAAAAAAAAAAAAAAAAAAAAAAAAABAAAAAAAAAAAAAAAAAAAAAAAAAAAAAAAAAAAAAAAAAAAAAAABAAAAAAAAAAAAAAAAAAAAAAAAAAAAAAAAAAAAAQAAAAEAAAABAAAAAAAAAAAAAAAAAAAAAAAAAAEAAAAAAAAAAQAAAAAAAAAAAAAAAQAAAAAAAAABAAAAAQAAAAAAAAABAAAAAQAAAAAAAAABAAAAAAAAAAAAAAAAAAAAAQAAAAAAAAAAAAAAAQAAAAAAAAAAAAAAAAAAAAAAAAAAAAAAAAAAAAAAAAABAAAAAAAAAAEAAAAAAAAAAAAAAAAAAAAAAAAAAQAAAAAAAAABAAAAAAAAAAEAAAABAAAAAQAAAAEAAAAAAAAAAQAAAAAAAAAAAAAAAQAAAAAAAAABAAAAAQAAAAEAAAAAAAAAAQAAAAAAAAABAAAAAQAAAAEAAAAAAAAAAQAAAAAAAAABAAAAAAAAAAAAAAAAAAAAAQAAAAAAAAABAAAAAQAAAAEAAAABAAAAAQAAAAAAAAAAAAAAAQAAAAAAAAAAAAAAAAAAAAEAAAAAAAAAAQAAAAAAAAABAAAAAAAAAAEAAAAAAAAAAAAAAAAAAAAAAAAAAQAAAAAAAAAAAAAAAQAAAAAAAAAAAAAAAAAAAAEAAAABAAAAAQAAAAEAAAAAAAAAAAAAAAAAAAAAAAAAAQAAAAAAAAABAAAAAQAAAAEAAAAAAAAAAAAAAAEAAAABAAAAAAAAAAAAAAABAAAAAAAAAAEAAAABAAAAAQAAAAAAAAABAAAAAQAAAAAAAAAAAAAAAAAAAAEAAAABAAAAAQAAAAAAAAAAAAAAAAAAAAEAAAABAAAAAAAAAAEAAAABAAAAAQAAAAEAAAAAAAAAAwAAAAMAAAABAAAAAQAAAAEAAAAAAAAAAwAAAAAAAAAAAAAAAAAAAAAAAAABAAAAAQAAAAEAAAABAAAAAAAAAAAAAAAAAAAAAQAAAAAAAAABAAAAAAAAAAAAAAAAAAAAAAAAAAEAAAAAAAAAAAAAAAEAAAAAAAAAAAAAAAEAAAABAAAAAAAAAAEAAAAAAAAAAQAAAAEAAAABAAAAAQAAAAAAAAAAAAAAAQAAAAAAAAABAAAAAAAAAAAAAAAAAAAAAAAAAAAAAAAAAAAAAQAAAAEAAAABAAAAAAAAAAAAAAAAAAAAAAAAAAAAAAAAAAAAAQAAAAAAAAABAAAAAQAAAAEAAAABAAAAAAAAAAAAAAAAAAAAAAAAAAEAAAAAAAAAAAAAAAEAAAAAAAAAAAAAAAEAAAADAAAAAQAAAAAAAAABAAAAAQAAAAAAAAAAAAAAAQAAAAAAAAABAAAAAQAAAAEAAAABAAAAAQAAAAAAAAABAAAAAAAAAAEAAAAAAAAAAAAAAAEAAAAAAAAAAAAAAAAAAAAAAAAAAAAAAAEAAAABAAAAAQAAAAAAAAAAAAAAAAAAAAEAAAAAAAAAAQAAAAAAAAABAAAAAAAAAAAAAAAAAAAAAAAAAAEAAAAAAAAAAAAAAAAAAAABAAAAAAAAAAEAAAAAAAAAAQAAAAAAAAAAAAAAAAAAAAEAAAABAAAAAAAAAAAAAAAAAAAAAAAAAAAAAAAAAAAAAQAAAAAAAAABAAAAAAAAAAEAAAAAAAAAAAAAAAAAAAAAAAAAAgAAAAAAAAAAAAAAAAAAAAEAAAABAAAAAAAAAA==\",\"dtype\":\"int32\",\"order\":\"little\",\"shape\":[532]},\"CoinName\":[\"42 Coin\",\"404Coin\",\"EliteCoin\",\"Bitcoin\",\"Ethereum\",\"Litecoin\",\"Dash\",\"Monero\",\"Ethereum Classic\",\"ZCash\",\"Bitshares\",\"DigiByte\",\"BitcoinDark\",\"PayCoin\",\"ProsperCoin\",\"KoboCoin\",\"Spreadcoin\",\"Argentum\",\"Aurora Coin\",\"BlueCoin\",\"MyriadCoin\",\"MoonCoin\",\"ZetaCoin\",\"SexCoin\",\"Quatloo\",\"EnergyCoin\",\"QuarkCoin\",\"Riecoin\",\"Digitalcoin \",\"BitBar\",\"Catcoin\",\"CryptoBullion\",\"CannaCoin\",\"CryptCoin\",\"CasinoCoin\",\"Diamond\",\"Verge\",\"DevCoin\",\"EarthCoin\",\"E-Gulden\",\"Einsteinium\",\"Emerald\",\"Exclusive Coin\",\"FlutterCoin\",\"Franko\",\"FeatherCoin\",\"GrandCoin\",\"GlobalCoin\",\"GoldCoin\",\"HoboNickels\",\"HyperStake\",\"Infinite Coin\",\"IOCoin\",\"IXcoin\",\"KrugerCoin\",\"LuckyCoin\",\"Litebar \",\"MaxCoin\",\"MegaCoin\",\"MediterraneanCoin\",\"MintCoin\",\"MinCoin\",\"MazaCoin\",\"Nautilus Coin\",\"NavCoin\",\"NobleCoin\",\"Namecoin\",\"NyanCoin\",\"OpalCoin\",\"Orbitcoin\",\"PotCoin\",\"PhoenixCoin\",\"Reddcoin\",\"RonPaulCoin\",\"StableCoin\",\"SmartCoin\",\"SuperCoin\",\"SyncCoin\",\"SysCoin\",\"TeslaCoin\",\"TigerCoin\",\"TittieCoin\",\"TorCoin\",\"TerraCoin\",\"UnbreakableCoin\",\"Unobtanium\",\"UroCoin\",\"UnitaryStatus Dollar\",\"UltraCoin\",\"ViaCoin\",\"VeriCoin\",\"Vertcoin\",\"WorldCoin\",\"X11 Coin\",\"Crypti\",\"JouleCoin\",\"StealthCoin\",\"ZCC Coin\",\"ByteCoin\",\"DigitalNote \",\"BurstCoin\",\"StorjCoin\",\"MonaCoin\",\"Neutron\",\"FairCoin\",\"Gulden\",\"RubyCoin\",\"PesetaCoin\",\"Kore\",\"Wild Beast Coin\",\"Dnotes\",\"Flo\",\"8BIT Coin\",\"Sativa Coin\",\"ArtByte\",\"Folding Coin\",\"Ucoin\",\"Unitus\",\"CypherPunkCoin\",\"OmniCron\",\"Vtorrent\",\"GreenCoin\",\"Cryptonite\",\"MasterCoin\",\"SoonCoin\",\"1Credit\",\"IslaCoin\",\"Nexus\",\"MarsCoin \",\"Crypto\",\"Anarchists Prime\",\"Droidz\",\"BowsCoin\",\"Squall Coin\",\"Song Coin\",\"BitZeny\",\"Diggits\",\"Expanse\",\"Paycon\",\"Siacoin\",\"Emercoin\",\"EverGreenCoin\",\"MindCoin\",\"I0coin\",\"Decred\",\"Revolution VR\",\"HOdlcoin\",\"EDRCoin\",\"Hitcoin\",\"Gamecredits\",\"DubaiCoin\",\"CarpeDiemCoin\",\"PWR Coin\",\"BillaryCoin\",\"GPU Coin\",\"Adzcoin\",\"SoilCoin\",\"YoCoin\",\"SibCoin\",\"EuropeCoin\",\"ZeitCoin\",\"SwingCoin\",\"SafeExchangeCoin\",\"Nebuchadnezzar\",\"Francs\",\"BolivarCoin\",\"Ratecoin\",\"Revenu\",\"Clockcoin\",\"VIP Tokens\",\"BitSend\",\"Omni\",\"Let it Ride\",\"PutinCoin\",\"iBankCoin\",\"Frankywillcoin\",\"MudraCoin\",\"PizzaCoin\",\"Lutetium Coin\",\"Komodo\",\"GoldBlocks\",\"CarterCoin\",\"Karbo\",\"BitTokens\",\"ZayedCoin\",\"MustangCoin\",\"ZoneCoin\",\"Circuits of Value\",\"RootCoin\",\"DopeCoin\",\"BitCurrency\",\"DollarCoin\",\"Swiscoin\",\"Shilling\",\"BuzzCoin\",\"Opair\",\"PesoBit\",\"Halloween Coin\",\"ZCoin\",\"CoffeeCoin\",\"RoyalCoin\",\"GanjaCoin V2\",\"TeamUP\",\"LanaCoin\",\"Elementrem\",\"ZClassic\",\"ARK\",\"InsaneCoin\",\"KiloCoin\",\"ArtexCoin\",\"EmberCoin\",\"XenixCoin\",\"FreeCoin\",\"PLNCoin\",\"AquariusCoin\",\"Kurrent\",\"Creatio\",\"Eternity\",\"Eurocoin\",\"BitcoinFast\",\"Stakenet\",\"BitConnect Coin\",\"MoneyCoin\",\"Enigma\",\"Cannabis Industry Coin\",\"Russiacoin\",\"PandaCoin\",\"GameUnits\",\"GAKHcoin\",\"Allsafe\",\"LiteCreed\",\"OsmiumCoin\",\"Bikercoins\",\"HexxCoin\",\"Klingon Empire Darsek\",\"Internet of People\",\"KushCoin\",\"Printerium\",\"PacCoin\",\"Impeach\",\"Citadel\",\"Zilbercoin\",\"FirstCoin\",\"BeaverCoin\",\"FindCoin\",\"VaultCoin\",\"Zero\",\"OpenChat\",\"Canada eCoin\",\"Zoin\",\"RenosCoin\",\"DubaiCoin\",\"VirtacoinPlus\",\"TajCoin\",\"Impact\",\"EB3coin\",\"Atmos\",\"HappyCoin\",\"Coinonat\",\"MacronCoin\",\"Condensate\",\"Independent Money System\",\"ArgusCoin\",\"LomoCoin\",\"ProCurrency\",\"GoldReserve\",\"BenjiRolls\",\"GrowthCoin\",\"ILCoin\",\"Phreak\",\"Degas Coin\",\"HTML5 Coin\",\"Ultimate Secure Cash\",\"EquiTrader\",\"QTUM\",\"Quantum Resistant Ledger\",\"Espers\",\"Dynamic\",\"Nano\",\"ChanCoin\",\"Dinastycoin\",\"Denarius\",\"DigitalPrice\",\"Virta Unique Coin\",\"Bitcoin Planet\",\"Unify\",\"BritCoin\",\"SocialCoin\",\"ArcticCoin\",\"DAS\",\"Linda\",\"LeviarCoin\",\"DeepOnion\",\"Bitcore\",\"gCn Coin\",\"SmartCash\",\"Signatum\",\"Onix\",\"Cream\",\"Bitcoin Cash\",\"Monoeci\",\"Draftcoin\",\"Vechain\",\"Sojourn Coin\",\"Stakecoin\",\"NewYorkCoin\",\"FrazCoin\",\"Kronecoin\",\"AdCoin\",\"Linx\",\"CoinonatX\",\"Ethereum Dark\",\"Sumokoin\",\"Obsidian\",\"Cardano\",\"Regalcoin\",\"BitcoinZ\",\"TrezarCoin\",\"Elements\",\"TerraNovaCoin\",\"VIVO Coin\",\"Rupee\",\"Bitcoin Gold\",\"WomenCoin\",\"Theresa May Coin\",\"NamoCoin\",\"LUXCoin\",\"Pirl\",\"Xios\",\"Bitcloud 2.0\",\"eBoost\",\"KekCoin\",\"BlackholeCoin\",\"Infinity Economics\",\"Pura\",\"Innova\",\"Ellaism\",\"GoByte\",\"Magnet\",\"Lamden Tau\",\"Electra\",\"Bitcoin Diamond\",\"SHIELD\",\"Cash & Back Coin\",\"UltraNote\",\"BitCoal\",\"DaxxCoin\",\"Bulwark\",\"Kalkulus\",\"AC3\",\"Lethean\",\"GermanCoin\",\"LiteCoin Ultra\",\"PopularCoin\",\"PhantomX\",\"Photon\",\"Sucre\",\"SparksPay\",\"Digiwage\",\"GunCoin\",\"IrishCoin\",\"Trollcoin\",\"Litecoin Plus\",\"Monkey Project\",\"Pioneer Coin\",\"UnitedBitcoin\",\"Interzone\",\"TokenPay\",\"1717 Masonic Commemorative Token\",\"My Big Coin\",\"TurtleCoin\",\"MUNcoin\",\"Unified Society USDEX\",\"Niobio Cash\",\"ShareChain\",\"Travelflex\",\"KREDS\",\"Tokyo Coin\",\"BiblePay\",\"LitecoinCash\",\"BitFlip\",\"LottoCoin\",\"Crypto Improvement Fund\",\"Stipend\",\"Poa Network\",\"Pushi\",\"Ellerium\",\"Velox\",\"Ontology\",\"Callisto Network\",\"BitTube\",\"Poseidon\",\"Aidos Kuneen\",\"Bitspace\",\"Briacoin\",\"Ignition\",\"Bitrolium\",\"MedicCoin\",\"Alpenschillling\",\"Bitcoin Green\",\"Deviant Coin\",\"Abjcoin\",\"Semux\",\"FuturoCoin\",\"Carebit\",\"Zealium\",\"Monero Classic\",\"Proton\",\"iDealCash\",\"Jumpcoin\",\"Infinex\",\"Bitcoin Incognito\",\"KEYCO\",\"HollyWoodCoin\",\"GINcoin\",\"PlatinCoin\",\"Loki\",\"Newton Coin\",\"Swisscoin\",\"Xt3ch\",\"MassGrid\",\"TheVig\",\"PluraCoin\",\"EmaratCoin\",\"Dekado\",\"Lynx\",\"Poseidon Quark\",\"BitcoinWSpectrum\",\"Muse\",\"Motion\",\"PlusOneCoin\",\"Axe\",\"Trivechain\",\"Dystem\",\"Giant\",\"Peony Coin\",\"Absolute Coin\",\"Vitae\",\"HexCoin\",\"TPCash\",\"Webchain\",\"Ryo\",\"Urals Coin\",\"Qwertycoin\",\"ARENON\",\"EUNO\",\"MMOCoin\",\"Ketan\",\"Project Pai\",\"XDNA\",\"PAXEX\",\"Azart\",\"ThunderStake\",\"Kcash\",\"Xchange\",\"Acute Angle Cloud\",\"CrypticCoin\",\"Bettex coin\",\"Actinium\",\"Bitcoin SV\",\"BitMoney\",\"Junson Ming Chan Coin\",\"FREDEnergy\",\"HerbCoin\",\"Universal Molecule\",\"Lithium\",\"PirateCash\",\"Exosis\",\"Block-Logic\",\"Oduwa\",\"Beam\",\"Galilel\",\"Bithereum\",\"Crypto Sports\",\"Credit\",\"SLICE\",\"Dash Platinum\",\"Nasdacoin\",\"Beetle Coin\",\"Titan Coin\",\"Award\",\"BLAST\",\"Bitcoin Rhodium\",\"GlobalToken\",\"Insane Coin\",\"ALAX\",\"LiteDoge\",\"SolarCoin\",\"TruckCoin\",\"UFO Coin\",\"OrangeCoin\",\"BlakeCoin\",\"BitstarCoin\",\"NeosCoin\",\"HyperCoin\",\"PinkCoin\",\"Crypto Escudo\",\"AudioCoin\",\"IncaKoin\",\"Piggy Coin\",\"Crown Coin\",\"Genstake\",\"SmileyCoin\",\"XiaoMiCoin\",\"Groestlcoin\",\"CapriCoin\",\" ClubCoin\",\"Radium\",\"Bata\",\"Pakcoin\",\"Creditbit \",\"OKCash\",\"Lisk\",\"HiCoin\",\"WhiteCoin\",\"FriendshipCoin\",\"JoinCoin\",\"Triangles Coin\",\"Vollar\",\"EOS\",\"Reality Clash\",\"Oxycoin\",\"TigerCash\",\"Waves\",\"Particl\",\"BitTorrent\",\"Nxt\",\"ZEPHYR\",\"Gapcoin\",\"Beldex\",\"Horizen\",\"BitcoinPlus\"],\"ProofType\":[\"PoW/PoS\",\"PoW/PoS\",\"PoW/PoS\",\"PoW\",\"PoW\",\"PoW\",\"PoW/PoS\",\"PoW\",\"PoW\",\"PoW\",\"PoS\",\"PoW\",\"PoW/PoS\",\"PoS\",\"PoW\",\"PoW/PoS\",\"PoW\",\"PoW\",\"PoW/PoS\",\"PoW/PoS\",\"PoW\",\"PoW\",\"PoW\",\"PoW\",\"PoW\",\"PoW/PoS\",\"PoW\",\"PoW\",\"PoW\",\"PoW/PoS\",\"PoW\",\"PoW/PoS\",\"PoW\",\"PoW\",\"PoC\",\"PoW/PoS\",\"PoW\",\"PoW\",\"PoW\",\"PoW\",\"PoW\",\"PoW\",\"PoS\",\"PoS/PoW/PoT\",\"PoW\",\"PoW\",\"PoW\",\"PoW\",\"PoW\",\"PoW/PoS\",\"PoS\",\"PoW\",\"PoW/PoS\",\"PoW\",\"PoW\",\"PoW\",\"PoW\",\"PoW/PoS\",\"PoW\",\"PoW\",\"PoS\",\"PoW\",\"PoW/PoS\",\"PoS\",\"PoW/PoS\",\"PoW\",\"PoW\",\"PoW\",\"PoW/PoS\",\"PoW/PoS\",\"PoW/PoS\",\"PoW/PoS\",\"PoW/PoS\",\"PoW\",\"PoW\",\"PoW\",\"PoS\",\"PoW/PoS\",\"PoW\",\"PoS\",\"PoW\",\"PoS\",\"PoW/PoS\",\"PoW\",\"PoW\",\"PoW\",\"PoW\",\"PoW/PoS\",\"PoW/PoS\",\"PoW\",\"PoST\",\"PoW\",\"PoW\",\"PoW/PoS\",\"PoS\",\"PoW\",\"PoW/PoS\",\"PoW/PoS\",\"PoW\",\"PoW\",\"PoC\",\"PoS\",\"PoW\",\"PoW/PoS\",\"PoW/PoS\",\"PoW\",\"PoS\",\"PoW\",\"PoW/PoS\",\"PoW\",\"PoS\",\"PoW\",\"PoW/PoS\",\"PoW/PoS\",\"PoW\",\"PoW\",\"PoS\",\"PoW\",\"PoW\",\"PoW\",\"PoW/PoS\",\"PoW\",\"PoW\",\"PoW\",\"PoW\",\"PoW\",\"PoW/PoS\",\"PoW/nPoS\",\"PoW\",\"PoW\",\"PoW\",\"PoW/PoS\",\"PoW\",\"PoS/PoW\",\"PoW\",\"PoW\",\"PoS\",\"PoW\",\"PoW/PoS\",\"PoW\",\"PoW/PoS\",\"PoW/PoS\",\"PoW\",\"PoW\",\"PoW/PoS\",\"PoW\",\"PoW\",\"PoW/PoS\",\"PoW/PoS\",\"PoW\",\"PoW/PoS\",\"PoW\",\"PoW/PoS\",\"PoW/PoS\",\"PoS\",\"PoW\",\"PoW\",\"PoW\",\"PoW\",\"PoW/PoS\",\"PoS\",\"PoW/PoS\",\"PoC\",\"PoS\",\"PoW\",\"PoW\",\"PoW/PoS\",\"PoW/PoS\",\"PoW/PoS\",\"PoW/PoS\",\"PoW/PoS\",\"PoW\",\"PoS\",\"PoW/PoS\",\"PoW/PoS\",\"PoW/PoS\",\"PoS\",\"PoW\",\"PoS\",\"dPoW/PoW\",\"PoW/PoS\",\"PoW/PoS\",\"PoW\",\"PoW/PoS\",\"PoW\",\"PoW/PoS\",\"PoW/PoS\",\"PoW\",\"PoW/PoS\",\"PoW\",\"PoS\",\"PoW\",\"PoW/PoW\",\"PoW\",\"PoW/PoS\",\"PoS\",\"PoW/PoS\",\"PoW/PoS\",\"PoW\",\"PoS\",\"PoS\",\"PoW/PoS\",\"PoS\",\"PoW/PoS\",\"PoW\",\"PoW\",\"DPoS\",\"PoW/PoS\",\"PoW\",\"PoW\",\"PoW/PoS\",\"PoW/PoS\",\"PoS\",\"PoW/PoS\",\"PoW/PoS\",\"PoW\",\"PoS\",\"PoW/PoS\",\"PoW/PoS\",\"PoW/PoS\",\"TPoS\",\"PoW/PoS\",\"PoW/PoS\",\"PoW/PoS\",\"PoW\",\"PoW/PoS\",\"PoS\",\"PoW/PoS\",\"PoW/PoS\",\"PoS\",\"PoW/PoS\",\"PoW\",\"PoW\",\"PoW\",\"PoW/PoS\",\"PoW/PoS\",\"PoW/PoS\",\"PoW/PoS\",\"PoW\",\"PoW/PoS\",\"PoW\",\"PoS\",\"PoW/PoS \",\"PoW\",\"PoS\",\"PoW\",\"PoW\",\"PoW/PoS\",\"PoW\",\"PoW\",\"PoS\",\"PoW\",\"PoW/PoS\",\"PoW/PoS\",\"PoW/PoS\",\"PoW\",\"PoS\",\"PoW/PoS\",\"PoW\",\"PoS\",\"PoW/PoS\",\"PoW/PoS\",\"PoW/PoS\",\"PoW/PoS\",\"PoS\",\"PoW/PoS\",\"PoW\",\"PoS\",\"PoW\",\"PoS\",\"PoW/PoS\",\"PoW/PoS\",\"PoS\",\"PoW\",\"PoS\",\"PoW\",\"PoW/PoS\",\"PoW\",\"PoW\",\"PoW\",\"PoW\",\"PoW/PoS\",\"PoW\",\"PoW/PoS\",\"PoW/PoS\",\"PoW\",\"PoW/PoS\",\"PoW\",\"PoW\",\"PoW\",\"PoW/PoS\",\"PoW\",\"PoW/PoS\",\"PoW\",\"PoW\",\"PoW\",\"PoS\",\"PoW\",\"PoW/PoS\",\"PoW\",\"PoW/PoS\",\"PoS\",\"Proof of Authority\",\"PoW\",\"PoS\",\"PoW\",\"PoW\",\"PoW\",\"PoW\",\"PoW\",\"PoW/PoS\",\"PoW/PoS\",\"PoW\",\"PoS\",\"PoS\",\"PoW/PoS\",\"PoW\",\"PoW/PoS\",\"PoW\",\"PoW/PoS\",\"PoW\",\"PoS\",\"PoW\",\"PoW/PoS\",\"PoW/PoS\",\"PoW/PoS\",\"PoW/PoS\",\"PoW\",\"PoW/PoS\",\"PoW/PoS\",\"PoW\",\"PoS\",\"PoW/PoS\",\"PoS\",\"PoW\",\"PoW\",\"PoW\",\"PoW\",\"PoW/PoS\",\"DPoS\",\"PoW/PoS\",\"PoW/PoS\",\"PoW\",\"PoW/PoS\",\"PoW\",\"PoW\",\"PoW\",\"PoS\",\"PoS\",\"PoW\",\"PoW\",\"PoW/PoS\",\"PoW/PoS\",\"PoW\",\"PoW/PoS\",\"PoW\",\"PoW\",\"PoW\",\"PoS\",\"PoW\",\"PoW\",\"PoW/PoS\",\"PoW/PoS\",\"PoS\",\"PoW\",\"PoW\",\"PoW\",\"PoS\",\"PoS\",\"PoW and PoS\",\"PoW\",\"PoW\",\"PoW/PoS\",\"PoW\",\"PoW\",\"PoW\",\"PoW\",\"PoS\",\"POBh\",\"PoW + Hive\",\"PoW\",\"PoW\",\"PoW\",\"PoW/PoS\",\"PoA\",\"PoW/PoS\",\"PoW/PoS\",\"PoS\",\"PoS\",\"PoW\",\"PoW\",\"PoW\",\"PoW\",\"PoW/PoS\",\"PoW/PoS\",\"PoW/PoS\",\"PoW\",\"PoS\",\"PoW\",\"PoS\",\"PoS\",\"PoW/PoS\",\"DPoS\",\"PoW\",\"PoW/PoS\",\"PoS\",\"PoW\",\"PoS\",\"PoW/PoS\",\"PoW\",\"PoW\",\"PoS/PoW\",\"PoW\",\"PoS\",\"PoW\",\"PoW\",\"PoW\",\"PoW\",\"PoW/PoS\",\"PoS\",\"PoW\",\"PoW/PoS\",\"PoW\",\"PoW/PoS\",\"PoS\",\"HPoW\",\"PoS\",\"PoS\",\"PoS\",\"PoW\",\"PoW\",\"PoW\",\"PoW/PoS\",\"PoS\",\"PoW/PoS\",\"PoS\",\"PoW/PoS\",\"PoS\",\"PoW\",\"PoW/PoS\",\"PoW\",\"PoW\",\"PoW\",\"PoW\",\"PoS\",\"PoW/PoS\",\"PoS\",\"PoS\",\"PoW\",\"PoW/PoS\",\"PoS\",\"PoW\",\"PoW/PoS\",\"Zero-Knowledge Proof\",\"PoW\",\"DPOS\",\"PoW\",\"PoS\",\"PoW\",\"PoW\",\"Pos\",\"PoS\",\"PoW\",\"PoW/PoS\",\"PoW\",\"PoW\",\"PoS\",\"PoW\",\"PoW\",\"PoW/PoS\",\"PoW\",\"PoW/PoS\",\"PoW\",\"PoS\",\"PoW/PoS\",\"PoW\",\"PoS\",\"PoW/PoS\",\"PoW/PoS\",\"PoW/PoS\",\"PoW/PoS\",\"PoW\",\"PoW\",\"PoW\",\"PoW/PoS\",\"DPoS\",\"PoW/PoS\",\"PoW\",\"PoW/PoS\",\"PoW\",\"PoW/PoS\",\"PoW\",\"PoW/PoS\",\"PoS\",\"PoW/PoS\",\"PoW/PoS\",\"PoW\",\"PoW/PoS\",\"PoW/PoS\",\"PoW/PoS\",\"PoW\",\"PoW/PoS\",\"PoW\",\"PoW/PoS\",\"PoW\",\"PoW/PoS\",\"PoW/PoS\",\"PoS\",\"PoW\",\"PoW\",\"Proof of Trust\",\"PoW/PoS\",\"DPoS\",\"PoS\",\"PoW/PoS\",\"PoW/PoS\",\"PoW\",\"PoW/PoS\",\"PoW\",\"DPoS\",\"PoW\",\"DPoS\",\"PoS\",\"LPoS\",\"PoS\",\"DPoS\",\"PoS/LPoS\",\"DPoS\",\"PoW/PoS\",\"PoW\",\"PoW\",\"PoS\"],\"TotalCoinSupply\":[\"42\",\"532000000\",\"314159265359\",\"21000000\",\"0\",\"84000000\",\"22000000\",\"0\",\"210000000\",\"21000000\",\"3600570502\",\"21000000000\",\"22000000\",\"12500000\",\"21000000\",\"350000000\",\"20000000\",\"64000000\",\"16768584\",\"0\",\"2000000000\",\"384000000000\",\"169795588\",\"250000000\",\"100000000\",\"0\",\"247000000\",\"84000000\",\"48166000\",\"500000\",\"21000000 \",\"1000000\",\"13140000\",\"18000000\",\"40000000000\",\"4380000\",\"16555000000\",\"21000000000\",\"13500000000\",\"21000000 \",\"299792458\",\"32000000\",\"0\",\"0\",\"11235813\",\"336000000\",\"1420609614\",\"70000000\",\"72245700\",\"120000000\",\"0\",\"90600000000\",\"22000000\",\"21000000\",\"265420800\",\"20000000\",\"1350000\",\"100000000\",\"42000000\",\"200000000\",\"0\",\"10000000\",\"2419200000\",\"16180000\",\"0\",\"15000000000\",\"21000000\",\"337000000\",\"0\",\"3770000\",\"420000000\",\"98000000\",\"0\",\"21000000\",\"250000000\",\"51200000\",\"0\",\"1000\",\"888000000\",\"100000000\",\"47011968\",\"2300000000\",\"10000000\",\"42000000\",\"80000000\",\"250000\",\"0\",\"1600000000\",\"100000000\",\"23000000\",\"0\",\"84000000\",\"265420800\",\"5500000\",\"0\",\"45000000\",\"0\",\"1000000000\",\"184467440735\",\"10000000000\",\"2158812800\",\"500000000\",\"105120000\",\"68000000\",\"0\",\"1680000000\",\"0\",\"166386000\",\"12000000\",\"2628000\",\"500000000\",\"160000000\",\"0\",\"10000000\",\"1000000000\",\"1000000000\",\"20000000\",\"0\",\"0\",\"3371337\",\"20000000\",\"10000000000\",\"1840000000\",\"619478\",\"21000000\",\"92000000000\",\"0\",\"78000000\",\"33000000\",\"65789100\",\"53760000\",\"5060000\",\"21000000\",\"0\",\"210240000\",\"250000000\",\"100000000\",\"16906397\",\"50000000\",\"0\",\"1000000000\",\"26298000\",\"16000000\",\"21000000\",\"21000000\",\"210000000\",\"81962100\",\"22000000\",\"26550000000\",\"84000000\",\"10500000\",\"21626280000 \",\"0\",\"42000000\",\"221052632\",\"84000000\",\"30000000\",\"168351300\",\"24000000\",\"384000000\",\" 99000000000\",\"40000000\",\"2147483647\",\"20000000\",\"20000000\",\"25000000\",\"75000000\",\"222725000\",\"525000000\",\"90000000\",\"139000000\",\"616448\",\"33500000\",\"2000000000\",\"44333333\",\"100000000\",\"200000000\",\"25000000\",\"657000000\",\"200000000\",\"50000000\",\"90000000\",\"10000000\",\"21000000\",\"9736000\",\"3000000\",\"21000000\",\"1200000000\",\"0\",\"200000000\",\"0\",\"10638298\",\"3100000000\",\"30000000\",\"20000000000\",\"74000000\",\"0\",\"1500000000\",\"21400000\",\"39999898\",\"2500124\",\"100000000\",\"301000000\",\"7506000000\",\"26205539\",\"21000000\",\"125000000\",\"30000000\",\"10000000000\",\"500000000\",\"850000000\",\"3853326.77707314\",\"50000000\",\"38540000 \",\"42000000\",\"228000000\",\"20000000\",\"60000000\",\"20000000\",\"33000000\",\"76500000\",\"28000000\",\"650659833\",\"5000000\",\"21000000\",\"144000000\",\"32514916898\",\"13000000\",\"3315789\",\"15000000\",\"78835200\",\"2714286\",\"25000000\",\"9999999\",\"500000000\",\"21000000\",\"9354000\",\"20000000\",\"100000000000\",\"21933333\",\"185000000\",\"55000000\",\"110000000\",\"3360000\",\"14524851.4827\",\"1000000000\",\"17000000\",\"1000000000\",\"100000000 \",\"21000000\",\"34426423\",\"2232901\",\"100000000\",\"36900000\",\"110000000\",\"4000000000\",\"110290030\",\"100000000\",\"48252000\",\"400000000\",\"500000000\",\"21212121\",\"28600000\",\"1000000000\",\"75000000000\",\"40000000\",\"35520400\",\"2000000000\",\"2500000000\",\"30000000\",\"105000000\",\"90000000000\",\"200084200\",\"72000000\",\"100000000\",\"105000000\",\"50000000000\",\"0\",\"340282367\",\"30000000\",\"2000000000\",\"10000000\",\"100000000\",\"120000000\",\"100000000\",\"19276800\",\"30000000\",\" 75000000\",\"60000000\",\"18900000\",\"50000000000\",\"54000000\",\"18898187.6216583\",\"21000000\",\"200000000000\",\"5000000000\",\"137500000\",\"1100000000\",\"100000000\",\"21000000\",\"9507271\",\"17405891.19707116\",\"86712634466\",\"10500000000\",\"61599965\",\"0\",\"20000000\",\"84000000\",\"100000000\",\"100000000\",\"48252000\",\"4200000\",\"88888888\",\"91388946\",\"45000000000\",\"27000000\",\"21000000000\",\"400000000\",\"1800000000\",\"15733333\",\"27000000\",\"24000000\",\"21000000\",\"25000000000\",\"100000000\",\"1200000000\",\"60000000\",\"156306732.71\",\"21000000\",\"200000000\",\"100000000\",\"21000000\",\"14788275.991\",\"9000000000\",\"350000000\",\"45000000\",\"280000000\",\"31800000\",\"144000000\",\"500000000\",\"30000000000\",\"210000000\",\"660000000\",\"210000000\",\"85000000000\",\"12500000\",\"10000000000\",\"27716121\",\"20000000\",\"550000000\",\"999481516\",\"50000000000\",\"150000000\",\"4999999999\",\"50000000\",\" 90000000000\",\"19800000\",\"21000000\",\"120000000\",\"500000000\",\"64000000\",\"900000000\",\"4000000\",\"21000000\",\"23000000\",\"20166000\",\"23000000\",\"25000000\",\"1618033\",\"30000000\",\"1000000000000\",\"16600000\",\"232000000\",\"336000000\",\"10000000000\",\"100000000\",\"1100000000\",\"800000000\",\"5200000000\",\"840000000\",\"40000000\",\"18406979840\",\"500000000\",\"19340594\",\"252460800\",\"25000000\",\"60000000\",\"124000000\",\"1000000000\",\"6500000000\",\"1000000000\",\"21000000\",\"25000000\",\"50000000\",\"3000000\",\"5000000\",\"70000000\",\"500000000\",\"300000000\",\"21000000\",\"88000000\",\"30000000\",\"100000000\",\"100000000\",\"200000000\",\"80000000\",\"18400000\",\"45000000\",\"5121951220\",\"21000000\",\"26280000\",\"21000000\",\"18000000\",\"26000000\",\"10500000\",\"600000518\",\"150000000\",\"184000000000\",\"10200000000\",\"44000000\",\"168000000\",\"100000000\",\"1000000000\",\"84000000\",\"90000000\",\"92000000000\",\"650000000 \",\"100262205\",\"18081806 \",\"22075700\",\"21000000\",\"21000000\",\"82546564\",\"21000000\",\"5151000\",\"16880000000\",\"52500000\",\"100000000\",\"22105263\",\"1000000000\",\"1750000000\",\"88188888\",\"210000000\",\"184470000000\",\"55000000\",\"50000000\",\"260000000\",\"210000000\",\"2100000000\",\"366000000\",\"100000000\",\"25000000\",\"18000000000\",\"1000000000\",\"100000000\",\"1000000000\",\"7600000000\",\"50000000\",\"84000000\",\"21000000\",\"70000000000\",\"0\",\"8080000000\",\"54000000\",\"105120001.44\",\"25228800\",\"105000000\",\"21000000\",\"120000000\",\"21000000\",\"262800000\",\"19035999\",\"30886000\",\"13370000\",\"74800000000\",\"100000000\",\"19700000\",\"84000000\",\"500000000\",\"5000000000\",\"420000000\",\"64000000\",\"2100000\",\"168000000\",\"30000000\",\"1000000000\",\"35000000000\",\"98100000000\",\"0\",\"4000000000\",\"200000000\",\"7000000000\",\"54256119\",\"21000000\",\"0\",\"500000000\",\"1000000000\",\"10500000000\",\"190000000\",\"1000000000\",\"42000000\",\"15000000\",\"50000000000\",\"400000000\",\"105000000\",\"208000000\",\"160000000\",\"9000000\",\"5000000\",\"182000000\",\"16504333\",\"105000000\",\"159918400\",\"10008835635\",\"300000000\",\"60168145\",\"2800000\",\"120000\",\"2100000000\",\"0\",\"24487944\",\"0\",\"1000000000\",\"100000000\",\"8634140\",\"990000000000\",\"1000000000\",\"2000000000\",\"250000000\",\"1400222610\",\"21000000\",\"1000000\"],\"TotalCoinsMined\":{\"__ndarray__\":\"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\",\"dtype\":\"float64\",\"order\":\"little\",\"shape\":[532]}},\"selected\":{\"id\":\"1105\"},\"selection_policy\":{\"id\":\"1138\"}},\"id\":\"1104\",\"type\":\"ColumnDataSource\"},{\"attributes\":{\"editor\":{\"id\":\"1122\"},\"field\":\"TotalCoinSupply\",\"formatter\":{\"id\":\"1121\"},\"title\":\"TotalCoinSupply\"},\"id\":\"1123\",\"type\":\"TableColumn\"},{\"attributes\":{},\"id\":\"1111\",\"type\":\"StringFormatter\"},{\"attributes\":{},\"id\":\"1138\",\"type\":\"UnionRenderers\"},{\"attributes\":{\"format\":\"0,0.0[00000]\"},\"id\":\"1126\",\"type\":\"NumberFormatter\"},{\"attributes\":{},\"id\":\"1112\",\"type\":\"StringEditor\"},{\"attributes\":{\"editor\":{\"id\":\"1112\"},\"field\":\"Algorithm\",\"formatter\":{\"id\":\"1111\"},\"title\":\"Algorithm\"},\"id\":\"1113\",\"type\":\"TableColumn\"}],\"root_ids\":[\"1102\"]},\"title\":\"Bokeh Application\",\"version\":\"2.1.1\"}};\n",
       "  var render_items = [{\"docid\":\"996495a2-906f-4ee7-bb33-7149a27bb256\",\"root_ids\":[\"1102\"],\"roots\":{\"1102\":\"c1491bc4-9f8a-4fcb-80b1-7a54dc70dad0\"}}];\n",
       "  root.Bokeh.embed.embed_items_notebook(docs_json, render_items);\n",
       "  }\n",
       "if (root.Bokeh !== undefined) {\n",
       "    embed_document(root);\n",
       "  } else {\n",
       "    var attempts = 0;\n",
       "    var timer = setInterval(function(root) {\n",
       "      if (root.Bokeh !== undefined) {\n",
       "        clearInterval(timer);\n",
       "        embed_document(root);\n",
       "      } else if (document.readyState == \"complete\") {\n",
       "        attempts++;\n",
       "        if (attempts > 100) {\n",
       "          clearInterval(timer);\n",
       "          console.log(\"Bokeh: ERROR: Unable to run BokehJS code because BokehJS library is missing\");\n",
       "        }\n",
       "      }\n",
       "    }, 10, root)\n",
       "  }\n",
       "})(window);</script>"
      ],
      "text/plain": [
       ":Table   [CoinName,Algorithm,ProofType,TotalCoinSupply,TotalCoinsMined,Class]"
      ]
     },
     "execution_count": 32,
     "metadata": {
      "application/vnd.holoviews_exec.v0+json": {
       "id": "1102"
      }
     },
     "output_type": "execute_result"
    }
   ],
   "source": [
    "# Create a table with tradable cryptocurrencies.\n",
    "clustered_df.hvplot.table(columns=['CoinName', 'Algorithm', 'ProofType', 'TotalCoinSupply', 'TotalCoinsMined', 'Class'])"
   ]
  },
  {
   "cell_type": "code",
   "execution_count": 34,
   "metadata": {},
   "outputs": [
    {
     "name": "stdout",
     "output_type": "stream",
     "text": [
      "532\n"
     ]
    }
   ],
   "source": [
    "# Print the total number of tradable cryptocurrencies.\n",
    "print(len(clustered_df))"
   ]
  },
  {
   "cell_type": "code",
   "execution_count": 44,
   "metadata": {},
   "outputs": [
    {
     "data": {
      "text/plain": [
       "array([[4.20000000e-11, 0.00000000e+00],\n",
       "       [5.32000000e-04, 1.06585544e-03],\n",
       "       [3.14159265e-01, 2.95755135e-02],\n",
       "       ...,\n",
       "       [1.40022261e-03, 9.90135079e-04],\n",
       "       [2.10000000e-05, 7.37028150e-06],\n",
       "       [1.00000000e-06, 1.29582282e-07]])"
      ]
     },
     "execution_count": 44,
     "metadata": {},
     "output_type": "execute_result"
    }
   ],
   "source": [
    "# Scaling data to create the scatter plot with tradable cryptocurrencies.\n",
    "tcs_tcm = clustered_df[['TotalCoinSupply', 'TotalCoinsMined']]\n",
    "mms = MinMaxScaler()\n",
    "tcs_tcm_scaled = mms.fit_transform(tcs_tcm)\n",
    "tcs_tcm_scaled"
   ]
  },
  {
   "cell_type": "code",
   "execution_count": 47,
   "metadata": {},
   "outputs": [
    {
     "data": {
      "text/html": [
       "<div>\n",
       "<style scoped>\n",
       "    .dataframe tbody tr th:only-of-type {\n",
       "        vertical-align: middle;\n",
       "    }\n",
       "\n",
       "    .dataframe tbody tr th {\n",
       "        vertical-align: top;\n",
       "    }\n",
       "\n",
       "    .dataframe thead th {\n",
       "        text-align: right;\n",
       "    }\n",
       "</style>\n",
       "<table border=\"1\" class=\"dataframe\">\n",
       "  <thead>\n",
       "    <tr style=\"text-align: right;\">\n",
       "      <th></th>\n",
       "      <th>TotalCoinSupply</th>\n",
       "      <th>TotalCoinsMined</th>\n",
       "      <th>CoinName</th>\n",
       "      <th>Class</th>\n",
       "    </tr>\n",
       "  </thead>\n",
       "  <tbody>\n",
       "    <tr>\n",
       "      <th>42</th>\n",
       "      <td>4.200000e-11</td>\n",
       "      <td>0.000000</td>\n",
       "      <td>42 Coin</td>\n",
       "      <td>0</td>\n",
       "    </tr>\n",
       "    <tr>\n",
       "      <th>404</th>\n",
       "      <td>5.320000e-04</td>\n",
       "      <td>0.001066</td>\n",
       "      <td>404Coin</td>\n",
       "      <td>0</td>\n",
       "    </tr>\n",
       "    <tr>\n",
       "      <th>1337</th>\n",
       "      <td>3.141593e-01</td>\n",
       "      <td>0.029576</td>\n",
       "      <td>EliteCoin</td>\n",
       "      <td>0</td>\n",
       "    </tr>\n",
       "    <tr>\n",
       "      <th>BTC</th>\n",
       "      <td>2.100000e-05</td>\n",
       "      <td>0.000018</td>\n",
       "      <td>Bitcoin</td>\n",
       "      <td>1</td>\n",
       "    </tr>\n",
       "    <tr>\n",
       "      <th>ETH</th>\n",
       "      <td>0.000000e+00</td>\n",
       "      <td>0.000109</td>\n",
       "      <td>Ethereum</td>\n",
       "      <td>1</td>\n",
       "    </tr>\n",
       "    <tr>\n",
       "      <th>LTC</th>\n",
       "      <td>8.400000e-05</td>\n",
       "      <td>0.000064</td>\n",
       "      <td>Litecoin</td>\n",
       "      <td>1</td>\n",
       "    </tr>\n",
       "    <tr>\n",
       "      <th>DASH</th>\n",
       "      <td>2.200000e-05</td>\n",
       "      <td>0.000009</td>\n",
       "      <td>Dash</td>\n",
       "      <td>0</td>\n",
       "    </tr>\n",
       "    <tr>\n",
       "      <th>XMR</th>\n",
       "      <td>0.000000e+00</td>\n",
       "      <td>0.000017</td>\n",
       "      <td>Monero</td>\n",
       "      <td>1</td>\n",
       "    </tr>\n",
       "    <tr>\n",
       "      <th>ETC</th>\n",
       "      <td>2.100000e-04</td>\n",
       "      <td>0.000115</td>\n",
       "      <td>Ethereum Classic</td>\n",
       "      <td>1</td>\n",
       "    </tr>\n",
       "    <tr>\n",
       "      <th>ZEC</th>\n",
       "      <td>2.100000e-05</td>\n",
       "      <td>0.000007</td>\n",
       "      <td>ZCash</td>\n",
       "      <td>1</td>\n",
       "    </tr>\n",
       "  </tbody>\n",
       "</table>\n",
       "</div>"
      ],
      "text/plain": [
       "      TotalCoinSupply  TotalCoinsMined          CoinName  Class\n",
       "42       4.200000e-11         0.000000           42 Coin      0\n",
       "404      5.320000e-04         0.001066           404Coin      0\n",
       "1337     3.141593e-01         0.029576         EliteCoin      0\n",
       "BTC      2.100000e-05         0.000018           Bitcoin      1\n",
       "ETH      0.000000e+00         0.000109          Ethereum      1\n",
       "LTC      8.400000e-05         0.000064          Litecoin      1\n",
       "DASH     2.200000e-05         0.000009              Dash      0\n",
       "XMR      0.000000e+00         0.000017            Monero      1\n",
       "ETC      2.100000e-04         0.000115  Ethereum Classic      1\n",
       "ZEC      2.100000e-05         0.000007             ZCash      1"
      ]
     },
     "execution_count": 47,
     "metadata": {},
     "output_type": "execute_result"
    }
   ],
   "source": [
    "# Create a new DataFrame that has the scaled data with the clustered_df DataFrame index.\n",
    "new_cluster_df = pd.DataFrame(data=tcs_tcm_scaled, index=clustered_df.index)\n",
    "new_cluster_df.columns=['TotalCoinSupply', 'TotalCoinsMined']\n",
    "\n",
    "# Add the \"CoinName\" column from the clustered_df DataFrame to the new DataFrame.\n",
    "new_cluster_df['CoinName'] = clustered_df['CoinName']\n",
    "\n",
    "# Add the \"Class\" column from the clustered_df DataFrame to the new DataFrame. \n",
    "new_cluster_df['Class'] = clustered_df['Class']\n",
    "\n",
    "new_cluster_df.head(10)"
   ]
  },
  {
   "cell_type": "code",
   "execution_count": 48,
   "metadata": {},
   "outputs": [
    {
     "data": {},
     "metadata": {},
     "output_type": "display_data"
    },
    {
     "data": {
      "application/vnd.holoviews_exec.v0+json": "",
      "text/html": [
       "<div id='1474'>\n",
       "\n",
       "\n",
       "\n",
       "\n",
       "\n",
       "  <div class=\"bk-root\" id=\"831d8a77-3d30-4ce9-8241-dec5cd43cc89\" data-root-id=\"1474\"></div>\n",
       "</div>\n",
       "<script type=\"application/javascript\">(function(root) {\n",
       "  function embed_document(root) {\n",
       "  var docs_json = {\"82396340-641d-46ea-9c79-6b3ebb30701b\":{\"roots\":{\"references\":[{\"attributes\":{\"fill_alpha\":{\"value\":0.2},\"fill_color\":{\"value\":\"#ff7e0e\"},\"line_alpha\":{\"value\":0.2},\"line_color\":{\"value\":\"#ff7e0e\"},\"size\":{\"units\":\"screen\",\"value\":5.477225575051661},\"x\":{\"field\":\"TotalCoinsMined\"},\"y\":{\"field\":\"TotalCoinSupply\"}},\"id\":\"1539\",\"type\":\"Scatter\"},{\"attributes\":{\"axis_label\":\"TotalCoinsMined\",\"bounds\":\"auto\",\"formatter\":{\"id\":\"1512\"},\"major_label_orientation\":\"horizontal\",\"ticker\":{\"id\":\"1492\"}},\"id\":\"1491\",\"type\":\"LinearAxis\"},{\"attributes\":{\"label\":{\"value\":\"2\"},\"renderers\":[{\"id\":\"1559\"}]},\"id\":\"1573\",\"type\":\"LegendItem\"},{\"attributes\":{\"margin\":[5,5,5,5],\"name\":\"HSpacer02745\",\"sizing_mode\":\"stretch_width\"},\"id\":\"1475\",\"type\":\"Spacer\"},{\"attributes\":{\"label\":{\"value\":\"0\"},\"renderers\":[{\"id\":\"1522\"}]},\"id\":\"1533\",\"type\":\"LegendItem\"},{\"attributes\":{\"fill_alpha\":{\"value\":0.2},\"fill_color\":{\"value\":\"#2ba02b\"},\"line_alpha\":{\"value\":0.2},\"line_color\":{\"value\":\"#2ba02b\"},\"size\":{\"units\":\"screen\",\"value\":5.477225575051661},\"x\":{\"field\":\"TotalCoinsMined\"},\"y\":{\"field\":\"TotalCoinSupply\"}},\"id\":\"1558\",\"type\":\"Scatter\"},{\"attributes\":{\"fill_alpha\":{\"value\":0.1},\"fill_color\":{\"value\":\"#d62628\"},\"line_alpha\":{\"value\":0.1},\"line_color\":{\"value\":\"#d62628\"},\"size\":{\"units\":\"screen\",\"value\":5.477225575051661},\"x\":{\"field\":\"TotalCoinsMined\"},\"y\":{\"field\":\"TotalCoinSupply\"}},\"id\":\"1578\",\"type\":\"Scatter\"},{\"attributes\":{\"source\":{\"id\":\"1574\"}},\"id\":\"1581\",\"type\":\"CDSView\"},{\"attributes\":{},\"id\":\"1535\",\"type\":\"Selection\"},{\"attributes\":{\"label\":{\"value\":\"1\"},\"renderers\":[{\"id\":\"1540\"}]},\"id\":\"1552\",\"type\":\"LegendItem\"},{\"attributes\":{\"label\":{\"value\":\"3\"},\"renderers\":[{\"id\":\"1580\"}]},\"id\":\"1596\",\"type\":\"LegendItem\"},{\"attributes\":{\"text\":\"\",\"text_color\":{\"value\":\"black\"},\"text_font_size\":{\"value\":\"12pt\"}},\"id\":\"1483\",\"type\":\"Title\"},{\"attributes\":{\"children\":[{\"id\":\"1475\"},{\"id\":\"1482\"},{\"id\":\"1723\"}],\"margin\":[0,0,0,0],\"name\":\"Row02741\",\"tags\":[\"embedded\"]},\"id\":\"1474\",\"type\":\"Row\"},{\"attributes\":{},\"id\":\"1517\",\"type\":\"Selection\"},{\"attributes\":{},\"id\":\"1489\",\"type\":\"LinearScale\"},{\"attributes\":{\"end\":1.1,\"reset_end\":1.1,\"reset_start\":-0.1,\"start\":-0.1,\"tags\":[[[\"TotalCoinSupply\",\"TotalCoinSupply\",null]]]},\"id\":\"1477\",\"type\":\"Range1d\"},{\"attributes\":{\"fill_alpha\":{\"value\":0.2},\"fill_color\":{\"value\":\"#d62628\"},\"line_alpha\":{\"value\":0.2},\"line_color\":{\"value\":\"#d62628\"},\"size\":{\"units\":\"screen\",\"value\":5.477225575051661},\"x\":{\"field\":\"TotalCoinsMined\"},\"y\":{\"field\":\"TotalCoinSupply\"}},\"id\":\"1579\",\"type\":\"Scatter\"},{\"attributes\":{\"axis\":{\"id\":\"1491\"},\"grid_line_color\":null,\"ticker\":null},\"id\":\"1494\",\"type\":\"Grid\"},{\"attributes\":{\"callback\":null,\"renderers\":[{\"id\":\"1522\"},{\"id\":\"1540\"},{\"id\":\"1559\"},{\"id\":\"1580\"}],\"tags\":[\"hv_created\"],\"tooltips\":[[\"Class\",\"@{Class}\"],[\"TotalCoinsMined\",\"@{TotalCoinsMined}\"],[\"TotalCoinSupply\",\"@{TotalCoinSupply}\"],[\"CoinName\",\"@{CoinName}\"]]},\"id\":\"1478\",\"type\":\"HoverTool\"},{\"attributes\":{},\"id\":\"1512\",\"type\":\"BasicTickFormatter\"},{\"attributes\":{\"data\":{\"Class\":[0,0,0,0,0,0,0,0,0,0,0,0,0,0,0,0,0,0,0,0,0,0,0,0,0,0,0,0,0,0,0,0,0,0,0,0,0,0,0,0,0,0,0,0,0,0,0,0,0,0,0,0,0,0,0,0,0,0,0,0,0,0,0,0,0,0,0,0,0,0,0,0,0,0,0,0,0,0,0,0,0,0,0,0,0,0,0,0,0,0,0,0,0,0,0,0,0,0,0,0,0,0,0,0,0,0,0,0,0,0,0,0,0,0,0,0,0,0,0,0,0,0,0,0,0,0,0,0,0,0,0,0,0,0,0,0,0,0,0,0,0,0,0,0,0,0,0,0,0,0,0,0,0,0,0,0,0,0,0,0,0,0,0,0,0,0,0,0,0,0,0,0,0,0,0,0,0,0,0,0,0,0,0,0,0,0,0,0,0,0,0,0,0,0,0,0,0,0,0,0,0,0,0,0,0,0,0,0,0,0,0,0,0,0,0,0,0,0,0,0,0,0,0,0,0,0,0,0,0,0,0,0,0,0,0,0,0,0,0,0,0,0,0,0,0,0,0,0,0,0,0,0,0,0,0,0,0,0,0,0,0,0,0,0,0,0,0,0,0,0,0,0,0,0,0,0,0,0,0,0,0,0,0,0,0,0,0,0],\"CoinName\":[\"42 Coin\",\"404Coin\",\"EliteCoin\",\"Dash\",\"Bitshares\",\"BitcoinDark\",\"PayCoin\",\"KoboCoin\",\"Aurora Coin\",\"BlueCoin\",\"EnergyCoin\",\"BitBar\",\"CryptoBullion\",\"CasinoCoin\",\"Diamond\",\"Exclusive Coin\",\"FlutterCoin\",\"HoboNickels\",\"HyperStake\",\"IOCoin\",\"MaxCoin\",\"MintCoin\",\"MazaCoin\",\"Nautilus Coin\",\"NavCoin\",\"OpalCoin\",\"Orbitcoin\",\"PotCoin\",\"PhoenixCoin\",\"Reddcoin\",\"SuperCoin\",\"SyncCoin\",\"TeslaCoin\",\"TittieCoin\",\"TorCoin\",\"UnitaryStatus Dollar\",\"UltraCoin\",\"VeriCoin\",\"X11 Coin\",\"Crypti\",\"StealthCoin\",\"ZCC Coin\",\"BurstCoin\",\"StorjCoin\",\"Neutron\",\"FairCoin\",\"RubyCoin\",\"Kore\",\"Dnotes\",\"8BIT Coin\",\"Sativa Coin\",\"Ucoin\",\"Vtorrent\",\"IslaCoin\",\"Nexus\",\"Droidz\",\"Squall Coin\",\"Diggits\",\"Paycon\",\"Emercoin\",\"EverGreenCoin\",\"Decred\",\"EDRCoin\",\"Hitcoin\",\"DubaiCoin\",\"PWR Coin\",\"BillaryCoin\",\"GPU Coin\",\"EuropeCoin\",\"ZeitCoin\",\"SwingCoin\",\"SafeExchangeCoin\",\"Nebuchadnezzar\",\"Ratecoin\",\"Revenu\",\"Clockcoin\",\"VIP Tokens\",\"BitSend\",\"Let it Ride\",\"PutinCoin\",\"iBankCoin\",\"Frankywillcoin\",\"MudraCoin\",\"Lutetium Coin\",\"GoldBlocks\",\"CarterCoin\",\"BitTokens\",\"MustangCoin\",\"ZoneCoin\",\"RootCoin\",\"BitCurrency\",\"Swiscoin\",\"BuzzCoin\",\"Opair\",\"PesoBit\",\"Halloween Coin\",\"CoffeeCoin\",\"RoyalCoin\",\"GanjaCoin V2\",\"TeamUP\",\"LanaCoin\",\"ARK\",\"InsaneCoin\",\"EmberCoin\",\"XenixCoin\",\"FreeCoin\",\"PLNCoin\",\"AquariusCoin\",\"Creatio\",\"Eternity\",\"Eurocoin\",\"BitcoinFast\",\"Stakenet\",\"BitConnect Coin\",\"MoneyCoin\",\"Enigma\",\"Russiacoin\",\"PandaCoin\",\"GameUnits\",\"GAKHcoin\",\"Allsafe\",\"LiteCreed\",\"Klingon Empire Darsek\",\"Internet of People\",\"KushCoin\",\"Printerium\",\"Impeach\",\"Zilbercoin\",\"FirstCoin\",\"FindCoin\",\"OpenChat\",\"RenosCoin\",\"VirtacoinPlus\",\"TajCoin\",\"Impact\",\"Atmos\",\"HappyCoin\",\"MacronCoin\",\"Condensate\",\"Independent Money System\",\"ArgusCoin\",\"LomoCoin\",\"ProCurrency\",\"GoldReserve\",\"GrowthCoin\",\"Phreak\",\"Degas Coin\",\"HTML5 Coin\",\"Ultimate Secure Cash\",\"QTUM\",\"Espers\",\"Denarius\",\"Virta Unique Coin\",\"Bitcoin Planet\",\"BritCoin\",\"Linda\",\"DeepOnion\",\"Signatum\",\"Cream\",\"Monoeci\",\"Draftcoin\",\"Vechain\",\"Stakecoin\",\"CoinonatX\",\"Ethereum Dark\",\"Obsidian\",\"Cardano\",\"Regalcoin\",\"TrezarCoin\",\"TerraNovaCoin\",\"Rupee\",\"WomenCoin\",\"Theresa May Coin\",\"NamoCoin\",\"LUXCoin\",\"Xios\",\"Bitcloud 2.0\",\"KekCoin\",\"BlackholeCoin\",\"Infinity Economics\",\"Magnet\",\"Lamden Tau\",\"Electra\",\"Bitcoin Diamond\",\"Cash & Back Coin\",\"Bulwark\",\"Kalkulus\",\"GermanCoin\",\"LiteCoin Ultra\",\"PhantomX\",\"Digiwage\",\"Trollcoin\",\"Litecoin Plus\",\"Monkey Project\",\"TokenPay\",\"1717 Masonic Commemorative Token\",\"My Big Coin\",\"Unified Society USDEX\",\"Tokyo Coin\",\"Stipend\",\"Pushi\",\"Ellerium\",\"Velox\",\"Ontology\",\"Bitspace\",\"Briacoin\",\"Ignition\",\"MedicCoin\",\"Bitcoin Green\",\"Deviant Coin\",\"Abjcoin\",\"Semux\",\"Carebit\",\"Zealium\",\"Proton\",\"iDealCash\",\"Bitcoin Incognito\",\"HollyWoodCoin\",\"Swisscoin\",\"Xt3ch\",\"TheVig\",\"EmaratCoin\",\"Dekado\",\"Lynx\",\"Poseidon Quark\",\"BitcoinWSpectrum\",\"Muse\",\"Trivechain\",\"Dystem\",\"Giant\",\"Peony Coin\",\"Absolute Coin\",\"Vitae\",\"TPCash\",\"ARENON\",\"EUNO\",\"MMOCoin\",\"Ketan\",\"XDNA\",\"PAXEX\",\"ThunderStake\",\"Kcash\",\"Bettex coin\",\"BitMoney\",\"Junson Ming Chan Coin\",\"HerbCoin\",\"Oduwa\",\"Galilel\",\"Crypto Sports\",\"Credit\",\"Dash Platinum\",\"Nasdacoin\",\"Beetle Coin\",\"Titan Coin\",\"Award\",\"Insane Coin\",\"ALAX\",\"LiteDoge\",\"TruckCoin\",\"OrangeCoin\",\"BitstarCoin\",\"NeosCoin\",\"HyperCoin\",\"PinkCoin\",\"AudioCoin\",\"IncaKoin\",\"Piggy Coin\",\"Genstake\",\"XiaoMiCoin\",\"CapriCoin\",\" ClubCoin\",\"Radium\",\"Creditbit \",\"OKCash\",\"Lisk\",\"HiCoin\",\"WhiteCoin\",\"FriendshipCoin\",\"Triangles Coin\",\"EOS\",\"Oxycoin\",\"TigerCash\",\"Waves\",\"Particl\",\"Nxt\",\"ZEPHYR\",\"Gapcoin\",\"BitcoinPlus\"],\"TotalCoinSupply\":{\"__ndarray__\":\"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\",\"dtype\":\"float64\",\"order\":\"little\",\"shape\":[288]},\"TotalCoinsMined\":{\"__ndarray__\":\"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\",\"dtype\":\"float64\",\"order\":\"little\",\"shape\":[288]}},\"selected\":{\"id\":\"1517\"},\"selection_policy\":{\"id\":\"1530\"}},\"id\":\"1516\",\"type\":\"ColumnDataSource\"},{\"attributes\":{\"fill_color\":{\"value\":\"#2ba02b\"},\"line_color\":{\"value\":\"#2ba02b\"},\"size\":{\"units\":\"screen\",\"value\":5.477225575051661},\"x\":{\"field\":\"TotalCoinsMined\"},\"y\":{\"field\":\"TotalCoinSupply\"}},\"id\":\"1556\",\"type\":\"Scatter\"},{\"attributes\":{\"data_source\":{\"id\":\"1534\"},\"glyph\":{\"id\":\"1537\"},\"hover_glyph\":null,\"muted_glyph\":{\"id\":\"1539\"},\"nonselection_glyph\":{\"id\":\"1538\"},\"selection_glyph\":null,\"view\":{\"id\":\"1541\"}},\"id\":\"1540\",\"type\":\"GlyphRenderer\"},{\"attributes\":{\"data_source\":{\"id\":\"1574\"},\"glyph\":{\"id\":\"1577\"},\"hover_glyph\":null,\"muted_glyph\":{\"id\":\"1579\"},\"nonselection_glyph\":{\"id\":\"1578\"},\"selection_glyph\":null,\"view\":{\"id\":\"1581\"}},\"id\":\"1580\",\"type\":\"GlyphRenderer\"},{\"attributes\":{},\"id\":\"1496\",\"type\":\"BasicTicker\"},{\"attributes\":{\"axis_label\":\"TotalCoinSupply\",\"bounds\":\"auto\",\"formatter\":{\"id\":\"1514\"},\"major_label_orientation\":\"horizontal\",\"ticker\":{\"id\":\"1496\"}},\"id\":\"1495\",\"type\":\"LinearAxis\"},{\"attributes\":{\"data\":{\"Class\":[2],\"CoinName\":[\"BitTorrent\"],\"TotalCoinSupply\":{\"__ndarray__\":\"rkfhehSu7z8=\",\"dtype\":\"float64\",\"order\":\"little\",\"shape\":[1]},\"TotalCoinsMined\":{\"__ndarray__\":\"AAAAAAAA8D8=\",\"dtype\":\"float64\",\"order\":\"little\",\"shape\":[1]}},\"selected\":{\"id\":\"1554\"},\"selection_policy\":{\"id\":\"1571\"}},\"id\":\"1553\",\"type\":\"ColumnDataSource\"},{\"attributes\":{\"fill_color\":{\"value\":\"#ff7e0e\"},\"line_color\":{\"value\":\"#ff7e0e\"},\"size\":{\"units\":\"screen\",\"value\":5.477225575051661},\"x\":{\"field\":\"TotalCoinsMined\"},\"y\":{\"field\":\"TotalCoinSupply\"}},\"id\":\"1537\",\"type\":\"Scatter\"},{\"attributes\":{\"source\":{\"id\":\"1534\"}},\"id\":\"1541\",\"type\":\"CDSView\"},{\"attributes\":{\"source\":{\"id\":\"1553\"}},\"id\":\"1560\",\"type\":\"CDSView\"},{\"attributes\":{\"fill_color\":{\"value\":\"#d62628\"},\"line_color\":{\"value\":\"#d62628\"},\"size\":{\"units\":\"screen\",\"value\":5.477225575051661},\"x\":{\"field\":\"TotalCoinsMined\"},\"y\":{\"field\":\"TotalCoinSupply\"}},\"id\":\"1577\",\"type\":\"Scatter\"},{\"attributes\":{},\"id\":\"1550\",\"type\":\"UnionRenderers\"},{\"attributes\":{},\"id\":\"1575\",\"type\":\"Selection\"},{\"attributes\":{\"bottom_units\":\"screen\",\"fill_alpha\":0.5,\"fill_color\":\"lightgrey\",\"left_units\":\"screen\",\"level\":\"overlay\",\"line_alpha\":1.0,\"line_color\":\"black\",\"line_dash\":[4,4],\"line_width\":2,\"right_units\":\"screen\",\"top_units\":\"screen\"},\"id\":\"1504\",\"type\":\"BoxAnnotation\"},{\"attributes\":{},\"id\":\"1594\",\"type\":\"UnionRenderers\"},{\"attributes\":{\"fill_alpha\":{\"value\":0.2},\"fill_color\":{\"value\":\"#1f77b3\"},\"line_alpha\":{\"value\":0.2},\"line_color\":{\"value\":\"#1f77b3\"},\"size\":{\"units\":\"screen\",\"value\":5.477225575051661},\"x\":{\"field\":\"TotalCoinsMined\"},\"y\":{\"field\":\"TotalCoinSupply\"}},\"id\":\"1521\",\"type\":\"Scatter\"},{\"attributes\":{\"active_drag\":\"auto\",\"active_inspect\":\"auto\",\"active_multi\":null,\"active_scroll\":\"auto\",\"active_tap\":\"auto\",\"tools\":[{\"id\":\"1478\"},{\"id\":\"1499\"},{\"id\":\"1500\"},{\"id\":\"1501\"},{\"id\":\"1502\"},{\"id\":\"1503\"}]},\"id\":\"1505\",\"type\":\"Toolbar\"},{\"attributes\":{\"fill_alpha\":{\"value\":0.1},\"fill_color\":{\"value\":\"#1f77b3\"},\"line_alpha\":{\"value\":0.1},\"line_color\":{\"value\":\"#1f77b3\"},\"size\":{\"units\":\"screen\",\"value\":5.477225575051661},\"x\":{\"field\":\"TotalCoinsMined\"},\"y\":{\"field\":\"TotalCoinSupply\"}},\"id\":\"1520\",\"type\":\"Scatter\"},{\"attributes\":{\"fill_alpha\":{\"value\":0.1},\"fill_color\":{\"value\":\"#2ba02b\"},\"line_alpha\":{\"value\":0.1},\"line_color\":{\"value\":\"#2ba02b\"},\"size\":{\"units\":\"screen\",\"value\":5.477225575051661},\"x\":{\"field\":\"TotalCoinsMined\"},\"y\":{\"field\":\"TotalCoinSupply\"}},\"id\":\"1557\",\"type\":\"Scatter\"},{\"attributes\":{},\"id\":\"1499\",\"type\":\"SaveTool\"},{\"attributes\":{\"source\":{\"id\":\"1516\"}},\"id\":\"1523\",\"type\":\"CDSView\"},{\"attributes\":{\"click_policy\":\"mute\",\"items\":[{\"id\":\"1533\"},{\"id\":\"1552\"},{\"id\":\"1573\"},{\"id\":\"1596\"}],\"location\":[0,0],\"title\":\"Class\"},\"id\":\"1532\",\"type\":\"Legend\"},{\"attributes\":{\"margin\":[5,5,5,5],\"name\":\"HSpacer02746\",\"sizing_mode\":\"stretch_width\"},\"id\":\"1723\",\"type\":\"Spacer\"},{\"attributes\":{},\"id\":\"1500\",\"type\":\"PanTool\"},{\"attributes\":{\"data\":{\"Class\":[1,1,1,1,1,1,1,1,1,1,1,1,1,1,1,1,1,1,1,1,1,1,1,1,1,1,1,1,1,1,1,1,1,1,1,1,1,1,1,1,1,1,1,1,1,1,1,1,1,1,1,1,1,1,1,1,1,1,1,1,1,1,1,1,1,1,1,1,1,1,1,1,1,1,1,1,1,1,1,1,1,1,1,1,1,1,1,1,1,1,1,1,1,1,1,1,1,1,1,1,1,1,1,1,1,1,1,1,1,1,1,1,1,1,1,1,1,1,1,1,1,1,1,1,1,1,1,1,1,1,1,1,1,1,1,1,1,1,1,1,1,1,1,1,1,1,1,1,1,1,1,1,1,1,1,1,1,1,1,1,1,1,1,1,1,1,1,1,1,1,1,1,1,1,1,1,1,1,1,1,1,1,1,1,1,1,1,1,1,1,1,1,1,1,1,1,1,1,1,1,1,1,1,1,1,1,1,1,1,1,1,1,1,1,1,1,1,1,1,1,1,1,1,1,1,1,1,1,1,1,1,1,1,1,1,1,1,1,1],\"CoinName\":[\"Bitcoin\",\"Ethereum\",\"Litecoin\",\"Monero\",\"Ethereum Classic\",\"ZCash\",\"DigiByte\",\"ProsperCoin\",\"Spreadcoin\",\"Argentum\",\"MyriadCoin\",\"MoonCoin\",\"ZetaCoin\",\"SexCoin\",\"Quatloo\",\"QuarkCoin\",\"Riecoin\",\"Digitalcoin \",\"Catcoin\",\"CannaCoin\",\"CryptCoin\",\"Verge\",\"DevCoin\",\"EarthCoin\",\"E-Gulden\",\"Einsteinium\",\"Emerald\",\"Franko\",\"FeatherCoin\",\"GrandCoin\",\"GlobalCoin\",\"GoldCoin\",\"Infinite Coin\",\"IXcoin\",\"KrugerCoin\",\"LuckyCoin\",\"Litebar \",\"MegaCoin\",\"MediterraneanCoin\",\"MinCoin\",\"NobleCoin\",\"Namecoin\",\"NyanCoin\",\"RonPaulCoin\",\"StableCoin\",\"SmartCoin\",\"SysCoin\",\"TigerCoin\",\"TerraCoin\",\"UnbreakableCoin\",\"Unobtanium\",\"UroCoin\",\"ViaCoin\",\"Vertcoin\",\"WorldCoin\",\"JouleCoin\",\"ByteCoin\",\"DigitalNote \",\"MonaCoin\",\"Gulden\",\"PesetaCoin\",\"Wild Beast Coin\",\"Flo\",\"ArtByte\",\"Folding Coin\",\"Unitus\",\"CypherPunkCoin\",\"OmniCron\",\"GreenCoin\",\"Cryptonite\",\"MasterCoin\",\"SoonCoin\",\"1Credit\",\"MarsCoin \",\"Crypto\",\"Anarchists Prime\",\"BowsCoin\",\"Song Coin\",\"BitZeny\",\"Expanse\",\"Siacoin\",\"MindCoin\",\"I0coin\",\"Revolution VR\",\"HOdlcoin\",\"Gamecredits\",\"CarpeDiemCoin\",\"Adzcoin\",\"SoilCoin\",\"YoCoin\",\"SibCoin\",\"Francs\",\"BolivarCoin\",\"Omni\",\"PizzaCoin\",\"Komodo\",\"Karbo\",\"ZayedCoin\",\"Circuits of Value\",\"DopeCoin\",\"DollarCoin\",\"Shilling\",\"ZCoin\",\"Elementrem\",\"ZClassic\",\"KiloCoin\",\"ArtexCoin\",\"Kurrent\",\"Cannabis Industry Coin\",\"OsmiumCoin\",\"Bikercoins\",\"HexxCoin\",\"PacCoin\",\"Citadel\",\"BeaverCoin\",\"VaultCoin\",\"Zero\",\"Canada eCoin\",\"Zoin\",\"DubaiCoin\",\"EB3coin\",\"Coinonat\",\"BenjiRolls\",\"ILCoin\",\"EquiTrader\",\"Quantum Resistant Ledger\",\"Dynamic\",\"Nano\",\"ChanCoin\",\"Dinastycoin\",\"DigitalPrice\",\"Unify\",\"SocialCoin\",\"ArcticCoin\",\"DAS\",\"LeviarCoin\",\"Bitcore\",\"gCn Coin\",\"SmartCash\",\"Onix\",\"Bitcoin Cash\",\"Sojourn Coin\",\"NewYorkCoin\",\"FrazCoin\",\"Kronecoin\",\"AdCoin\",\"Linx\",\"Sumokoin\",\"BitcoinZ\",\"Elements\",\"VIVO Coin\",\"Bitcoin Gold\",\"Pirl\",\"eBoost\",\"Pura\",\"Innova\",\"Ellaism\",\"GoByte\",\"SHIELD\",\"UltraNote\",\"BitCoal\",\"DaxxCoin\",\"AC3\",\"Lethean\",\"PopularCoin\",\"Photon\",\"Sucre\",\"SparksPay\",\"GunCoin\",\"IrishCoin\",\"Pioneer Coin\",\"UnitedBitcoin\",\"Interzone\",\"TurtleCoin\",\"MUNcoin\",\"Niobio Cash\",\"ShareChain\",\"Travelflex\",\"KREDS\",\"BitFlip\",\"LottoCoin\",\"Crypto Improvement Fund\",\"Callisto Network\",\"BitTube\",\"Poseidon\",\"Aidos Kuneen\",\"Bitrolium\",\"Alpenschillling\",\"FuturoCoin\",\"Monero Classic\",\"Jumpcoin\",\"Infinex\",\"KEYCO\",\"GINcoin\",\"PlatinCoin\",\"Loki\",\"Newton Coin\",\"MassGrid\",\"PluraCoin\",\"Motion\",\"PlusOneCoin\",\"Axe\",\"HexCoin\",\"Webchain\",\"Ryo\",\"Urals Coin\",\"Qwertycoin\",\"Project Pai\",\"Azart\",\"Xchange\",\"CrypticCoin\",\"Actinium\",\"Bitcoin SV\",\"FREDEnergy\",\"Universal Molecule\",\"Lithium\",\"PirateCash\",\"Exosis\",\"Block-Logic\",\"Beam\",\"Bithereum\",\"SLICE\",\"BLAST\",\"Bitcoin Rhodium\",\"GlobalToken\",\"SolarCoin\",\"UFO Coin\",\"BlakeCoin\",\"Crypto Escudo\",\"Crown Coin\",\"SmileyCoin\",\"Groestlcoin\",\"Bata\",\"Pakcoin\",\"JoinCoin\",\"Vollar\",\"Reality Clash\",\"Beldex\",\"Horizen\"],\"TotalCoinSupply\":{\"__ndarray__\":\"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\",\"dtype\":\"float64\",\"order\":\"little\",\"shape\":[239]},\"TotalCoinsMined\":{\"__ndarray__\":\"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\",\"dtype\":\"float64\",\"order\":\"little\",\"shape\":[239]}},\"selected\":{\"id\":\"1535\"},\"selection_policy\":{\"id\":\"1550\"}},\"id\":\"1534\",\"type\":\"ColumnDataSource\"},{\"attributes\":{\"fill_alpha\":{\"value\":0.1},\"fill_color\":{\"value\":\"#ff7e0e\"},\"line_alpha\":{\"value\":0.1},\"line_color\":{\"value\":\"#ff7e0e\"},\"size\":{\"units\":\"screen\",\"value\":5.477225575051661},\"x\":{\"field\":\"TotalCoinsMined\"},\"y\":{\"field\":\"TotalCoinSupply\"}},\"id\":\"1538\",\"type\":\"Scatter\"},{\"attributes\":{},\"id\":\"1554\",\"type\":\"Selection\"},{\"attributes\":{},\"id\":\"1571\",\"type\":\"UnionRenderers\"},{\"attributes\":{\"data_source\":{\"id\":\"1553\"},\"glyph\":{\"id\":\"1556\"},\"hover_glyph\":null,\"muted_glyph\":{\"id\":\"1558\"},\"nonselection_glyph\":{\"id\":\"1557\"},\"selection_glyph\":null,\"view\":{\"id\":\"1560\"}},\"id\":\"1559\",\"type\":\"GlyphRenderer\"},{\"attributes\":{},\"id\":\"1501\",\"type\":\"WheelZoomTool\"},{\"attributes\":{},\"id\":\"1514\",\"type\":\"BasicTickFormatter\"},{\"attributes\":{},\"id\":\"1487\",\"type\":\"LinearScale\"},{\"attributes\":{},\"id\":\"1503\",\"type\":\"ResetTool\"},{\"attributes\":{},\"id\":\"1530\",\"type\":\"UnionRenderers\"},{\"attributes\":{\"end\":1.042857142857143,\"reset_end\":1.042857142857143,\"reset_start\":-0.04285714285714286,\"start\":-0.04285714285714286,\"tags\":[[[\"TotalCoinsMined\",\"TotalCoinsMined\",null]]]},\"id\":\"1476\",\"type\":\"Range1d\"},{\"attributes\":{\"overlay\":{\"id\":\"1504\"}},\"id\":\"1502\",\"type\":\"BoxZoomTool\"},{\"attributes\":{},\"id\":\"1492\",\"type\":\"BasicTicker\"},{\"attributes\":{\"data_source\":{\"id\":\"1516\"},\"glyph\":{\"id\":\"1519\"},\"hover_glyph\":null,\"muted_glyph\":{\"id\":\"1521\"},\"nonselection_glyph\":{\"id\":\"1520\"},\"selection_glyph\":null,\"view\":{\"id\":\"1523\"}},\"id\":\"1522\",\"type\":\"GlyphRenderer\"},{\"attributes\":{\"data\":{\"Class\":[3,3,3,3],\"CoinName\":[\"BiblePay\",\"LitecoinCash\",\"Poa Network\",\"Acute Angle Cloud\"],\"TotalCoinSupply\":{\"__ndarray__\":\"lPYGX5hMdT+8eapDboZLP4RaKOGWizA//Knx0k1iUD8=\",\"dtype\":\"float64\",\"order\":\"little\",\"shape\":[4]},\"TotalCoinsMined\":{\"__ndarray__\":\"j1gNkdpTXT+QpMXySiFFP5wZJXiPEis/ekNDBbiMUD8=\",\"dtype\":\"float64\",\"order\":\"little\",\"shape\":[4]}},\"selected\":{\"id\":\"1575\"},\"selection_policy\":{\"id\":\"1594\"}},\"id\":\"1574\",\"type\":\"ColumnDataSource\"},{\"attributes\":{\"fill_color\":{\"value\":\"#1f77b3\"},\"line_color\":{\"value\":\"#1f77b3\"},\"size\":{\"units\":\"screen\",\"value\":5.477225575051661},\"x\":{\"field\":\"TotalCoinsMined\"},\"y\":{\"field\":\"TotalCoinSupply\"}},\"id\":\"1519\",\"type\":\"Scatter\"},{\"attributes\":{\"axis\":{\"id\":\"1495\"},\"dimension\":1,\"grid_line_color\":null,\"ticker\":null},\"id\":\"1498\",\"type\":\"Grid\"},{\"attributes\":{\"below\":[{\"id\":\"1491\"}],\"center\":[{\"id\":\"1494\"},{\"id\":\"1498\"}],\"left\":[{\"id\":\"1495\"}],\"margin\":null,\"min_border_bottom\":10,\"min_border_left\":10,\"min_border_right\":10,\"min_border_top\":10,\"plot_height\":300,\"plot_width\":700,\"renderers\":[{\"id\":\"1522\"},{\"id\":\"1540\"},{\"id\":\"1559\"},{\"id\":\"1580\"}],\"right\":[{\"id\":\"1532\"}],\"sizing_mode\":\"fixed\",\"title\":{\"id\":\"1483\"},\"toolbar\":{\"id\":\"1505\"},\"x_range\":{\"id\":\"1476\"},\"x_scale\":{\"id\":\"1487\"},\"y_range\":{\"id\":\"1477\"},\"y_scale\":{\"id\":\"1489\"}},\"id\":\"1482\",\"subtype\":\"Figure\",\"type\":\"Plot\"}],\"root_ids\":[\"1474\"]},\"title\":\"Bokeh Application\",\"version\":\"2.1.1\"}};\n",
       "  var render_items = [{\"docid\":\"82396340-641d-46ea-9c79-6b3ebb30701b\",\"root_ids\":[\"1474\"],\"roots\":{\"1474\":\"831d8a77-3d30-4ce9-8241-dec5cd43cc89\"}}];\n",
       "  root.Bokeh.embed.embed_items_notebook(docs_json, render_items);\n",
       "  }\n",
       "if (root.Bokeh !== undefined) {\n",
       "    embed_document(root);\n",
       "  } else {\n",
       "    var attempts = 0;\n",
       "    var timer = setInterval(function(root) {\n",
       "      if (root.Bokeh !== undefined) {\n",
       "        clearInterval(timer);\n",
       "        embed_document(root);\n",
       "      } else if (document.readyState == \"complete\") {\n",
       "        attempts++;\n",
       "        if (attempts > 100) {\n",
       "          clearInterval(timer);\n",
       "          console.log(\"Bokeh: ERROR: Unable to run BokehJS code because BokehJS library is missing\");\n",
       "        }\n",
       "      }\n",
       "    }, 10, root)\n",
       "  }\n",
       "})(window);</script>"
      ],
      "text/plain": [
       ":NdOverlay   [Class]\n",
       "   :Scatter   [TotalCoinsMined]   (TotalCoinSupply,CoinName)"
      ]
     },
     "execution_count": 48,
     "metadata": {
      "application/vnd.holoviews_exec.v0+json": {
       "id": "1474"
      }
     },
     "output_type": "execute_result"
    }
   ],
   "source": [
    "# Create a hvplot.scatter plot using x=\"TotalCoinsMined\" and y=\"TotalCoinSupply\".\n",
    "new_cluster_df.hvplot.scatter(x='TotalCoinsMined', y='TotalCoinSupply', by='Class', hover_cols=['CoinName'])\n"
   ]
  },
  {
   "cell_type": "code",
   "execution_count": null,
   "metadata": {},
   "outputs": [],
   "source": []
  }
 ],
 "metadata": {
  "file_extension": ".py",
  "kernelspec": {
   "display_name": "PythonData",
   "language": "python",
   "name": "pythondata"
  },
  "language_info": {
   "codemirror_mode": {
    "name": "ipython",
    "version": 3
   },
   "file_extension": ".py",
   "mimetype": "text/x-python",
   "name": "python",
   "nbconvert_exporter": "python",
   "pygments_lexer": "ipython3",
   "version": "3.7.7"
  },
  "latex_envs": {
   "LaTeX_envs_menu_present": true,
   "autoclose": false,
   "autocomplete": true,
   "bibliofile": "biblio.bib",
   "cite_by": "apalike",
   "current_citInitial": 1,
   "eqLabelWithNumbers": true,
   "eqNumInitial": 1,
   "hotkeys": {
    "equation": "Ctrl-E",
    "itemize": "Ctrl-I"
   },
   "labels_anchors": false,
   "latex_user_defs": false,
   "report_style_numbering": false,
   "user_envs_cfg": false
  },
  "mimetype": "text/x-python",
  "name": "python",
  "npconvert_exporter": "python",
  "pygments_lexer": "ipython3",
  "version": 3
 },
 "nbformat": 4,
 "nbformat_minor": 2
}
